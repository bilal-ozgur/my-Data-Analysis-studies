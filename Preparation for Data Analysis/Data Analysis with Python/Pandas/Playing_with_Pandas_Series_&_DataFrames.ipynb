{
  "cells": [
    {
      "cell_type": "markdown",
      "metadata": {
        "id": "MkTCBtBXuPZA"
      },
      "source": [
        "___\n",
        "\n",
        "<p style=\"text-align: center;\"><img src=\"https://docs.google.com/uc?id=1lY0Uj5R04yMY3-ZppPWxqCr5pvBLYPnV\" class=\"img-fluid\" \n",
        "alt=\"CLRSWY\"></p>\n",
        "\n",
        "## <p style=\"background-color:#FDFEFE; font-family:newtimeroman; color:#9d4f8c; font-size:100%; text-align:center; border-radius:10px 10px;\">WAY TO REINVENT YOURSELF</p>"
      ]
    },
    {
      "cell_type": "markdown",
      "metadata": {
        "id": "GOYj57A-7TWc"
      },
      "source": [
        "<img src=https://i.ibb.co/6gCsHd6/1200px-Pandas-logo-svg.png width=\"700\" height=\"200\">\n",
        "\n",
        "## <p style=\"background-color:#FDFEFE; font-family:newtimeroman; color:#060108; font-size:200%; text-align:center; border-radius:10px 10px;\">Data Analysis with Python</p>\n",
        "\n",
        "## <p style=\"background-color:#FDFEFE; font-family:newtimeroman; color:#060108; font-size:150%; text-align:center; border-radius:10px 10px;\">Lab-04Session</p>\n",
        "\n",
        "## <p style=\"background-color:#FDFEFE; font-family:newtimeroman; color:#4d77cf; font-size:200%; text-align:center; border-radius:10px 10px;\">Playing with Pandas Series & DataFrames</p>"
      ]
    },
    {
      "cell_type": "markdown",
      "metadata": {
        "id": "_Q3eZU7k7TWc"
      },
      "source": [
        "<a id=\"toc\"></a>\n",
        "\n",
        "## <p style=\"background-color:#9d4f8c; font-family:newtimeroman; color:#FFF9ED; font-size:175%; text-align:center; border-radius:10px 10px;\">Content</p>\n",
        "\n",
        "* [OVERVIEW](#0)\n",
        "* [IMPORTING LIBRARIES NEEDED IN THIS NOTEBOOK](#1)\n",
        "* [CREATING NUMPY ARRAYS](#2)\n",
        "* [WORKING WITH SERIES DATA STRUCTURE](#3)\n",
        "* [CREATING A PANDAS DATAFRAMES](#4)\n",
        "* [WORKING WITH DATAFRAMES](#5)\n",
        "* [INDEXING, SLICING & SELECTION](#6)\n",
        "* [THE END OF THE LAB-01 SESSION](#7)"
      ]
    },
    {
      "cell_type": "markdown",
      "metadata": {
        "id": "TUlFJb127TWc"
      },
      "source": [
        "## <p style=\"background-color:#9d4f8c; font-family:newtimeroman; color:#FFF9ED; font-size:175%; text-align:center; border-radius:10px 10px;\">Overview</p>\n",
        "\n",
        "<a id=\"0\"></a>\n",
        "<a href=\"#toc\" class=\"btn btn-primary btn-sm\" role=\"button\" aria-pressed=\"true\" \n",
        "style=\"color:blue; background-color:#dfa8e4\" data-toggle=\"popover\">Content</a>\n",
        "\n",
        "## What is Pandas in Python?\n",
        "\n",
        "[**Pandas**](http://pandas.pydata.org/) is the most famous python library providing fast, flexible, and expressive data structures designed to make working with \"relational\" or \"labeled\" data both easy and intuitive. It aims to be the fundamental high-level building block for doing practical, real world data analysis in Python. Additionally, it has the broader goal of becoming the most powerful and flexible open source data analysis / manipulation tool available in any language. It is already well on its way towards this goal.\n",
        "\n",
        "In Pandas, the data is usually utilized to support the statistical analysis in SciPy, plotting functions from Matplotlib, and machine learning algorithms in Scikit-learn.\n",
        "\n",
        "Its popularity has surged in recent years, coincident with the rise of fields such as data science and machine learning. Here’s a popularity comparison over time against STATA, SAS, and [dplyr](https://dplyr.tidyverse.org/) courtesy of Stack Overflow Trends\n",
        "\n",
        "<img src=\"https://i.ibb.co/crf3ksp/pandas-vs-rest.png\" style=\"\">\n",
        "\n",
        "## Core Components of Pandas Data Structure\n",
        "\n",
        "Organizing any data in a particular way is known as a data structure. **``Pandas``** have **two core data structure** components, and all operations are based on those two objects. Here are the two pandas data structures:\n",
        "\n",
        "  - [**Series :**](https://pandas.pydata.org/docs/reference/api/pandas.Series.html) A kind of one-dimensional array of any data type that we specified in the pandas module.\n",
        "  - [**DataFrame :**](https://pandas.pydata.org/docs/reference/api/pandas.DataFrame.html) a 2 dimensional data structure, like a 2 dimensional array, or a table with rows and columns of potentially different types.\n",
        "\n",
        "## Main Features\n",
        "\n",
        "Just as [**NumPy**](http://www.numpy.org/) provides the basic array data type plus core array operations, **``Pandas``**;\n",
        "\n",
        "1. defines fundamental structures for working with data and  \n",
        "1. endows them with methods that facilitate operations such as  \n",
        "  \n",
        "  - reading in data  \n",
        "  - adjusting indices  \n",
        "  - working with dates and time series  \n",
        "  - sorting, grouping, re-ordering and general data munging <sup><a href=#mung id=mung-link>[1]</a></sup>  \n",
        "  - dealing with missing values, etc., etc.  \n",
        "  \n",
        "Here are just a few of the things that pandas does well:\n",
        "\n",
        "  - Easy handling of [missing data](https://pandas.pydata.org/pandas-docs/stable/user_guide/missing_data.html) (represented as **``NaN``**) in floating point as well as non-floating point data\n",
        "  - Size mutability: columns can be [inserted and deleted](https://pandas.pydata.org/pandas-docs/stable/user_guide/dsintro.html) from DataFrame and higher dimensional objects\n",
        "  - Automatic and explicit [data alignment](https://pandas.pydata.org/pandas-docs/stable/user_guide/dsintro.html): objects can be explicitly aligned to a set of labels, or the user can simply ignore the labels and let **``Series``**, **``DataFrame``**, etc. automatically align the data for you in computations\n",
        "  - Powerful, flexible [group by](https://pandas.pydata.org/pandas-docs/stable/user_guide/groupby.html) functionality to perform split-apply-combine operations on data sets, for both aggregating and transforming data\n",
        "  - Make it [easy to convert](https://pandas.pydata.org/pandas-docs/stable/user_guide/dsintro.html) ragged, differently-indexed data in other Python and NumPy data structures into DataFrame objects\n",
        "  - Intelligent label-based [slicing](https://pandas.pydata.org/pandas-docs/stable/user_guide/indexing.html), [fancy indexing](https://pandas.pydata.org/pandas-docs/stable/user_guide/indexing.html), and [subsetting](https://pandas.pydata.org/pandas-docs/stable/user_guide/indexing.html) of large data sets\n",
        "  - Intuitive [merging](https://pandas.pydata.org/pandas-docs/stable/user_guide/merging.html) and [joining](https://pandas.pydata.org/pandas-docs/stable/user_guide/merging.html) datasets\n",
        "  - Flexible [reshaping](https://pandas.pydata.org/pandas-docs/stable/user_guide/reshaping.html) and [pivoting](https://pandas.pydata.org/pandas-docs/stable/user_guide/reshaping.html) of datasets\n",
        "  - [Hierarchical labeling](https://pandas.pydata.org/pandas-docs/stable/user_guide/indexing.html) of axes (possible to have multiple labels per tick)\n",
        "  - Robust IO tools for loading data from [flat files](https://pandas.pydata.org/pandas-docs/stable/user_guide/io.html) (CSV and delimited), [Excel files](https://pandas.pydata.org/pandas-docs/stable/user_guide/io.html), [databases](https://pandas.pydata.org/pandas-docs/stable/user_guide/io.html), and saving/loading data from the ultrafast [HDF5 format](https://pandas.pydata.org/pandas-docs/stable/user_guide/io.html)\n",
        "  - [Time series](https://pandas.pydata.org/pandas-docs/stable/user_guide/timeseries.html)-specific functionality: date range generation and frequency conversion, moving window statistics, moving window linear regressions, date shifting and lagging, etc.\n",
        "\n",
        "More sophisticated statistical functionality is left to other packages, such as [statsmodels](http://www.statsmodels.org/) and [scikit-learn](http://scikit-learn.org/), which are built on top of pandas.\n",
        "\n",
        "This session will provide a basic introduction to Pandas. Throughout the session, we will assume that the following imports have taken place."
      ]
    },
    {
      "cell_type": "markdown",
      "metadata": {
        "id": "C4uLnu2r7TWe"
      },
      "source": [
        "## <p style=\"background-color:#9d4f8c; font-family:newtimeroman; color:#FFF9ED; font-size:175%; text-align:center; border-radius:10px 10px;\">Importing Libraries Needed in This Notebook</p>\n",
        "\n",
        "<a id=\"1\"></a>\n",
        "<a href=\"#toc\" class=\"btn btn-primary btn-sm\" role=\"button\" aria-pressed=\"true\" \n",
        "style=\"color:blue; background-color:#dfa8e4\" data-toggle=\"popover\">Content</a>\n",
        "\n",
        "Once you've installed NumPy & Pandas you can import them as a library:"
      ]
    },
    {
      "cell_type": "code",
      "execution_count": 1,
      "metadata": {
        "id": "i7VkXwmNuPZL"
      },
      "outputs": [],
      "source": [
        "import numpy as np\n",
        "import pandas as pd\n",
        "\n",
        "# pd.options.display.float_format = '{:20,.2f}'.format  # Suppressing scientific notation in pandas"
      ]
    },
    {
      "cell_type": "code",
      "execution_count": 2,
      "metadata": {
        "colab": {
          "base_uri": "https://localhost:8080/",
          "height": 206
        },
        "id": "mRi4eB7r7TWf",
        "outputId": "afad1604-49b1-418e-a4db-3f0ef645b5f6"
      },
      "outputs": [
        {
          "output_type": "execute_result",
          "data": {
            "text/plain": [
              "         random\n",
              "0  1.462524e-08\n",
              "1  1.006834e-03\n",
              "2  4.556732e-04\n",
              "3  1.362859e-01\n",
              "4  5.190431e-07"
            ],
            "text/html": [
              "\n",
              "  <div id=\"df-aeb39c76-9e2d-48e4-9061-64b696b03d2b\">\n",
              "    <div class=\"colab-df-container\">\n",
              "      <div>\n",
              "<style scoped>\n",
              "    .dataframe tbody tr th:only-of-type {\n",
              "        vertical-align: middle;\n",
              "    }\n",
              "\n",
              "    .dataframe tbody tr th {\n",
              "        vertical-align: top;\n",
              "    }\n",
              "\n",
              "    .dataframe thead th {\n",
              "        text-align: right;\n",
              "    }\n",
              "</style>\n",
              "<table border=\"1\" class=\"dataframe\">\n",
              "  <thead>\n",
              "    <tr style=\"text-align: right;\">\n",
              "      <th></th>\n",
              "      <th>random</th>\n",
              "    </tr>\n",
              "  </thead>\n",
              "  <tbody>\n",
              "    <tr>\n",
              "      <th>0</th>\n",
              "      <td>1.462524e-08</td>\n",
              "    </tr>\n",
              "    <tr>\n",
              "      <th>1</th>\n",
              "      <td>1.006834e-03</td>\n",
              "    </tr>\n",
              "    <tr>\n",
              "      <th>2</th>\n",
              "      <td>4.556732e-04</td>\n",
              "    </tr>\n",
              "    <tr>\n",
              "      <th>3</th>\n",
              "      <td>1.362859e-01</td>\n",
              "    </tr>\n",
              "    <tr>\n",
              "      <th>4</th>\n",
              "      <td>5.190431e-07</td>\n",
              "    </tr>\n",
              "  </tbody>\n",
              "</table>\n",
              "</div>\n",
              "      <button class=\"colab-df-convert\" onclick=\"convertToInteractive('df-aeb39c76-9e2d-48e4-9061-64b696b03d2b')\"\n",
              "              title=\"Convert this dataframe to an interactive table.\"\n",
              "              style=\"display:none;\">\n",
              "        \n",
              "  <svg xmlns=\"http://www.w3.org/2000/svg\" height=\"24px\"viewBox=\"0 0 24 24\"\n",
              "       width=\"24px\">\n",
              "    <path d=\"M0 0h24v24H0V0z\" fill=\"none\"/>\n",
              "    <path d=\"M18.56 5.44l.94 2.06.94-2.06 2.06-.94-2.06-.94-.94-2.06-.94 2.06-2.06.94zm-11 1L8.5 8.5l.94-2.06 2.06-.94-2.06-.94L8.5 2.5l-.94 2.06-2.06.94zm10 10l.94 2.06.94-2.06 2.06-.94-2.06-.94-.94-2.06-.94 2.06-2.06.94z\"/><path d=\"M17.41 7.96l-1.37-1.37c-.4-.4-.92-.59-1.43-.59-.52 0-1.04.2-1.43.59L10.3 9.45l-7.72 7.72c-.78.78-.78 2.05 0 2.83L4 21.41c.39.39.9.59 1.41.59.51 0 1.02-.2 1.41-.59l7.78-7.78 2.81-2.81c.8-.78.8-2.07 0-2.86zM5.41 20L4 18.59l7.72-7.72 1.47 1.35L5.41 20z\"/>\n",
              "  </svg>\n",
              "      </button>\n",
              "      \n",
              "  <style>\n",
              "    .colab-df-container {\n",
              "      display:flex;\n",
              "      flex-wrap:wrap;\n",
              "      gap: 12px;\n",
              "    }\n",
              "\n",
              "    .colab-df-convert {\n",
              "      background-color: #E8F0FE;\n",
              "      border: none;\n",
              "      border-radius: 50%;\n",
              "      cursor: pointer;\n",
              "      display: none;\n",
              "      fill: #1967D2;\n",
              "      height: 32px;\n",
              "      padding: 0 0 0 0;\n",
              "      width: 32px;\n",
              "    }\n",
              "\n",
              "    .colab-df-convert:hover {\n",
              "      background-color: #E2EBFA;\n",
              "      box-shadow: 0px 1px 2px rgba(60, 64, 67, 0.3), 0px 1px 3px 1px rgba(60, 64, 67, 0.15);\n",
              "      fill: #174EA6;\n",
              "    }\n",
              "\n",
              "    [theme=dark] .colab-df-convert {\n",
              "      background-color: #3B4455;\n",
              "      fill: #D2E3FC;\n",
              "    }\n",
              "\n",
              "    [theme=dark] .colab-df-convert:hover {\n",
              "      background-color: #434B5C;\n",
              "      box-shadow: 0px 1px 3px 1px rgba(0, 0, 0, 0.15);\n",
              "      filter: drop-shadow(0px 1px 2px rgba(0, 0, 0, 0.3));\n",
              "      fill: #FFFFFF;\n",
              "    }\n",
              "  </style>\n",
              "\n",
              "      <script>\n",
              "        const buttonEl =\n",
              "          document.querySelector('#df-aeb39c76-9e2d-48e4-9061-64b696b03d2b button.colab-df-convert');\n",
              "        buttonEl.style.display =\n",
              "          google.colab.kernel.accessAllowed ? 'block' : 'none';\n",
              "\n",
              "        async function convertToInteractive(key) {\n",
              "          const element = document.querySelector('#df-aeb39c76-9e2d-48e4-9061-64b696b03d2b');\n",
              "          const dataTable =\n",
              "            await google.colab.kernel.invokeFunction('convertToInteractive',\n",
              "                                                     [key], {});\n",
              "          if (!dataTable) return;\n",
              "\n",
              "          const docLinkHtml = 'Like what you see? Visit the ' +\n",
              "            '<a target=\"_blank\" href=https://colab.research.google.com/notebooks/data_table.ipynb>data table notebook</a>'\n",
              "            + ' to learn more about interactive tables.';\n",
              "          element.innerHTML = '';\n",
              "          dataTable['output_type'] = 'display_data';\n",
              "          await google.colab.output.renderOutput(dataTable, element);\n",
              "          const docLink = document.createElement('div');\n",
              "          docLink.innerHTML = docLinkHtml;\n",
              "          element.appendChild(docLink);\n",
              "        }\n",
              "      </script>\n",
              "    </div>\n",
              "  </div>\n",
              "  "
            ]
          },
          "metadata": {},
          "execution_count": 2
        }
      ],
      "source": [
        "df = pd.DataFrame(np.random.random(5)**10, columns=[\"random\"])\n",
        "df"
      ]
    },
    {
      "cell_type": "code",
      "execution_count": 3,
      "metadata": {
        "colab": {
          "base_uri": "https://localhost:8080/"
        },
        "id": "kQxwgXRf7TWf",
        "outputId": "597857be-469c-461e-830e-0a1207b9a860"
      },
      "outputs": [
        {
          "output_type": "stream",
          "name": "stdout",
          "text": [
            "True\n",
            "True\n",
            "True\n",
            "True\n",
            "True\n"
          ]
        }
      ],
      "source": [
        "print(1.203782e-03 == 0.001203782)\n",
        "print(1.088712e-05 == 0.00001088712)\n",
        "print(9.880200e-09 == 0.000000009880200)\n",
        "print(6.883080e-07 == 0.0000006883080)\n",
        "print(9.150161e-07 == 0.0000009150161)"
      ]
    },
    {
      "cell_type": "code",
      "execution_count": 4,
      "metadata": {
        "colab": {
          "base_uri": "https://localhost:8080/"
        },
        "id": "mloAw7oU7TWg",
        "outputId": "2ec5751b-684f-4acb-df98-e9c9f3e25ad5"
      },
      "outputs": [
        {
          "output_type": "stream",
          "name": "stdout",
          "text": [
            "   random\n",
            "0    0.00\n",
            "1    0.00\n",
            "2    0.00\n",
            "3    0.14\n",
            "4    0.00\n"
          ]
        }
      ],
      "source": [
        "# Solution-1 --> round()function\n",
        "\n",
        "print(df.round(2))\n",
        "# print(df.round(3))\n",
        "# print(df.round(4))\n",
        "# print(df.round(5))\n",
        "# print(df.round(5))"
      ]
    },
    {
      "cell_type": "code",
      "execution_count": 5,
      "metadata": {
        "colab": {
          "base_uri": "https://localhost:8080/"
        },
        "id": "6HitXkgW7TWg",
        "outputId": "83e0f3c2-c54e-4f91-dd4d-c9c079b4cf60"
      },
      "outputs": [
        {
          "output_type": "stream",
          "name": "stdout",
          "text": [
            "[4.90124121e-03 5.75578938e-05 3.03247409e-03 4.09312793e-03\n",
            " 2.00573020e-03]\n",
            "------------------------------\n",
            "[0.005 0.    0.003 0.004 0.002]\n"
          ]
        }
      ],
      "source": [
        "# For numpy arrays\n",
        "\n",
        "arr = np.random.random(5)**10\n",
        "print(arr)\n",
        "print(\"---\"*10)\n",
        "print(np.round(arr,3))"
      ]
    },
    {
      "cell_type": "code",
      "execution_count": 6,
      "metadata": {
        "colab": {
          "base_uri": "https://localhost:8080/",
          "height": 206
        },
        "id": "r6-4zgF47TWg",
        "outputId": "d837d321-61ca-4188-dda9-bd3cca4becbd"
      },
      "outputs": [
        {
          "output_type": "execute_result",
          "data": {
            "text/plain": [
              "                random\n",
              "0               0.0000\n",
              "1               0.0010\n",
              "2               0.0005\n",
              "3               0.1363\n",
              "4               0.0000"
            ],
            "text/html": [
              "\n",
              "  <div id=\"df-66643fd7-f668-46d2-82e2-44870d1fc6c7\">\n",
              "    <div class=\"colab-df-container\">\n",
              "      <div>\n",
              "<style scoped>\n",
              "    .dataframe tbody tr th:only-of-type {\n",
              "        vertical-align: middle;\n",
              "    }\n",
              "\n",
              "    .dataframe tbody tr th {\n",
              "        vertical-align: top;\n",
              "    }\n",
              "\n",
              "    .dataframe thead th {\n",
              "        text-align: right;\n",
              "    }\n",
              "</style>\n",
              "<table border=\"1\" class=\"dataframe\">\n",
              "  <thead>\n",
              "    <tr style=\"text-align: right;\">\n",
              "      <th></th>\n",
              "      <th>random</th>\n",
              "    </tr>\n",
              "  </thead>\n",
              "  <tbody>\n",
              "    <tr>\n",
              "      <th>0</th>\n",
              "      <td>0.0000</td>\n",
              "    </tr>\n",
              "    <tr>\n",
              "      <th>1</th>\n",
              "      <td>0.0010</td>\n",
              "    </tr>\n",
              "    <tr>\n",
              "      <th>2</th>\n",
              "      <td>0.0005</td>\n",
              "    </tr>\n",
              "    <tr>\n",
              "      <th>3</th>\n",
              "      <td>0.1363</td>\n",
              "    </tr>\n",
              "    <tr>\n",
              "      <th>4</th>\n",
              "      <td>0.0000</td>\n",
              "    </tr>\n",
              "  </tbody>\n",
              "</table>\n",
              "</div>\n",
              "      <button class=\"colab-df-convert\" onclick=\"convertToInteractive('df-66643fd7-f668-46d2-82e2-44870d1fc6c7')\"\n",
              "              title=\"Convert this dataframe to an interactive table.\"\n",
              "              style=\"display:none;\">\n",
              "        \n",
              "  <svg xmlns=\"http://www.w3.org/2000/svg\" height=\"24px\"viewBox=\"0 0 24 24\"\n",
              "       width=\"24px\">\n",
              "    <path d=\"M0 0h24v24H0V0z\" fill=\"none\"/>\n",
              "    <path d=\"M18.56 5.44l.94 2.06.94-2.06 2.06-.94-2.06-.94-.94-2.06-.94 2.06-2.06.94zm-11 1L8.5 8.5l.94-2.06 2.06-.94-2.06-.94L8.5 2.5l-.94 2.06-2.06.94zm10 10l.94 2.06.94-2.06 2.06-.94-2.06-.94-.94-2.06-.94 2.06-2.06.94z\"/><path d=\"M17.41 7.96l-1.37-1.37c-.4-.4-.92-.59-1.43-.59-.52 0-1.04.2-1.43.59L10.3 9.45l-7.72 7.72c-.78.78-.78 2.05 0 2.83L4 21.41c.39.39.9.59 1.41.59.51 0 1.02-.2 1.41-.59l7.78-7.78 2.81-2.81c.8-.78.8-2.07 0-2.86zM5.41 20L4 18.59l7.72-7.72 1.47 1.35L5.41 20z\"/>\n",
              "  </svg>\n",
              "      </button>\n",
              "      \n",
              "  <style>\n",
              "    .colab-df-container {\n",
              "      display:flex;\n",
              "      flex-wrap:wrap;\n",
              "      gap: 12px;\n",
              "    }\n",
              "\n",
              "    .colab-df-convert {\n",
              "      background-color: #E8F0FE;\n",
              "      border: none;\n",
              "      border-radius: 50%;\n",
              "      cursor: pointer;\n",
              "      display: none;\n",
              "      fill: #1967D2;\n",
              "      height: 32px;\n",
              "      padding: 0 0 0 0;\n",
              "      width: 32px;\n",
              "    }\n",
              "\n",
              "    .colab-df-convert:hover {\n",
              "      background-color: #E2EBFA;\n",
              "      box-shadow: 0px 1px 2px rgba(60, 64, 67, 0.3), 0px 1px 3px 1px rgba(60, 64, 67, 0.15);\n",
              "      fill: #174EA6;\n",
              "    }\n",
              "\n",
              "    [theme=dark] .colab-df-convert {\n",
              "      background-color: #3B4455;\n",
              "      fill: #D2E3FC;\n",
              "    }\n",
              "\n",
              "    [theme=dark] .colab-df-convert:hover {\n",
              "      background-color: #434B5C;\n",
              "      box-shadow: 0px 1px 3px 1px rgba(0, 0, 0, 0.15);\n",
              "      filter: drop-shadow(0px 1px 2px rgba(0, 0, 0, 0.3));\n",
              "      fill: #FFFFFF;\n",
              "    }\n",
              "  </style>\n",
              "\n",
              "      <script>\n",
              "        const buttonEl =\n",
              "          document.querySelector('#df-66643fd7-f668-46d2-82e2-44870d1fc6c7 button.colab-df-convert');\n",
              "        buttonEl.style.display =\n",
              "          google.colab.kernel.accessAllowed ? 'block' : 'none';\n",
              "\n",
              "        async function convertToInteractive(key) {\n",
              "          const element = document.querySelector('#df-66643fd7-f668-46d2-82e2-44870d1fc6c7');\n",
              "          const dataTable =\n",
              "            await google.colab.kernel.invokeFunction('convertToInteractive',\n",
              "                                                     [key], {});\n",
              "          if (!dataTable) return;\n",
              "\n",
              "          const docLinkHtml = 'Like what you see? Visit the ' +\n",
              "            '<a target=\"_blank\" href=https://colab.research.google.com/notebooks/data_table.ipynb>data table notebook</a>'\n",
              "            + ' to learn more about interactive tables.';\n",
              "          element.innerHTML = '';\n",
              "          dataTable['output_type'] = 'display_data';\n",
              "          await google.colab.output.renderOutput(dataTable, element);\n",
              "          const docLink = document.createElement('div');\n",
              "          docLink.innerHTML = docLinkHtml;\n",
              "          element.appendChild(docLink);\n",
              "        }\n",
              "      </script>\n",
              "    </div>\n",
              "  </div>\n",
              "  "
            ]
          },
          "metadata": {},
          "execution_count": 6
        }
      ],
      "source": [
        "# Solution-2\n",
        "\n",
        "pd.options.display.float_format = '{:20,.4f}'.format\n",
        "df"
      ]
    },
    {
      "cell_type": "code",
      "execution_count": 7,
      "metadata": {
        "colab": {
          "base_uri": "https://localhost:8080/"
        },
        "id": "SkEQSxVA7TWg",
        "outputId": "bf15d819-b9fc-4dcf-e3ef-32795872a7da"
      },
      "outputs": [
        {
          "output_type": "stream",
          "name": "stdout",
          "text": [
            "[4.90124121e-03 5.75578938e-05 3.03247409e-03 4.09312793e-03\n",
            " 2.00573020e-03]\n",
            "------------------------------\n",
            "[0.00490124 0.00005756 0.00303247 0.00409313 0.00200573]\n",
            "------------------------------\n",
            "[0.0049 0.0001 0.003  0.0041 0.002 ]\n"
          ]
        }
      ],
      "source": [
        "# For numpy arrays\n",
        "\n",
        "print(arr)\n",
        "print(\"---\"*10)\n",
        "np.set_printoptions(suppress=True)\n",
        "print(arr)\n",
        "print(\"---\"*10)\n",
        "np.set_printoptions(precision=4)\n",
        "print(arr)"
      ]
    },
    {
      "cell_type": "code",
      "execution_count": 8,
      "metadata": {
        "id": "xn-DZnfB7TWg"
      },
      "outputs": [],
      "source": [
        "np.set_printoptions(precision=None, suppress=None)"
      ]
    },
    {
      "cell_type": "code",
      "execution_count": 9,
      "metadata": {
        "id": "65qMKZq47TWg"
      },
      "outputs": [],
      "source": [
        "pd.options.display.float_format = '{:20,.2f}'.format  # Suppressing scientific notation in pandas"
      ]
    },
    {
      "cell_type": "markdown",
      "metadata": {
        "id": "fMPb00d-7TWh"
      },
      "source": [
        "## <p style=\"background-color:#9d4f8c; font-family:newtimeroman; color:#FFF9ED; font-size:175%; text-align:center; border-radius:10px 10px;\">Creating Numpy Arrays</p>\n",
        "\n",
        "<a id=\"2\"></a>\n",
        "<a href=\"#toc\" class=\"btn btn-primary btn-sm\" role=\"button\" aria-pressed=\"true\" \n",
        "style=\"color:blue; background-color:#dfa8e4\" data-toggle=\"popover\">Content</a>\n",
        "\n",
        "**``NumPy``**, which stands for Numerical Python, is a library consisting of multidimensional array objects. **``Numpy Array``** is the foundation for all data science in Python. Arrays can be multidimensional, and all elements in an array need to be of the same type, all integers or all floats. Python lists are a substitute for arrays, but they fail to deliver the performance required while computing large sets of numerical data.\n",
        "\n",
        "**Advantages of using an Array**\n",
        "* Arrays can handle very large datasets efficiently\n",
        "* Computationally-memory efficient\n",
        "* Faster calculations and analysis than lists\n",
        "* Diverse functionality (many functions in Python packages). With several Python packages that make trend modeling, statistics, and visualization easier.\n",
        "\n",
        "**You can create a basic Array by calling** **``numpy.array()``**.\n",
        "\n",
        "**``numpy.array(object, dtype=None, *, copy=True, order='K', subok=False, ndmin=0, like=None)``**\n",
        "\n",
        "**``Pandas Series``** is a **one-dimensional** data structure. It can hold data of many types including **``objects``**, **``floats``**, **``strings``** and **``integers``**. You can create a Series by calling **``pandas.Series()``**. A **``list``**, **``numpy array``**, **``dict``** can be turned into a **``Pandas Series``**. You should use the simplest data structure that meets your needs [Source](https://pythonbasics.org/pandas-series/). The **``axis labels``** are collectively called **``index``**. **``Labels``** need not to be unique but must be a [**hashable type**](https://stackoverflow.com/questions/14535730/what-does-hashable-mean-in-python#:~:text=In%20Python%2C%20any%20immutable%20object,sets%20to%20track%20unique%20values.). The object supports both integer and label-based indexing and provides a host of methods for performing operations involving the index [Source](https://www.geeksforgeeks.org/creating-a-pandas-series/).\n",
        "\n",
        "**``Series``** and **``DataFrame``** are two important data types defined by Pandas.\n",
        "\n",
        "You can think of a Series as a “column” of data, such as a collection of observations on a single variable.\n",
        "\n",
        "A DataFrame is an object for storing related columns of data or combination of Series.\n",
        "\n",
        "**``A Series``** holding a variety of object types is a **one-dimensional data structure** and **homogeneous**; that is, all data are of the same type and are implicitly labelled with an index. For example, we can have a Series of integers, real numbers, characters, strings, dictionaries, etc. We can conveniently manipulate these series performing operations like adding, deleting, ordering, joining, filtering, vectorized operations, statistical analysis, plotting, etc. \n",
        "\n",
        "**``A Series``** is very **similar to a NumPy array** (in fact it is built on top of the NumPy array object). **What differentiates** the NumPy array from a Series, is that a Series can **have axis labels**, meaning it can be indexed by a label, instead of just a number location. It also doesn’t need to hold numeric data, it can hold any arbitrary Python Object [Source](http://www.datasciencelovers.com/python-for-data-science/pandas-series/).\n",
        "\n",
        "So important point to remember for Pandas series is:\n",
        "\n",
        "- Homogeneous data\n",
        "- Size Immutable\n",
        "- Values of Data Mutable\n",
        "\n",
        "**You can create a Series by calling** **``pandas.Series()``**. A **``list``**, **``numpy array``**, **``dict``** can be turned into a Pandas Series.\n",
        "\n",
        "**``pd.Series(data=None, index=None, dtype=None, name=None, copy=False, fastpath=False)``**"
      ]
    },
    {
      "cell_type": "markdown",
      "metadata": {
        "id": "DCQDjwp97TWh"
      },
      "source": [
        "<span style=\"color:blue\">**Create a basic Numpy Array named \"my_array\" using the following list.**</span>\n",
        "\n",
        "[0, 1, 2, 3, 4]"
      ]
    },
    {
      "cell_type": "code",
      "execution_count": 10,
      "metadata": {
        "colab": {
          "base_uri": "https://localhost:8080/"
        },
        "id": "8ELZbqN87TWh",
        "outputId": "715946b1-9b4f-4c5e-8713-ceb05335d631"
      },
      "outputs": [
        {
          "output_type": "execute_result",
          "data": {
            "text/plain": [
              "array([0, 1, 2, 3, 4])"
            ]
          },
          "metadata": {},
          "execution_count": 10
        }
      ],
      "source": [
        "# YOUR CODE IS HERE\n",
        "\n",
        "my_array = np.array([0, 1, 2, 3, 4])\n",
        "my_array"
      ]
    },
    {
      "cell_type": "markdown",
      "metadata": {
        "id": "4NTxCLDh7TWh"
      },
      "source": [
        "<span style=\"color:blue\">**Create an empty NumPy array named \"empty_array\" of (3, 4) shape including integers.**</span>"
      ]
    },
    {
      "cell_type": "code",
      "execution_count": 11,
      "metadata": {
        "colab": {
          "base_uri": "https://localhost:8080/"
        },
        "id": "EfJm5JKq7TWh",
        "outputId": "0d148c2c-4d4b-448e-9f2b-e2f6ab3a291a"
      },
      "outputs": [
        {
          "output_type": "execute_result",
          "data": {
            "text/plain": [
              "array([[65523984,        0,        0,        0],\n",
              "       [       0,        0,        0,        0],\n",
              "       [       0,        0,        0,        0]])"
            ]
          },
          "metadata": {},
          "execution_count": 11
        }
      ],
      "source": [
        "# YOUR CODE IS HERE\n",
        "\n",
        "empty_array = np.empty((3, 4), dtype=int)\n",
        "empty_array"
      ]
    },
    {
      "cell_type": "raw",
      "metadata": {
        "id": "gR-6mTg_7TWh"
      },
      "source": [
        "Desired Output:\n",
        "\n",
        "array([[0, 0, 0, 0],\n",
        "       [0, 0, 0, 0],\n",
        "       [0, 0, 0, 0]])"
      ]
    },
    {
      "cell_type": "code",
      "execution_count": 12,
      "metadata": {
        "id": "H4MzLCf27TWi"
      },
      "outputs": [],
      "source": [
        "# Same output with NP.ZEROS \n",
        "# difference between NP.ZEROS ile NP.EMPTY "
      ]
    },
    {
      "cell_type": "code",
      "execution_count": 13,
      "metadata": {
        "colab": {
          "base_uri": "https://localhost:8080/"
        },
        "id": "Sg3_E2qz7TWi",
        "outputId": "6619c598-8675-435a-aff2-93ed8b684ab8"
      },
      "outputs": [
        {
          "output_type": "execute_result",
          "data": {
            "text/plain": [
              "array([[0, 0, 0, 0],\n",
              "       [0, 0, 0, 0],\n",
              "       [0, 0, 0, 0]])"
            ]
          },
          "metadata": {},
          "execution_count": 13
        }
      ],
      "source": [
        "zero_array = np.zeros((3, 4), dtype=int)\n",
        "zero_array"
      ]
    },
    {
      "cell_type": "code",
      "execution_count": 14,
      "metadata": {
        "colab": {
          "base_uri": "https://localhost:8080/"
        },
        "id": "x0KTwEwH7TWi",
        "outputId": "ab27c09b-3f85-4333-808e-1fd3a5cc9398"
      },
      "outputs": [
        {
          "output_type": "execute_result",
          "data": {
            "text/plain": [
              "array([[0.005, 0.003],\n",
              "       [0.004, 0.002]])"
            ]
          },
          "metadata": {},
          "execution_count": 14
        }
      ],
      "source": [
        "np.empty((2, 2))"
      ]
    },
    {
      "cell_type": "code",
      "execution_count": 15,
      "metadata": {
        "colab": {
          "base_uri": "https://localhost:8080/"
        },
        "id": "_gwmtG8h7TWi",
        "outputId": "41088e8c-b231-4937-a414-590ce15f718a"
      },
      "outputs": [
        {
          "output_type": "execute_result",
          "data": {
            "text/plain": [
              "array([[0.005, 0.003],\n",
              "       [0.004, 0.002]])"
            ]
          },
          "metadata": {},
          "execution_count": 15
        }
      ],
      "source": [
        "np.empty([2,2])"
      ]
    },
    {
      "cell_type": "markdown",
      "metadata": {
        "id": "l0Oo9APx7TWi"
      },
      "source": [
        "<span style=\"color:blue\">**Create a full NumPy array of named \"full_array\" (3, 3) shape including 99.99 floating points.**</span>"
      ]
    },
    {
      "cell_type": "code",
      "execution_count": 16,
      "metadata": {
        "colab": {
          "base_uri": "https://localhost:8080/"
        },
        "id": "ATV3WDqj7TWi",
        "outputId": "17dcc2bf-02e7-4587-c4ab-d2a53f869d23"
      },
      "outputs": [
        {
          "output_type": "execute_result",
          "data": {
            "text/plain": [
              "array([[99.99, 99.99, 99.99],\n",
              "       [99.99, 99.99, 99.99],\n",
              "       [99.99, 99.99, 99.99]])"
            ]
          },
          "metadata": {},
          "execution_count": 16
        }
      ],
      "source": [
        "# YOUR CODE IS HERE\n",
        "\n",
        "full_array = np.full(shape=(3, 3), fill_value = 99.99, dtype=float)\n",
        "full_array"
      ]
    },
    {
      "cell_type": "code",
      "execution_count": 17,
      "metadata": {
        "colab": {
          "base_uri": "https://localhost:8080/"
        },
        "id": "IqLo965b7TWj",
        "outputId": "db623206-3d6f-41af-b56c-57b719f14cf3"
      },
      "outputs": [
        {
          "output_type": "execute_result",
          "data": {
            "text/plain": [
              "array([[99.99, 99.99, 99.99],\n",
              "       [99.99, 99.99, 99.99],\n",
              "       [99.99, 99.99, 99.99]])"
            ]
          },
          "metadata": {},
          "execution_count": 17
        }
      ],
      "source": [
        "# For keyword-positional argumnet example\n",
        "\n",
        "full_array = np.full((3, 3), 99.99, dtype=float)\n",
        "full_array"
      ]
    },
    {
      "cell_type": "code",
      "execution_count": 18,
      "metadata": {
        "colab": {
          "base_uri": "https://localhost:8080/",
          "height": 131
        },
        "id": "_rIhX9wd7TWj",
        "outputId": "ab942f2f-c989-4c08-a26f-59fe7c556c87"
      },
      "outputs": [
        {
          "output_type": "error",
          "ename": "SyntaxError",
          "evalue": "ignored",
          "traceback": [
            "\u001b[0;36m  File \u001b[0;32m\"<ipython-input-18-6f934517a70b>\"\u001b[0;36m, line \u001b[0;32m3\u001b[0m\n\u001b[0;31m    full_array = np.full(dtype=float, (3, 3), 99.99)\u001b[0m\n\u001b[0m                                                   ^\u001b[0m\n\u001b[0;31mSyntaxError\u001b[0m\u001b[0;31m:\u001b[0m positional argument follows keyword argument\n"
          ]
        }
      ],
      "source": [
        "# For keyword-positional argumnet example\n",
        "\n",
        "full_array = np.full(dtype=float, (3, 3), 99.99)\n",
        "full_array"
      ]
    },
    {
      "cell_type": "code",
      "execution_count": 19,
      "metadata": {
        "colab": {
          "base_uri": "https://localhost:8080/"
        },
        "id": "5tpCrQ-X7TWj",
        "outputId": "a85c5930-196a-4038-cd03-312cd4c73a72"
      },
      "outputs": [
        {
          "output_type": "execute_result",
          "data": {
            "text/plain": [
              "array([[99.99, 99.99, 99.99],\n",
              "       [99.99, 99.99, 99.99],\n",
              "       [99.99, 99.99, 99.99]])"
            ]
          },
          "metadata": {},
          "execution_count": 19
        }
      ],
      "source": [
        "# For keyword-positional argumnet example\n",
        "\n",
        "full_array = np.full(dtype=float, shape=(3, 3), fill_value=99.99)\n",
        "full_array"
      ]
    },
    {
      "cell_type": "markdown",
      "metadata": {
        "id": "bXf2fb037TWj"
      },
      "source": [
        "## <p style=\"background-color:#9d4f8c; font-family:newtimeroman; color:#FFF9ED; font-size:175%; text-align:center; border-radius:10px 10px;\">Creating a Pandas Series</p>\n",
        "\n",
        "<a id=\"2\"></a>\n",
        "<a href=\"#toc\" class=\"btn btn-primary btn-sm\" role=\"button\" aria-pressed=\"true\" \n",
        "style=\"color:blue; background-color:#dfa8e4\" data-toggle=\"popover\">Content</a>\n",
        "\n",
        "\n",
        "\n",
        "**You can create a Series by calling** **``pandas.Series()``** . A **``list``**, **``numpy array``**, **``dict``** can be turned into a Pandas Series.\n",
        "\n",
        "**``pd.Series(data=None, index=None, dtype=None, name=None, copy=False, fastpath=False)``**"
      ]
    },
    {
      "cell_type": "code",
      "execution_count": 20,
      "metadata": {
        "colab": {
          "base_uri": "https://localhost:8080/"
        },
        "id": "iIA7FoKr7TWj",
        "outputId": "77ecaf51-8b12-4bfe-8822-eb362c24865a"
      },
      "outputs": [
        {
          "output_type": "execute_result",
          "data": {
            "text/plain": [
              "0    10\n",
              "1    20\n",
              "2    30\n",
              "3    40\n",
              "4    50\n",
              "dtype: int64"
            ]
          },
          "metadata": {},
          "execution_count": 20
        }
      ],
      "source": [
        "# From a list\n",
        "\n",
        "my_list = [10, 20, 30, 40, 50]\n",
        "series_from_list = pd.Series(my_list)\n",
        "series_from_list"
      ]
    },
    {
      "cell_type": "code",
      "execution_count": 21,
      "metadata": {
        "colab": {
          "base_uri": "https://localhost:8080/"
        },
        "id": "82ZfIcnl7TWj",
        "outputId": "73f432e6-7838-4af2-9d8c-bfc683cbfab1"
      },
      "outputs": [
        {
          "output_type": "execute_result",
          "data": {
            "text/plain": [
              "0    10\n",
              "1    20\n",
              "2    30\n",
              "3    40\n",
              "4    50\n",
              "dtype: int64"
            ]
          },
          "metadata": {},
          "execution_count": 21
        }
      ],
      "source": [
        "# From a numpy array\n",
        "\n",
        "my_array = np.array([10, 20, 30, 40, 50])\n",
        "series_from_array = pd.Series(my_array)\n",
        "series_from_array"
      ]
    },
    {
      "cell_type": "code",
      "execution_count": 22,
      "metadata": {
        "colab": {
          "base_uri": "https://localhost:8080/"
        },
        "id": "E6bRj9oN7TWj",
        "outputId": "6917101b-6616-4e35-8fd5-f80dc2e0348e"
      },
      "outputs": [
        {
          "output_type": "execute_result",
          "data": {
            "text/plain": [
              "A    10\n",
              "B    20\n",
              "C    30\n",
              "dtype: int64"
            ]
          },
          "metadata": {},
          "execution_count": 22
        }
      ],
      "source": [
        "# From a Dictionary\n",
        "\n",
        "my_dict = {'A': 10, 'B': 20, 'C': 30}\n",
        "series_from_dict = pd.Series(my_dict)\n",
        "series_from_dict"
      ]
    },
    {
      "cell_type": "code",
      "execution_count": 23,
      "metadata": {
        "colab": {
          "base_uri": "https://localhost:8080/"
        },
        "id": "Vt65l8hS7TWk",
        "outputId": "a783bc66-b76a-42df-d6b4-808e90aac4c4"
      },
      "outputs": [
        {
          "output_type": "execute_result",
          "data": {
            "text/plain": [
              "A    5\n",
              "B    5\n",
              "C    5\n",
              "D    5\n",
              "dtype: int64"
            ]
          },
          "metadata": {},
          "execution_count": 23
        }
      ],
      "source": [
        "# Using a Scalar Value\n",
        "\n",
        "scalar_value = 5\n",
        "series_from_scalar = pd.Series(scalar_value, index=['A', 'B', 'C', 'D'])\n",
        "series_from_scalar"
      ]
    },
    {
      "cell_type": "code",
      "execution_count": 24,
      "metadata": {
        "colab": {
          "base_uri": "https://localhost:8080/"
        },
        "id": "eToQIsO97TWk",
        "outputId": "ae584d89-b1e2-40df-8aba-ad4aa80c55c5"
      },
      "outputs": [
        {
          "output_type": "execute_result",
          "data": {
            "text/plain": [
              "0    1\n",
              "1    2\n",
              "2    3\n",
              "3    4\n",
              "4    5\n",
              "dtype: int64"
            ]
          },
          "metadata": {},
          "execution_count": 24
        }
      ],
      "source": [
        "# Using a Range of Values\n",
        "\n",
        "series_range = pd.Series(range(1, 6))\n",
        "series_range"
      ]
    },
    {
      "cell_type": "code",
      "execution_count": 25,
      "metadata": {
        "colab": {
          "base_uri": "https://localhost:8080/"
        },
        "id": "hoCOc6MR7TWk",
        "outputId": "ca1f0e7b-6c9b-417f-96c1-3a82179361dd"
      },
      "outputs": [
        {
          "output_type": "execute_result",
          "data": {
            "text/plain": [
              "A    10\n",
              "B    20\n",
              "C    30\n",
              "D    40\n",
              "E    50\n",
              "dtype: int64"
            ]
          },
          "metadata": {},
          "execution_count": 25
        }
      ],
      "source": [
        "# Using Custom Index Labels\n",
        "\n",
        "data = [10, 20, 30, 40, 50]\n",
        "custom_index = ['A', 'B', 'C', 'D', 'E']\n",
        "series_custom_index = pd.Series(data, index=custom_index)\n",
        "series_custom_index"
      ]
    },
    {
      "cell_type": "code",
      "execution_count": 28,
      "metadata": {
        "colab": {
          "base_uri": "https://localhost:8080/"
        },
        "id": "FhXI3Jfl7TWk",
        "outputId": "daa8bb18-7d47-41ee-e843-cae59c780551"
      },
      "outputs": [
        {
          "output_type": "execute_result",
          "data": {
            "text/plain": [
              "0                     10\n",
              "1                  Hello\n",
              "2                   3.14\n",
              "3                   True\n",
              "dtype: object"
            ]
          },
          "metadata": {},
          "execution_count": 28
        }
      ],
      "source": [
        "# Pandas serie with mixed data\n",
        "\n",
        "mixed_data = [10, 'Hello', 3.14, True]\n",
        "series_mixed_data = pd.Series(mixed_data, dtype=object)\n",
        "series_mixed_data"
      ]
    },
    {
      "cell_type": "code",
      "execution_count": 29,
      "metadata": {
        "colab": {
          "base_uri": "https://localhost:8080/"
        },
        "id": "N_iG0DuR7TWn",
        "outputId": "11c7c342-d7fc-4130-8fc1-4b9fe43e5bf0"
      },
      "outputs": [
        {
          "output_type": "execute_result",
          "data": {
            "text/plain": [
              "dtype('O')"
            ]
          },
          "metadata": {},
          "execution_count": 29
        }
      ],
      "source": [
        "series_mixed_data.dtype"
      ]
    },
    {
      "cell_type": "code",
      "execution_count": 30,
      "metadata": {
        "colab": {
          "base_uri": "https://localhost:8080/"
        },
        "id": "ChtC2VWd7TWo",
        "outputId": "3c1c9634-dff5-4ba9-c67c-b4f90a8da246"
      },
      "outputs": [
        {
          "output_type": "stream",
          "name": "stdout",
          "text": [
            "<class 'int'>\n",
            "<class 'str'>\n",
            "<class 'float'>\n",
            "<class 'bool'>\n"
          ]
        }
      ],
      "source": [
        "for i in series_mixed_data:\n",
        "    print(type(i))"
      ]
    },
    {
      "cell_type": "markdown",
      "metadata": {
        "id": "pN8m3ITk7TWo"
      },
      "source": [
        "<span style=\"color:blue\">**Create a Pandas Series named \"my_series\" using the following list.**</span>\n",
        "\n",
        "['a', 'b', 'c', 'd', 'e']"
      ]
    },
    {
      "cell_type": "code",
      "execution_count": 31,
      "metadata": {
        "colab": {
          "base_uri": "https://localhost:8080/"
        },
        "id": "j_Q1z4nL7TWo",
        "outputId": "f1b3853e-c5c9-4f42-a525-54c07301162a"
      },
      "outputs": [
        {
          "output_type": "execute_result",
          "data": {
            "text/plain": [
              "array(['a', 'b', 'c', 'd', 'e'], dtype='<U1')"
            ]
          },
          "metadata": {},
          "execution_count": 31
        }
      ],
      "source": [
        "my_arr = np.array(['a', 'b', 'c', 'd', 'e'])\n",
        "my_arr"
      ]
    },
    {
      "cell_type": "code",
      "execution_count": 39,
      "metadata": {
        "colab": {
          "base_uri": "https://localhost:8080/",
          "height": 35
        },
        "id": "SxLs1bMx7TWo",
        "outputId": "67f270f9-f776-44eb-cafa-e21fc23fcb8a"
      },
      "outputs": [
        {
          "output_type": "execute_result",
          "data": {
            "text/plain": [
              "'a'"
            ],
            "application/vnd.google.colaboratory.intrinsic+json": {
              "type": "string"
            }
          },
          "metadata": {},
          "execution_count": 39
        }
      ],
      "source": [
        "my_arr[0]"
      ]
    },
    {
      "cell_type": "code",
      "execution_count": 41,
      "metadata": {
        "colab": {
          "base_uri": "https://localhost:8080/"
        },
        "id": "8oItB_Mx7TWo",
        "outputId": "7b2d4467-58d8-4b3f-b73a-9e0b0e766e15"
      },
      "outputs": [
        {
          "output_type": "execute_result",
          "data": {
            "text/plain": [
              "0    a\n",
              "1    b\n",
              "2    c\n",
              "3    d\n",
              "4    e\n",
              "dtype: object"
            ]
          },
          "metadata": {},
          "execution_count": 41
        }
      ],
      "source": [
        "# YOUR CODE IS HERE\n",
        "\n",
        "my_series = pd.Series(['a', 'b', 'c', 'd', 'e'])\n",
        "my_series"
      ]
    },
    {
      "cell_type": "raw",
      "metadata": {
        "id": "cNL_9Qo97TWo"
      },
      "source": [
        "Desired Output:\n",
        "\n",
        "0    a\n",
        "1    b\n",
        "2    c\n",
        "3    d\n",
        "4    e\n",
        "dtype: object"
      ]
    },
    {
      "cell_type": "code",
      "execution_count": 40,
      "metadata": {
        "colab": {
          "base_uri": "https://localhost:8080/",
          "height": 166
        },
        "id": "xBB1J5Vx7TWo",
        "outputId": "8970e50e-779f-4840-b09d-ffbb855fe25d"
      },
      "outputs": [
        {
          "output_type": "error",
          "ename": "NameError",
          "evalue": "ignored",
          "traceback": [
            "\u001b[0;31m---------------------------------------------------------------------------\u001b[0m",
            "\u001b[0;31mNameError\u001b[0m                                 Traceback (most recent call last)",
            "\u001b[0;32m<ipython-input-40-6762cd61bd10>\u001b[0m in \u001b[0;36m<cell line: 1>\u001b[0;34m()\u001b[0m\n\u001b[0;32m----> 1\u001b[0;31m \u001b[0mmy_series\u001b[0m\u001b[0;34m[\u001b[0m\u001b[0;36m0\u001b[0m\u001b[0;34m]\u001b[0m\u001b[0;34m\u001b[0m\u001b[0;34m\u001b[0m\u001b[0m\n\u001b[0m",
            "\u001b[0;31mNameError\u001b[0m: name 'my_series' is not defined"
          ]
        }
      ],
      "source": [
        "my_series[0]"
      ]
    },
    {
      "cell_type": "markdown",
      "metadata": {
        "id": "ACvEbmN_7TWp"
      },
      "source": [
        "One of the essential pieces of NumPy is the ability to perform quick element-wise operations, both with basic arithmetic (addition, subtraction, multiplication, etc.) and with more sophisticated operations (trigonometric functions, exponential and logarithmic functions, etc.). \n",
        "\n",
        "**``Pandas Series``** **are built on top of** **``NumPy arrays``** **and support many** **``similar operations:``**"
      ]
    },
    {
      "cell_type": "code",
      "execution_count": 42,
      "metadata": {
        "colab": {
          "base_uri": "https://localhost:8080/"
        },
        "id": "yxij9-y87TWp",
        "outputId": "183a7472-7c5a-4152-b863-d9d95ec4475f"
      },
      "outputs": [
        {
          "output_type": "execute_result",
          "data": {
            "text/plain": [
              "[1, 2, 3, 4, 1, 2, 3, 4, 1, 2, 3, 4]"
            ]
          },
          "metadata": {},
          "execution_count": 42
        }
      ],
      "source": [
        "my_list = [1, 2, 3, 4]\n",
        "my_list * 3"
      ]
    },
    {
      "cell_type": "code",
      "execution_count": 43,
      "metadata": {
        "colab": {
          "base_uri": "https://localhost:8080/"
        },
        "id": "R-gzcLXv7TWp",
        "outputId": "1cf0558f-a3aa-4f30-e41f-7a0c179234c2"
      },
      "outputs": [
        {
          "output_type": "execute_result",
          "data": {
            "text/plain": [
              "array([ 3,  6,  9, 12])"
            ]
          },
          "metadata": {},
          "execution_count": 43
        }
      ],
      "source": [
        "my_arr = np.array(my_list)\n",
        "my_arr * 3"
      ]
    },
    {
      "cell_type": "code",
      "execution_count": 44,
      "metadata": {
        "colab": {
          "base_uri": "https://localhost:8080/"
        },
        "id": "KbmgMB4Y7TWp",
        "outputId": "27ca3c3e-b967-413d-fc76-debbfbce1883"
      },
      "outputs": [
        {
          "output_type": "execute_result",
          "data": {
            "text/plain": [
              "0     3\n",
              "1     6\n",
              "2     9\n",
              "3    12\n",
              "dtype: int64"
            ]
          },
          "metadata": {},
          "execution_count": 44
        }
      ],
      "source": [
        "my_ser = pd.Series(my_list)\n",
        "my_ser * 3"
      ]
    },
    {
      "cell_type": "markdown",
      "metadata": {
        "id": "r0ERE3yV7TWp"
      },
      "source": [
        "In mathematics, element-wise operations refer to operations on individual elements of a matrix. Any arithmetic operations in arrays applies the operation elementwise. **[NumPy Basics: Arrays and Vectorized Computation](https://www.oreilly.com/library/view/python-for-data/9781449323592/ch04.html)** & **[Numerical Operations on Arrays](https://scipy-lectures.org/intro/numpy/operations.html)**"
      ]
    },
    {
      "cell_type": "code",
      "execution_count": 45,
      "metadata": {
        "colab": {
          "base_uri": "https://localhost:8080/"
        },
        "id": "a7dtkubl7TWp",
        "outputId": "9629b16a-303a-460e-89b3-8a192601e909"
      },
      "outputs": [
        {
          "output_type": "execute_result",
          "data": {
            "text/plain": [
              "0    aaaaaaaaaaaaaaaaaaaaaaaaaaaaaaaaaaaaaaaaaaaaaa...\n",
              "1    bbbbbbbbbbbbbbbbbbbbbbbbbbbbbbbbbbbbbbbbbbbbbb...\n",
              "2    cccccccccccccccccccccccccccccccccccccccccccccc...\n",
              "3    dddddddddddddddddddddddddddddddddddddddddddddd...\n",
              "4    eeeeeeeeeeeeeeeeeeeeeeeeeeeeeeeeeeeeeeeeeeeeee...\n",
              "dtype: object"
            ]
          },
          "metadata": {},
          "execution_count": 45
        }
      ],
      "source": [
        "my_series * 100"
      ]
    },
    {
      "cell_type": "markdown",
      "metadata": {
        "id": "HU4vBc3K7TWp"
      },
      "source": [
        "<span style=\"color:blue\">**Create a random Pandas Series of float numbers and name this Series as \"Daily Returns\".**</span>"
      ]
    },
    {
      "cell_type": "code",
      "execution_count": 46,
      "metadata": {
        "colab": {
          "base_uri": "https://localhost:8080/"
        },
        "id": "Mq9wNGon7TWq",
        "outputId": "71f7be93-06b7-4d8b-bc7f-df4de828d801"
      },
      "outputs": [
        {
          "output_type": "execute_result",
          "data": {
            "text/plain": [
              "0                  -0.12\n",
              "1                   0.33\n",
              "2                   0.31\n",
              "3                   0.33\n",
              "Name: Daily Returns, dtype: float64"
            ]
          },
          "metadata": {},
          "execution_count": 46
        }
      ],
      "source": [
        "# YOUR CODE IS HERE\n",
        "\n",
        "daily_returns = pd.Series(np.random.randn(4), name='Daily Returns')\n",
        "daily_returns"
      ]
    },
    {
      "cell_type": "raw",
      "metadata": {
        "id": "HR5u-Qc_7TWq"
      },
      "source": [
        "Desired Output:\n",
        "\n",
        "0                  -0.52\n",
        "1                   0.80\n",
        "2                  -0.45\n",
        "3                  -0.26\n",
        "Name: Daily Returns, dtype: float64"
      ]
    },
    {
      "cell_type": "code",
      "execution_count": 47,
      "metadata": {
        "colab": {
          "base_uri": "https://localhost:8080/"
        },
        "id": "4IQMmZmG7TWq",
        "outputId": "18f3d451-97af-4972-cc8b-cc71e320c32c"
      },
      "outputs": [
        {
          "output_type": "execute_result",
          "data": {
            "text/plain": [
              "1                   0.33\n",
              "2                   0.31\n",
              "3                   0.33\n",
              "Name: Daily Returns, dtype: float64"
            ]
          },
          "metadata": {},
          "execution_count": 47
        }
      ],
      "source": [
        "daily_returns[daily_returns > 0]"
      ]
    },
    {
      "cell_type": "code",
      "execution_count": 48,
      "metadata": {
        "colab": {
          "base_uri": "https://localhost:8080/"
        },
        "id": "uxPfj5Du7TWq",
        "outputId": "9d227d11-2b62-4152-89c8-f27aa6cc7e83"
      },
      "outputs": [
        {
          "output_type": "execute_result",
          "data": {
            "text/plain": [
              "0                  -0.12\n",
              "Name: Daily Returns, dtype: float64"
            ]
          },
          "metadata": {},
          "execution_count": 48
        }
      ],
      "source": [
        "daily_returns[daily_returns < 0]"
      ]
    },
    {
      "cell_type": "code",
      "execution_count": 49,
      "metadata": {
        "colab": {
          "base_uri": "https://localhost:8080/"
        },
        "id": "CAh0Oro_7TWq",
        "outputId": "695739d1-c5b7-4e2f-de97-5dfbb1cde4f5"
      },
      "outputs": [
        {
          "output_type": "execute_result",
          "data": {
            "text/plain": [
              "0                   4.88\n",
              "1                   5.33\n",
              "2                   5.31\n",
              "3                   5.33\n",
              "Name: Daily Returns, dtype: float64"
            ]
          },
          "metadata": {},
          "execution_count": 49
        }
      ],
      "source": [
        "daily_returns + 5"
      ]
    },
    {
      "cell_type": "code",
      "execution_count": 50,
      "metadata": {
        "colab": {
          "base_uri": "https://localhost:8080/"
        },
        "id": "EDeTQckz7TWq",
        "outputId": "748af238-5427-4a0b-f41d-013c7c0b6404"
      },
      "outputs": [
        {
          "output_type": "execute_result",
          "data": {
            "text/plain": [
              "0                  -1.12\n",
              "1                  -0.67\n",
              "2                  -0.69\n",
              "3                  -0.67\n",
              "Name: Daily Returns, dtype: float64"
            ]
          },
          "metadata": {},
          "execution_count": 50
        }
      ],
      "source": [
        "daily_returns - 1"
      ]
    },
    {
      "cell_type": "code",
      "execution_count": 51,
      "metadata": {
        "colab": {
          "base_uri": "https://localhost:8080/"
        },
        "id": "eoedzrNv7TWq",
        "outputId": "19e95ae9-c8b9-4371-cbca-1ab640cfd3a7"
      },
      "outputs": [
        {
          "output_type": "execute_result",
          "data": {
            "text/plain": [
              "0                  -0.24\n",
              "1                   0.67\n",
              "2                   0.62\n",
              "3                   0.65\n",
              "Name: Daily Returns, dtype: float64"
            ]
          },
          "metadata": {},
          "execution_count": 51
        }
      ],
      "source": [
        "daily_returns * 2"
      ]
    },
    {
      "cell_type": "code",
      "execution_count": 52,
      "metadata": {
        "colab": {
          "base_uri": "https://localhost:8080/"
        },
        "id": "agHuHlsG7TWq",
        "outputId": "9591e5fc-f366-429f-e52a-74c3c6278ef6"
      },
      "outputs": [
        {
          "output_type": "execute_result",
          "data": {
            "text/plain": [
              "0                  -0.04\n",
              "1                   0.11\n",
              "2                   0.10\n",
              "3                   0.11\n",
              "Name: Daily Returns, dtype: float64"
            ]
          },
          "metadata": {},
          "execution_count": 52
        }
      ],
      "source": [
        "daily_returns / 3"
      ]
    },
    {
      "cell_type": "code",
      "execution_count": 53,
      "metadata": {
        "colab": {
          "base_uri": "https://localhost:8080/"
        },
        "id": "3MMizvg87TWr",
        "outputId": "3694cdb5-9455-4cea-e64b-31745c448295"
      },
      "outputs": [
        {
          "output_type": "execute_result",
          "data": {
            "text/plain": [
              "0.2226933380249457"
            ]
          },
          "metadata": {},
          "execution_count": 53
        }
      ],
      "source": [
        "daily_returns.std()\n",
        "\n",
        "# degrees of freedom"
      ]
    },
    {
      "cell_type": "code",
      "execution_count": 54,
      "metadata": {
        "colab": {
          "base_uri": "https://localhost:8080/"
        },
        "id": "sLwCVOcW7TWr",
        "outputId": "869155ab-14ba-4624-b450-d5dc45f4dc04"
      },
      "outputs": [
        {
          "output_type": "execute_result",
          "data": {
            "text/plain": [
              "0.1928580879831581"
            ]
          },
          "metadata": {},
          "execution_count": 54
        }
      ],
      "source": [
        "np.std(daily_returns)"
      ]
    },
    {
      "cell_type": "code",
      "execution_count": 55,
      "metadata": {
        "colab": {
          "base_uri": "https://localhost:8080/"
        },
        "id": "FW-HiAfD7TWr",
        "outputId": "247e61fe-5c2e-477d-dc0a-9d3516f71ee4"
      },
      "outputs": [
        {
          "output_type": "execute_result",
          "data": {
            "text/plain": [
              "0.21151013904944205"
            ]
          },
          "metadata": {},
          "execution_count": 55
        }
      ],
      "source": [
        "daily_returns.mean()"
      ]
    },
    {
      "cell_type": "code",
      "execution_count": 56,
      "metadata": {
        "colab": {
          "base_uri": "https://localhost:8080/"
        },
        "id": "Fg95Jsg-7TWr",
        "outputId": "4faf4d24-7665-451e-dae5-a1285258143f"
      },
      "outputs": [
        {
          "output_type": "execute_result",
          "data": {
            "text/plain": [
              "0.21151013904944205"
            ]
          },
          "metadata": {},
          "execution_count": 56
        }
      ],
      "source": [
        "np.mean(daily_returns)"
      ]
    },
    {
      "cell_type": "code",
      "execution_count": 57,
      "metadata": {
        "colab": {
          "base_uri": "https://localhost:8080/"
        },
        "id": "miv7purE7TWr",
        "outputId": "cec75a24-29da-41b2-b633-c4701e0927f8"
      },
      "outputs": [
        {
          "output_type": "execute_result",
          "data": {
            "text/plain": [
              "0.31725156734192206"
            ]
          },
          "metadata": {},
          "execution_count": 57
        }
      ],
      "source": [
        "daily_returns.median()"
      ]
    },
    {
      "cell_type": "code",
      "execution_count": 58,
      "metadata": {
        "colab": {
          "base_uri": "https://localhost:8080/"
        },
        "id": "fITrfkZn7TWr",
        "outputId": "08843bee-dfa6-41f2-e12a-fb0a4105a3ae"
      },
      "outputs": [
        {
          "output_type": "execute_result",
          "data": {
            "text/plain": [
              "0.31725156734192206"
            ]
          },
          "metadata": {},
          "execution_count": 58
        }
      ],
      "source": [
        "np.median(daily_returns)"
      ]
    },
    {
      "cell_type": "markdown",
      "metadata": {
        "id": "NcVporby7TWr"
      },
      "source": [
        "## <p style=\"background-color:#9d4f8c; font-family:newtimeroman; color:#FFF9ED; font-size:175%; text-align:center; border-radius:10px 10px;\">Working with Series Data Structure</p>\n",
        "\n",
        "<a id=\"3\"></a>\n",
        "<a href=\"#toc\" class=\"btn btn-primary btn-sm\" role=\"button\" aria-pressed=\"true\" \n",
        "style=\"color:blue; background-color:#dfa8e4\" data-toggle=\"popover\">Content</a>\n",
        "\n",
        "**SOME COMMON ATTRIBUTES** [Official Pandas API Document](https://pandas.pydata.org/docs/reference/api/pandas.Series.html)<br>\n",
        "\n",
        "**Series.dtype**\tIt returns the data type of the data.<br>\n",
        "**Series.shape**\tIt returns a tuple of shape of the data.<br>\n",
        "**Series.size**\t    It returns the size of the data.<br>\n",
        "**Series.ndim**\t    It returns the number of dimensions in the data.<br>\n",
        "**Series.index**\tDefines the index of the Series.<br>\n",
        "**Series.keys**  \tReturn alias for index.<br>\n",
        "**Series.values**   Returns Series as ndarray or ndarray-like depending on the dtype.<br>\n",
        "**Series.items**\tLazily iterate over (index, value) tuples.<br>\n",
        "**Series.head**   \tReturn the first n rows.<br>\n",
        "**Series.tail** \tReturn the last n rows.<br>\n",
        "**Series.sample**   Return a random sample of items from an axis of object.<br>\n",
        "**Series.sort_index**  Sort Series by index labels.<br>\n",
        "**Series.sort_values**  Sort by the values.<br>\n",
        "**Series.isin**     Whether elements in Series are contained in values.<br>"
      ]
    },
    {
      "cell_type": "code",
      "execution_count": 60,
      "metadata": {
        "colab": {
          "base_uri": "https://localhost:8080/",
          "height": 423
        },
        "id": "vMDqeBbp7TWs",
        "outputId": "2de8119a-b8f6-4668-861a-a688a487e1a5"
      },
      "outputs": [
        {
          "output_type": "execute_result",
          "data": {
            "text/plain": [
              "        Rank                                              Name Platform  \\\n",
              "0          1                                        Wii Sports      Wii   \n",
              "1          2                                 Super Mario Bros.      NES   \n",
              "2          3                                    Mario Kart Wii      Wii   \n",
              "3          4                                 Wii Sports Resort      Wii   \n",
              "4          5                          Pokemon Red/Pokemon Blue       GB   \n",
              "...      ...                                               ...      ...   \n",
              "16593  16596                Woody Woodpecker in Crazy Castle 5      GBA   \n",
              "16594  16597                     Men in Black II: Alien Escape       GC   \n",
              "16595  16598  SCORE International Baja 1000: The Official Game      PS2   \n",
              "16596  16599                                        Know How 2       DS   \n",
              "16597  16600                                  Spirits & Spells      GBA   \n",
              "\n",
              "                      Year         Genre   Publisher             NA_Sales  \\\n",
              "0                 2,006.00        Sports    Nintendo                41.49   \n",
              "1                 1,985.00      Platform    Nintendo                29.08   \n",
              "2                 2,008.00        Racing    Nintendo                15.85   \n",
              "3                 2,009.00        Sports    Nintendo                15.75   \n",
              "4                 1,996.00  Role-Playing    Nintendo                11.27   \n",
              "...                    ...           ...         ...                  ...   \n",
              "16593             2,002.00      Platform       Kemco                 0.01   \n",
              "16594             2,003.00       Shooter  Infogrames                 0.01   \n",
              "16595             2,008.00        Racing  Activision                 0.00   \n",
              "16596             2,010.00        Puzzle    7G//AMES                 0.00   \n",
              "16597             2,003.00      Platform     Wanadoo                 0.01   \n",
              "\n",
              "                  EU_Sales             JP_Sales          Other_Sales  \\\n",
              "0                    29.02                 3.77                 8.46   \n",
              "1                     3.58                 6.81                 0.77   \n",
              "2                    12.88                 3.79                 3.31   \n",
              "3                    11.01                 3.28                 2.96   \n",
              "4                     8.89                10.22                 1.00   \n",
              "...                    ...                  ...                  ...   \n",
              "16593                 0.00                 0.00                 0.00   \n",
              "16594                 0.00                 0.00                 0.00   \n",
              "16595                 0.00                 0.00                 0.00   \n",
              "16596                 0.01                 0.00                 0.00   \n",
              "16597                 0.00                 0.00                 0.00   \n",
              "\n",
              "              Global_Sales  \n",
              "0                    82.74  \n",
              "1                    40.24  \n",
              "2                    35.82  \n",
              "3                    33.00  \n",
              "4                    31.37  \n",
              "...                    ...  \n",
              "16593                 0.01  \n",
              "16594                 0.01  \n",
              "16595                 0.01  \n",
              "16596                 0.01  \n",
              "16597                 0.01  \n",
              "\n",
              "[16598 rows x 11 columns]"
            ],
            "text/html": [
              "\n",
              "  <div id=\"df-fc9ae419-6142-4ca4-ab13-a6a090c4ff04\">\n",
              "    <div class=\"colab-df-container\">\n",
              "      <div>\n",
              "<style scoped>\n",
              "    .dataframe tbody tr th:only-of-type {\n",
              "        vertical-align: middle;\n",
              "    }\n",
              "\n",
              "    .dataframe tbody tr th {\n",
              "        vertical-align: top;\n",
              "    }\n",
              "\n",
              "    .dataframe thead th {\n",
              "        text-align: right;\n",
              "    }\n",
              "</style>\n",
              "<table border=\"1\" class=\"dataframe\">\n",
              "  <thead>\n",
              "    <tr style=\"text-align: right;\">\n",
              "      <th></th>\n",
              "      <th>Rank</th>\n",
              "      <th>Name</th>\n",
              "      <th>Platform</th>\n",
              "      <th>Year</th>\n",
              "      <th>Genre</th>\n",
              "      <th>Publisher</th>\n",
              "      <th>NA_Sales</th>\n",
              "      <th>EU_Sales</th>\n",
              "      <th>JP_Sales</th>\n",
              "      <th>Other_Sales</th>\n",
              "      <th>Global_Sales</th>\n",
              "    </tr>\n",
              "  </thead>\n",
              "  <tbody>\n",
              "    <tr>\n",
              "      <th>0</th>\n",
              "      <td>1</td>\n",
              "      <td>Wii Sports</td>\n",
              "      <td>Wii</td>\n",
              "      <td>2,006.00</td>\n",
              "      <td>Sports</td>\n",
              "      <td>Nintendo</td>\n",
              "      <td>41.49</td>\n",
              "      <td>29.02</td>\n",
              "      <td>3.77</td>\n",
              "      <td>8.46</td>\n",
              "      <td>82.74</td>\n",
              "    </tr>\n",
              "    <tr>\n",
              "      <th>1</th>\n",
              "      <td>2</td>\n",
              "      <td>Super Mario Bros.</td>\n",
              "      <td>NES</td>\n",
              "      <td>1,985.00</td>\n",
              "      <td>Platform</td>\n",
              "      <td>Nintendo</td>\n",
              "      <td>29.08</td>\n",
              "      <td>3.58</td>\n",
              "      <td>6.81</td>\n",
              "      <td>0.77</td>\n",
              "      <td>40.24</td>\n",
              "    </tr>\n",
              "    <tr>\n",
              "      <th>2</th>\n",
              "      <td>3</td>\n",
              "      <td>Mario Kart Wii</td>\n",
              "      <td>Wii</td>\n",
              "      <td>2,008.00</td>\n",
              "      <td>Racing</td>\n",
              "      <td>Nintendo</td>\n",
              "      <td>15.85</td>\n",
              "      <td>12.88</td>\n",
              "      <td>3.79</td>\n",
              "      <td>3.31</td>\n",
              "      <td>35.82</td>\n",
              "    </tr>\n",
              "    <tr>\n",
              "      <th>3</th>\n",
              "      <td>4</td>\n",
              "      <td>Wii Sports Resort</td>\n",
              "      <td>Wii</td>\n",
              "      <td>2,009.00</td>\n",
              "      <td>Sports</td>\n",
              "      <td>Nintendo</td>\n",
              "      <td>15.75</td>\n",
              "      <td>11.01</td>\n",
              "      <td>3.28</td>\n",
              "      <td>2.96</td>\n",
              "      <td>33.00</td>\n",
              "    </tr>\n",
              "    <tr>\n",
              "      <th>4</th>\n",
              "      <td>5</td>\n",
              "      <td>Pokemon Red/Pokemon Blue</td>\n",
              "      <td>GB</td>\n",
              "      <td>1,996.00</td>\n",
              "      <td>Role-Playing</td>\n",
              "      <td>Nintendo</td>\n",
              "      <td>11.27</td>\n",
              "      <td>8.89</td>\n",
              "      <td>10.22</td>\n",
              "      <td>1.00</td>\n",
              "      <td>31.37</td>\n",
              "    </tr>\n",
              "    <tr>\n",
              "      <th>...</th>\n",
              "      <td>...</td>\n",
              "      <td>...</td>\n",
              "      <td>...</td>\n",
              "      <td>...</td>\n",
              "      <td>...</td>\n",
              "      <td>...</td>\n",
              "      <td>...</td>\n",
              "      <td>...</td>\n",
              "      <td>...</td>\n",
              "      <td>...</td>\n",
              "      <td>...</td>\n",
              "    </tr>\n",
              "    <tr>\n",
              "      <th>16593</th>\n",
              "      <td>16596</td>\n",
              "      <td>Woody Woodpecker in Crazy Castle 5</td>\n",
              "      <td>GBA</td>\n",
              "      <td>2,002.00</td>\n",
              "      <td>Platform</td>\n",
              "      <td>Kemco</td>\n",
              "      <td>0.01</td>\n",
              "      <td>0.00</td>\n",
              "      <td>0.00</td>\n",
              "      <td>0.00</td>\n",
              "      <td>0.01</td>\n",
              "    </tr>\n",
              "    <tr>\n",
              "      <th>16594</th>\n",
              "      <td>16597</td>\n",
              "      <td>Men in Black II: Alien Escape</td>\n",
              "      <td>GC</td>\n",
              "      <td>2,003.00</td>\n",
              "      <td>Shooter</td>\n",
              "      <td>Infogrames</td>\n",
              "      <td>0.01</td>\n",
              "      <td>0.00</td>\n",
              "      <td>0.00</td>\n",
              "      <td>0.00</td>\n",
              "      <td>0.01</td>\n",
              "    </tr>\n",
              "    <tr>\n",
              "      <th>16595</th>\n",
              "      <td>16598</td>\n",
              "      <td>SCORE International Baja 1000: The Official Game</td>\n",
              "      <td>PS2</td>\n",
              "      <td>2,008.00</td>\n",
              "      <td>Racing</td>\n",
              "      <td>Activision</td>\n",
              "      <td>0.00</td>\n",
              "      <td>0.00</td>\n",
              "      <td>0.00</td>\n",
              "      <td>0.00</td>\n",
              "      <td>0.01</td>\n",
              "    </tr>\n",
              "    <tr>\n",
              "      <th>16596</th>\n",
              "      <td>16599</td>\n",
              "      <td>Know How 2</td>\n",
              "      <td>DS</td>\n",
              "      <td>2,010.00</td>\n",
              "      <td>Puzzle</td>\n",
              "      <td>7G//AMES</td>\n",
              "      <td>0.00</td>\n",
              "      <td>0.01</td>\n",
              "      <td>0.00</td>\n",
              "      <td>0.00</td>\n",
              "      <td>0.01</td>\n",
              "    </tr>\n",
              "    <tr>\n",
              "      <th>16597</th>\n",
              "      <td>16600</td>\n",
              "      <td>Spirits &amp; Spells</td>\n",
              "      <td>GBA</td>\n",
              "      <td>2,003.00</td>\n",
              "      <td>Platform</td>\n",
              "      <td>Wanadoo</td>\n",
              "      <td>0.01</td>\n",
              "      <td>0.00</td>\n",
              "      <td>0.00</td>\n",
              "      <td>0.00</td>\n",
              "      <td>0.01</td>\n",
              "    </tr>\n",
              "  </tbody>\n",
              "</table>\n",
              "<p>16598 rows × 11 columns</p>\n",
              "</div>\n",
              "      <button class=\"colab-df-convert\" onclick=\"convertToInteractive('df-fc9ae419-6142-4ca4-ab13-a6a090c4ff04')\"\n",
              "              title=\"Convert this dataframe to an interactive table.\"\n",
              "              style=\"display:none;\">\n",
              "        \n",
              "  <svg xmlns=\"http://www.w3.org/2000/svg\" height=\"24px\"viewBox=\"0 0 24 24\"\n",
              "       width=\"24px\">\n",
              "    <path d=\"M0 0h24v24H0V0z\" fill=\"none\"/>\n",
              "    <path d=\"M18.56 5.44l.94 2.06.94-2.06 2.06-.94-2.06-.94-.94-2.06-.94 2.06-2.06.94zm-11 1L8.5 8.5l.94-2.06 2.06-.94-2.06-.94L8.5 2.5l-.94 2.06-2.06.94zm10 10l.94 2.06.94-2.06 2.06-.94-2.06-.94-.94-2.06-.94 2.06-2.06.94z\"/><path d=\"M17.41 7.96l-1.37-1.37c-.4-.4-.92-.59-1.43-.59-.52 0-1.04.2-1.43.59L10.3 9.45l-7.72 7.72c-.78.78-.78 2.05 0 2.83L4 21.41c.39.39.9.59 1.41.59.51 0 1.02-.2 1.41-.59l7.78-7.78 2.81-2.81c.8-.78.8-2.07 0-2.86zM5.41 20L4 18.59l7.72-7.72 1.47 1.35L5.41 20z\"/>\n",
              "  </svg>\n",
              "      </button>\n",
              "      \n",
              "  <style>\n",
              "    .colab-df-container {\n",
              "      display:flex;\n",
              "      flex-wrap:wrap;\n",
              "      gap: 12px;\n",
              "    }\n",
              "\n",
              "    .colab-df-convert {\n",
              "      background-color: #E8F0FE;\n",
              "      border: none;\n",
              "      border-radius: 50%;\n",
              "      cursor: pointer;\n",
              "      display: none;\n",
              "      fill: #1967D2;\n",
              "      height: 32px;\n",
              "      padding: 0 0 0 0;\n",
              "      width: 32px;\n",
              "    }\n",
              "\n",
              "    .colab-df-convert:hover {\n",
              "      background-color: #E2EBFA;\n",
              "      box-shadow: 0px 1px 2px rgba(60, 64, 67, 0.3), 0px 1px 3px 1px rgba(60, 64, 67, 0.15);\n",
              "      fill: #174EA6;\n",
              "    }\n",
              "\n",
              "    [theme=dark] .colab-df-convert {\n",
              "      background-color: #3B4455;\n",
              "      fill: #D2E3FC;\n",
              "    }\n",
              "\n",
              "    [theme=dark] .colab-df-convert:hover {\n",
              "      background-color: #434B5C;\n",
              "      box-shadow: 0px 1px 3px 1px rgba(0, 0, 0, 0.15);\n",
              "      filter: drop-shadow(0px 1px 2px rgba(0, 0, 0, 0.3));\n",
              "      fill: #FFFFFF;\n",
              "    }\n",
              "  </style>\n",
              "\n",
              "      <script>\n",
              "        const buttonEl =\n",
              "          document.querySelector('#df-fc9ae419-6142-4ca4-ab13-a6a090c4ff04 button.colab-df-convert');\n",
              "        buttonEl.style.display =\n",
              "          google.colab.kernel.accessAllowed ? 'block' : 'none';\n",
              "\n",
              "        async function convertToInteractive(key) {\n",
              "          const element = document.querySelector('#df-fc9ae419-6142-4ca4-ab13-a6a090c4ff04');\n",
              "          const dataTable =\n",
              "            await google.colab.kernel.invokeFunction('convertToInteractive',\n",
              "                                                     [key], {});\n",
              "          if (!dataTable) return;\n",
              "\n",
              "          const docLinkHtml = 'Like what you see? Visit the ' +\n",
              "            '<a target=\"_blank\" href=https://colab.research.google.com/notebooks/data_table.ipynb>data table notebook</a>'\n",
              "            + ' to learn more about interactive tables.';\n",
              "          element.innerHTML = '';\n",
              "          dataTable['output_type'] = 'display_data';\n",
              "          await google.colab.output.renderOutput(dataTable, element);\n",
              "          const docLink = document.createElement('div');\n",
              "          docLink.innerHTML = docLinkHtml;\n",
              "          element.appendChild(docLink);\n",
              "        }\n",
              "      </script>\n",
              "    </div>\n",
              "  </div>\n",
              "  "
            ]
          },
          "metadata": {},
          "execution_count": 60
        }
      ],
      "source": [
        "games = pd.read_csv(\"vgsalesGlobale.csv\")\n",
        "games"
      ]
    },
    {
      "cell_type": "code",
      "execution_count": 61,
      "metadata": {
        "colab": {
          "base_uri": "https://localhost:8080/"
        },
        "id": "gI7wR4bc7TWs",
        "outputId": "c08af409-0b47-481e-8c24-3f1bf85dd702"
      },
      "outputs": [
        {
          "output_type": "execute_result",
          "data": {
            "text/plain": [
              "pandas.core.frame.DataFrame"
            ]
          },
          "metadata": {},
          "execution_count": 61
        }
      ],
      "source": [
        "type(games)"
      ]
    },
    {
      "cell_type": "code",
      "execution_count": 64,
      "metadata": {
        "colab": {
          "base_uri": "https://localhost:8080/"
        },
        "id": "TWV2lkYS7TWs",
        "outputId": "46cff065-cc9d-44c7-aa30-e0856004c939"
      },
      "outputs": [
        {
          "output_type": "execute_result",
          "data": {
            "text/plain": [
              "0                                              Wii Sports\n",
              "1                                       Super Mario Bros.\n",
              "2                                          Mario Kart Wii\n",
              "3                                       Wii Sports Resort\n",
              "4                                Pokemon Red/Pokemon Blue\n",
              "                               ...                       \n",
              "16593                  Woody Woodpecker in Crazy Castle 5\n",
              "16594                       Men in Black II: Alien Escape\n",
              "16595    SCORE International Baja 1000: The Official Game\n",
              "16596                                          Know How 2\n",
              "16597                                    Spirits & Spells\n",
              "Name: Name, Length: 16598, dtype: object"
            ]
          },
          "metadata": {},
          "execution_count": 64
        }
      ],
      "source": [
        "games.Name"
      ]
    },
    {
      "cell_type": "code",
      "execution_count": 65,
      "metadata": {
        "colab": {
          "base_uri": "https://localhost:8080/"
        },
        "id": "3Cl0xY8C7TWs",
        "outputId": "3cf3ff2f-d6b1-407f-864d-05056be9146b"
      },
      "outputs": [
        {
          "output_type": "execute_result",
          "data": {
            "text/plain": [
              "0                                              Wii Sports\n",
              "1                                       Super Mario Bros.\n",
              "2                                          Mario Kart Wii\n",
              "3                                       Wii Sports Resort\n",
              "4                                Pokemon Red/Pokemon Blue\n",
              "                               ...                       \n",
              "16593                  Woody Woodpecker in Crazy Castle 5\n",
              "16594                       Men in Black II: Alien Escape\n",
              "16595    SCORE International Baja 1000: The Official Game\n",
              "16596                                          Know How 2\n",
              "16597                                    Spirits & Spells\n",
              "Name: Name, Length: 16598, dtype: object"
            ]
          },
          "metadata": {},
          "execution_count": 65
        }
      ],
      "source": [
        "games[\"Name\"]"
      ]
    },
    {
      "cell_type": "code",
      "execution_count": 66,
      "metadata": {
        "colab": {
          "base_uri": "https://localhost:8080/"
        },
        "id": "10QF1mym7TWs",
        "outputId": "0b6a17bc-93fd-4b47-e22f-44709bb76f99"
      },
      "outputs": [
        {
          "output_type": "execute_result",
          "data": {
            "text/plain": [
              "pandas.core.series.Series"
            ]
          },
          "metadata": {},
          "execution_count": 66
        }
      ],
      "source": [
        "type(games.Name)"
      ]
    },
    {
      "cell_type": "code",
      "execution_count": 67,
      "metadata": {
        "colab": {
          "base_uri": "https://localhost:8080/"
        },
        "id": "24E6ezzf7TWs",
        "outputId": "1a9ac9d5-e3f8-4fee-9636-ddcbd634caf4"
      },
      "outputs": [
        {
          "output_type": "execute_result",
          "data": {
            "text/plain": [
              "RangeIndex(start=0, stop=16598, step=1)"
            ]
          },
          "metadata": {},
          "execution_count": 67
        }
      ],
      "source": [
        "# Defines the index of the Series.\n",
        "\n",
        "games[\"Name\"].index"
      ]
    },
    {
      "cell_type": "code",
      "execution_count": 68,
      "metadata": {
        "colab": {
          "base_uri": "https://localhost:8080/"
        },
        "id": "pDC3LMSA7TWs",
        "outputId": "e654acf3-19a1-4539-a871-dd2a6fd80d0c"
      },
      "outputs": [
        {
          "output_type": "execute_result",
          "data": {
            "text/plain": [
              "RangeIndex(start=0, stop=16598, step=1)"
            ]
          },
          "metadata": {},
          "execution_count": 68
        }
      ],
      "source": [
        "games.index"
      ]
    },
    {
      "cell_type": "code",
      "execution_count": 69,
      "metadata": {
        "colab": {
          "base_uri": "https://localhost:8080/"
        },
        "id": "t12Q29Eg7TWt",
        "outputId": "1cb3aa36-84b6-4bf2-f736-575c9ed26bc2"
      },
      "outputs": [
        {
          "output_type": "execute_result",
          "data": {
            "text/plain": [
              "array(['Wii Sports', 'Super Mario Bros.', 'Mario Kart Wii', ...,\n",
              "       'SCORE International Baja 1000: The Official Game', 'Know How 2',\n",
              "       'Spirits & Spells'], dtype=object)"
            ]
          },
          "metadata": {},
          "execution_count": 69
        }
      ],
      "source": [
        "# Returns Series as ndarray or ndarray-like depending on the dtype\n",
        "\n",
        "games[\"Name\"].values"
      ]
    },
    {
      "cell_type": "code",
      "execution_count": 70,
      "metadata": {
        "colab": {
          "base_uri": "https://localhost:8080/"
        },
        "id": "B8HS0-Dv7TWt",
        "outputId": "f81764dd-e311-42d2-e0a5-39f2921d9211"
      },
      "outputs": [
        {
          "output_type": "execute_result",
          "data": {
            "text/plain": [
              "<bound method Series.keys of 0                                              Wii Sports\n",
              "1                                       Super Mario Bros.\n",
              "2                                          Mario Kart Wii\n",
              "3                                       Wii Sports Resort\n",
              "4                                Pokemon Red/Pokemon Blue\n",
              "                               ...                       \n",
              "16593                  Woody Woodpecker in Crazy Castle 5\n",
              "16594                       Men in Black II: Alien Escape\n",
              "16595    SCORE International Baja 1000: The Official Game\n",
              "16596                                          Know How 2\n",
              "16597                                    Spirits & Spells\n",
              "Name: Name, Length: 16598, dtype: object>"
            ]
          },
          "metadata": {},
          "execution_count": 70
        }
      ],
      "source": [
        "# It returns alias for index\n",
        "\n",
        "games[\"Name\"].keys"
      ]
    },
    {
      "cell_type": "code",
      "execution_count": 71,
      "metadata": {
        "colab": {
          "base_uri": "https://localhost:8080/"
        },
        "id": "vvhies277TWt",
        "outputId": "23390555-a3e8-4276-9f2f-f76a1394a687"
      },
      "outputs": [
        {
          "output_type": "execute_result",
          "data": {
            "text/plain": [
              "RangeIndex(start=0, stop=16598, step=1)"
            ]
          },
          "metadata": {},
          "execution_count": 71
        }
      ],
      "source": [
        "games.Name.keys()"
      ]
    },
    {
      "cell_type": "code",
      "execution_count": 72,
      "metadata": {
        "colab": {
          "base_uri": "https://localhost:8080/"
        },
        "id": "Z3dqwmDS7TWt",
        "outputId": "46bc2bc2-4e0f-4338-e906-d138b60c48c0"
      },
      "outputs": [
        {
          "output_type": "execute_result",
          "data": {
            "text/plain": [
              "dtype('O')"
            ]
          },
          "metadata": {},
          "execution_count": 72
        }
      ],
      "source": [
        "# It returns the data type of the data.\n",
        "\n",
        "games[\"Name\"].dtype"
      ]
    },
    {
      "cell_type": "code",
      "execution_count": 73,
      "metadata": {
        "colab": {
          "base_uri": "https://localhost:8080/"
        },
        "id": "tdAk99xp7TWt",
        "outputId": "c44c4f28-a7e3-48e0-d728-67547eb1dc72"
      },
      "outputs": [
        {
          "output_type": "execute_result",
          "data": {
            "text/plain": [
              "Rank              int64\n",
              "Name             object\n",
              "Platform         object\n",
              "Year            float64\n",
              "Genre            object\n",
              "Publisher        object\n",
              "NA_Sales        float64\n",
              "EU_Sales        float64\n",
              "JP_Sales        float64\n",
              "Other_Sales     float64\n",
              "Global_Sales    float64\n",
              "dtype: object"
            ]
          },
          "metadata": {},
          "execution_count": 73
        }
      ],
      "source": [
        "games.dtypes"
      ]
    },
    {
      "cell_type": "code",
      "execution_count": 74,
      "metadata": {
        "colab": {
          "base_uri": "https://localhost:8080/"
        },
        "id": "FWuXkhSe7TWt",
        "outputId": "5fe2c750-a6b6-4083-fdd2-817b93abd40e"
      },
      "outputs": [
        {
          "output_type": "execute_result",
          "data": {
            "text/plain": [
              "(16598,)"
            ]
          },
          "metadata": {},
          "execution_count": 74
        }
      ],
      "source": [
        "# It returns a tuple of shape of the data.\n",
        "\n",
        "games[\"Name\"].shape"
      ]
    },
    {
      "cell_type": "code",
      "execution_count": 75,
      "metadata": {
        "colab": {
          "base_uri": "https://localhost:8080/"
        },
        "id": "pQ7VgP7_7TWt",
        "outputId": "fe3e70a1-aaba-4b24-bf62-46281124a20f"
      },
      "outputs": [
        {
          "output_type": "execute_result",
          "data": {
            "text/plain": [
              "16598"
            ]
          },
          "metadata": {},
          "execution_count": 75
        }
      ],
      "source": [
        "# It returns the size of the data.\n",
        "\n",
        "games[\"Name\"].size"
      ]
    },
    {
      "cell_type": "code",
      "execution_count": null,
      "metadata": {
        "id": "u5nkmuq27TWu",
        "outputId": "648c479e-614a-47ac-9d82-888de6c61a6a"
      },
      "outputs": [
        {
          "data": {
            "text/plain": [
              "1"
            ]
          },
          "execution_count": 69,
          "metadata": {},
          "output_type": "execute_result"
        }
      ],
      "source": [
        "# It returns the number of dimensions in the data.\n",
        "\n",
        "games[\"Name\"].ndim"
      ]
    },
    {
      "cell_type": "code",
      "execution_count": null,
      "metadata": {
        "id": "9_63gfdz7TWu",
        "outputId": "4140d9dd-0bb1-4a1e-9336-3c5cae11f88a"
      },
      "outputs": [
        {
          "data": {
            "text/plain": [
              "False"
            ]
          },
          "execution_count": 70,
          "metadata": {},
          "output_type": "execute_result"
        }
      ],
      "source": [
        "# It returns True if Series object is empty, otherwise returns false.\n",
        "\n",
        "games[\"Name\"].empty"
      ]
    },
    {
      "cell_type": "code",
      "execution_count": null,
      "metadata": {
        "id": "BjGgnN1t7TWu",
        "outputId": "d7da152e-513e-4bdc-e21b-fecb0f96c4d8"
      },
      "outputs": [
        {
          "data": {
            "text/plain": [
              "False"
            ]
          },
          "execution_count": 71,
          "metadata": {},
          "output_type": "execute_result"
        }
      ],
      "source": [
        "# It returns True if there are any NaN values, otherwise returns false.\n",
        "\n",
        "games[\"Name\"].hasnans"
      ]
    },
    {
      "cell_type": "code",
      "execution_count": null,
      "metadata": {
        "id": "-kdrPIj47TWu",
        "outputId": "4eabddd2-101c-4dfd-a225-1f4c025296fc"
      },
      "outputs": [
        {
          "data": {
            "text/plain": [
              "132784"
            ]
          },
          "execution_count": 72,
          "metadata": {},
          "output_type": "execute_result"
        }
      ],
      "source": [
        "# It returns the number of bytes in the data.\n",
        "\n",
        "games[\"Name\"].nbytes"
      ]
    },
    {
      "cell_type": "code",
      "execution_count": null,
      "metadata": {
        "id": "Fx1P6_JI7TWu",
        "outputId": "a6a10349-95f7-467b-e4a8-ec64d5f06ff9"
      },
      "outputs": [
        {
          "data": {
            "text/plain": [
              "Index              128\n",
              "Rank            132784\n",
              "Name            132784\n",
              "Platform        132784\n",
              "Year            132784\n",
              "Genre           132784\n",
              "Publisher       132784\n",
              "NA_Sales        132784\n",
              "EU_Sales        132784\n",
              "JP_Sales        132784\n",
              "Other_Sales     132784\n",
              "Global_Sales    132784\n",
              "dtype: int64"
            ]
          },
          "execution_count": 73,
          "metadata": {},
          "output_type": "execute_result"
        }
      ],
      "source": [
        "games.memory_usage(index=True, deep=False)"
      ]
    },
    {
      "cell_type": "markdown",
      "metadata": {
        "id": "zHK9NL3M7TWu"
      },
      "source": [
        "**SOME COMMON METHODS & FUNCTIONS** [Official Pandas API Document](https://pandas.pydata.org/docs/reference/api/pandas.Series.html)<br>\n",
        "\n",
        "**Series.head(n)**\tIt returns the first n rows of the series.<br>\n",
        "**Series.tail(n)**\tIt returns the last n rows of the series.<br>\n",
        "**Series.sample(n)**\tIt returns the n randomized sample from series.<br>\n",
        "**Series.describe()**\tGenerates descriptive statistics of the series, including count, mean, standard deviation, minimum, maximum, and quartiles.<br>\n",
        "**Series.unique()**\tReturns a sorted array of unique values in the series.<br>\n",
        "**Series.value_counts()**  \tComputes a frequency count of each unique value in the series.<br>\n",
        "**Series.sort_values()**   Sorts the series by its values.<br>\n",
        "**Series.sort_index()**\tSorts the series by its index.<br>\n",
        "**Series.isnull()**   \t Returns a boolean series indicating which values are missing (null/NaN).<br>"
      ]
    },
    {
      "cell_type": "markdown",
      "metadata": {
        "id": "sB_NXb5U7TWu"
      },
      "source": [
        "[**head(n=5)**](https://pandas.pydata.org/docs/reference/api/pandas.DataFrame.head.html) function returns the first n rows for the object based on position. It is useful for quickly testing if your object has the right type of data in it.\n",
        "\n",
        "For negative values of n, this function returns all rows except the last n rows, equivalent to df[:-n]."
      ]
    },
    {
      "cell_type": "code",
      "execution_count": null,
      "metadata": {
        "id": "0zExz0xv7TWv",
        "outputId": "9c499a85-0b06-4a49-b79d-af3dccd436d8"
      },
      "outputs": [
        {
          "data": {
            "text/plain": [
              "0                  Wii Sports\n",
              "1           Super Mario Bros.\n",
              "2              Mario Kart Wii\n",
              "3           Wii Sports Resort\n",
              "4    Pokemon Red/Pokemon Blue\n",
              "Name: Name, dtype: object"
            ]
          },
          "execution_count": 74,
          "metadata": {},
          "output_type": "execute_result"
        }
      ],
      "source": [
        "games[\"Name\"].head()"
      ]
    },
    {
      "cell_type": "markdown",
      "metadata": {
        "id": "k3e9iqqN7TWv"
      },
      "source": [
        "**[tail()](https://pandas.pydata.org/docs/reference/api/pandas.DataFrame.tail.html)** function returns last n rows from the object based on position. It is useful for quickly verifying data, for example, after sorting or appending rows."
      ]
    },
    {
      "cell_type": "code",
      "execution_count": null,
      "metadata": {
        "id": "01pv2cd67TWv",
        "outputId": "6751aea2-aedc-436f-e08b-4a5a55c96575"
      },
      "outputs": [
        {
          "data": {
            "text/plain": [
              "16593                  Woody Woodpecker in Crazy Castle 5\n",
              "16594                       Men in Black II: Alien Escape\n",
              "16595    SCORE International Baja 1000: The Official Game\n",
              "16596                                          Know How 2\n",
              "16597                                    Spirits & Spells\n",
              "Name: Name, dtype: object"
            ]
          },
          "execution_count": 75,
          "metadata": {},
          "output_type": "execute_result"
        }
      ],
      "source": [
        "games[\"Name\"].tail()"
      ]
    },
    {
      "cell_type": "markdown",
      "metadata": {
        "id": "un8itBju7TWv"
      },
      "source": [
        "**[sample()](https://pandas.pydata.org/docs/reference/api/pandas.DataFrame.sample.html)** function returns a random sample of items from an axis of object."
      ]
    },
    {
      "cell_type": "code",
      "execution_count": null,
      "metadata": {
        "id": "xnqUYJ677TWv",
        "outputId": "754ea146-c5f5-460e-c4c1-b070bc711db9"
      },
      "outputs": [
        {
          "data": {
            "text/plain": [
              "9877                                               NBA 2K2\n",
              "14187               Battle Assault 3 featuring Gundam Seed\n",
              "15487    Codename: Kids Next Door: Operation V.I.D.E.O....\n",
              "14602                                           Girls Only\n",
              "2232                                            Spider-Man\n",
              "Name: Name, dtype: object"
            ]
          },
          "execution_count": 76,
          "metadata": {},
          "output_type": "execute_result"
        }
      ],
      "source": [
        "games[\"Name\"].sample(5)"
      ]
    },
    {
      "cell_type": "markdown",
      "metadata": {
        "id": "cgJSTJAW7TWv"
      },
      "source": [
        "**[describe()](https://pandas.pydata.org/docs/reference/api/pandas.DataFrame.describe.html)** generates descriptive statistics. Descriptive statistics include those that summarize the central tendency, dispersion and shape of a dataset’s distribution, excluding NaN values.\n",
        "\n",
        "Analyzes both numeric and object series, as well as DataFrame column sets of mixed data types."
      ]
    },
    {
      "cell_type": "code",
      "execution_count": null,
      "metadata": {
        "id": "OmJQHXUO7TWv",
        "outputId": "0ffd52b4-2780-48d5-f052-3cd687f7f14a"
      },
      "outputs": [
        {
          "data": {
            "text/plain": [
              "count      16598\n",
              "unique        12\n",
              "top       Action\n",
              "freq        3316\n",
              "Name: Genre, dtype: object"
            ]
          },
          "execution_count": 77,
          "metadata": {},
          "output_type": "execute_result"
        }
      ],
      "source": [
        "games.Genre.describe()"
      ]
    },
    {
      "cell_type": "code",
      "execution_count": null,
      "metadata": {
        "scrolled": true,
        "id": "-wglfWU57TWw",
        "outputId": "0547265e-463c-4cb7-bd8f-f0eca59d68d7"
      },
      "outputs": [
        {
          "data": {
            "text/plain": [
              "count              16,598.00\n",
              "mean                    0.26\n",
              "std                     0.82\n",
              "min                     0.00\n",
              "25%                     0.00\n",
              "50%                     0.08\n",
              "75%                     0.24\n",
              "max                    41.49\n",
              "Name: NA_Sales, dtype: float64"
            ]
          },
          "execution_count": 78,
          "metadata": {},
          "output_type": "execute_result"
        }
      ],
      "source": [
        "games.NA_Sales.describe()"
      ]
    },
    {
      "cell_type": "markdown",
      "metadata": {
        "id": "kO0q2GJ97TWw"
      },
      "source": [
        "**[unique()](https://pandas.pydata.org/docs/reference/api/pandas.unique.html)** returns unique values based on a hash table. Uniques are returned in order of appearance. "
      ]
    },
    {
      "cell_type": "code",
      "execution_count": null,
      "metadata": {
        "id": "VnO9mVKZ7TWw",
        "outputId": "0d729985-4c1d-4d14-b929-632e1bbbd9e2"
      },
      "outputs": [
        {
          "data": {
            "text/plain": [
              "array(['Sports', 'Platform', 'Racing', 'Role-Playing', 'Puzzle', 'Misc',\n",
              "       'Shooter', 'Simulation', 'Action', 'Fighting', 'Adventure',\n",
              "       'Strategy'], dtype=object)"
            ]
          },
          "execution_count": 79,
          "metadata": {},
          "output_type": "execute_result"
        }
      ],
      "source": [
        "games[\"Genre\"].unique()"
      ]
    },
    {
      "cell_type": "markdown",
      "metadata": {
        "id": "-J39B9rE7TWw"
      },
      "source": [
        "**[nunique(a)](https://pandas.pydata.org/docs/reference/api/pandas.DataFrame.nunique.html)** Count number of distinct elements in specified axis. Return Series with number of distinct elements. Can ignore NaN values."
      ]
    },
    {
      "cell_type": "code",
      "execution_count": null,
      "metadata": {
        "id": "KdOH3Yw_7TWw",
        "outputId": "9f4188c6-a81e-4ef9-8d50-645e1adb948b"
      },
      "outputs": [
        {
          "data": {
            "text/plain": [
              "12"
            ]
          },
          "execution_count": 80,
          "metadata": {},
          "output_type": "execute_result"
        }
      ],
      "source": [
        "games[\"Genre\"].nunique()"
      ]
    },
    {
      "cell_type": "markdown",
      "metadata": {
        "id": "L8vaHTD97TWw"
      },
      "source": [
        "[**value_counts()**](https://pandas.pydata.org/docs/reference/api/pandas.DataFrame.value_counts.html) returns **``a Series``** containing counts of **``unique values``** (which counts everything except the nan rows).\n",
        "\n",
        "The resulting object will be in descending order so that the first element is the most frequently-occurring element. Excludes NA values by default."
      ]
    },
    {
      "cell_type": "code",
      "execution_count": null,
      "metadata": {
        "id": "7ndiFt4o7TWw",
        "outputId": "3d3cdd31-d212-45a1-dc5f-764c351c9c3c"
      },
      "outputs": [
        {
          "data": {
            "text/plain": [
              "pandas.core.series.Series"
            ]
          },
          "execution_count": 81,
          "metadata": {},
          "output_type": "execute_result"
        }
      ],
      "source": [
        "type(games.Genre.value_counts())"
      ]
    },
    {
      "cell_type": "code",
      "execution_count": null,
      "metadata": {
        "id": "6IqfeRqM7TWw",
        "outputId": "52c18c2a-1b97-48ea-b098-05f79f5ff429"
      },
      "outputs": [
        {
          "data": {
            "text/plain": [
              "Electronic Arts                           1351\n",
              "Activision                                 975\n",
              "Namco Bandai Games                         932\n",
              "Ubisoft                                    921\n",
              "Konami Digital Entertainment               832\n",
              "THQ                                        715\n",
              "Nintendo                                   703\n",
              "Sony Computer Entertainment                683\n",
              "Sega                                       639\n",
              "Take-Two Interactive                       413\n",
              "Capcom                                     381\n",
              "Atari                                      363\n",
              "Tecmo Koei                                 338\n",
              "Square Enix                                233\n",
              "Warner Bros. Interactive Entertainment     232\n",
              "Disney Interactive Studios                 218\n",
              "Unknown                                    203\n",
              "Midway Games                               198\n",
              "Eidos Interactive                          198\n",
              "505 Games                                  192\n",
              "Microsoft Game Studios                     189\n",
              "D3Publisher                                184\n",
              "Acclaim Entertainment                      184\n",
              "Vivendi Games                              164\n",
              "Codemasters                                152\n",
              "Idea Factory                               129\n",
              "Deep Silver                                122\n",
              "Nippon Ichi Software                       105\n",
              "Zoo Digital Publishing                     104\n",
              "Majesco Entertainment                       92\n",
              "LucasArts                                   90\n",
              "Rising Star Games                           86\n",
              "Hudson Soft                                 81\n",
              "Banpresto                                   73\n",
              "Bethesda Softworks                          71\n",
              "Crave Entertainment                         71\n",
              "Atlus                                       67\n",
              "Virgin Interactive                          62\n",
              "Infogrames                                  62\n",
              "Ignition Entertainment                      61\n",
              "5pb                                         61\n",
              "Focus Home Interactive                      58\n",
              "Marvelous Interactive                       56\n",
              "Empire Interactive                          52\n",
              "SquareSoft                                  52\n",
              "Kadokawa Shoten                             50\n",
              "Destineer                                   45\n",
              "DTP Entertainment                           45\n",
              "GT Interactive                              45\n",
              "Alchemist                                   43\n",
              "Name: Publisher, dtype: int64"
            ]
          },
          "execution_count": 82,
          "metadata": {},
          "output_type": "execute_result"
        }
      ],
      "source": [
        "games.Publisher.value_counts().head(50)"
      ]
    },
    {
      "cell_type": "markdown",
      "metadata": {
        "id": "p17WcHM07TWx"
      },
      "source": [
        "You can still use **``value_counts()``** but with **``dropna=False``** rather than True (the default value), as follows:\n",
        "\n",
        "**``P.S.``** Interestingly enough, pd.Series.value_counts method also supports dropna argument, but pd.DataFrame.value_counts method does not"
      ]
    },
    {
      "cell_type": "code",
      "execution_count": null,
      "metadata": {
        "id": "qey1ZcGy7TWx",
        "outputId": "4d1a6b11-0102-4cea-e092-0755894519c7"
      },
      "outputs": [
        {
          "data": {
            "text/plain": [
              "Electronic Arts                           1351\n",
              "Activision                                 975\n",
              "Namco Bandai Games                         932\n",
              "Ubisoft                                    921\n",
              "Konami Digital Entertainment               832\n",
              "THQ                                        715\n",
              "Nintendo                                   703\n",
              "Sony Computer Entertainment                683\n",
              "Sega                                       639\n",
              "Take-Two Interactive                       413\n",
              "Capcom                                     381\n",
              "Atari                                      363\n",
              "Tecmo Koei                                 338\n",
              "Square Enix                                233\n",
              "Warner Bros. Interactive Entertainment     232\n",
              "Disney Interactive Studios                 218\n",
              "Unknown                                    203\n",
              "Eidos Interactive                          198\n",
              "Midway Games                               198\n",
              "505 Games                                  192\n",
              "Microsoft Game Studios                     189\n",
              "Acclaim Entertainment                      184\n",
              "D3Publisher                                184\n",
              "Vivendi Games                              164\n",
              "Codemasters                                152\n",
              "Idea Factory                               129\n",
              "Deep Silver                                122\n",
              "Nippon Ichi Software                       105\n",
              "Zoo Digital Publishing                     104\n",
              "Majesco Entertainment                       92\n",
              "LucasArts                                   90\n",
              "Rising Star Games                           86\n",
              "Hudson Soft                                 81\n",
              "Banpresto                                   73\n",
              "Crave Entertainment                         71\n",
              "Bethesda Softworks                          71\n",
              "Atlus                                       67\n",
              "Infogrames                                  62\n",
              "Virgin Interactive                          62\n",
              "5pb                                         61\n",
              "Ignition Entertainment                      61\n",
              "NaN                                         58\n",
              "Focus Home Interactive                      58\n",
              "Marvelous Interactive                       56\n",
              "Empire Interactive                          52\n",
              "SquareSoft                                  52\n",
              "Kadokawa Shoten                             50\n",
              "Destineer                                   45\n",
              "GT Interactive                              45\n",
              "DTP Entertainment                           45\n",
              "Name: Publisher, dtype: int64"
            ]
          },
          "execution_count": 83,
          "metadata": {},
          "output_type": "execute_result"
        }
      ],
      "source": [
        "games.Publisher.value_counts(dropna=False).head(50)"
      ]
    },
    {
      "cell_type": "markdown",
      "metadata": {
        "id": "QTCl-a2i7TWx"
      },
      "source": [
        "With normalize set to True, returns the relative frequency by dividing all values by the sum of values."
      ]
    },
    {
      "cell_type": "code",
      "execution_count": null,
      "metadata": {
        "id": "Ov6IcxTX7TWx",
        "outputId": "271406c6-50e4-4ade-8acb-9ad0a3ed181d"
      },
      "outputs": [
        {
          "data": {
            "text/plain": [
              "Action                         0.20\n",
              "Sports                         0.14\n",
              "Misc                           0.10\n",
              "Role-Playing                   0.09\n",
              "Shooter                        0.08\n",
              "Adventure                      0.08\n",
              "Racing                         0.08\n",
              "Platform                       0.05\n",
              "Simulation                     0.05\n",
              "Fighting                       0.05\n",
              "Strategy                       0.04\n",
              "Puzzle                         0.04\n",
              "Name: Genre, dtype: float64"
            ]
          },
          "execution_count": 84,
          "metadata": {},
          "output_type": "execute_result"
        }
      ],
      "source": [
        "games.Genre.value_counts(normalize=True) "
      ]
    },
    {
      "cell_type": "markdown",
      "metadata": {
        "id": "XKCO9qnA7TWx"
      },
      "source": [
        "20% of the computer games sold are action games"
      ]
    },
    {
      "cell_type": "markdown",
      "metadata": {
        "id": "ru6T75707TWx"
      },
      "source": [
        "<span style=\"color:blue\">**What if we have many unique values at the feature we are interested in?**</span>"
      ]
    },
    {
      "cell_type": "markdown",
      "metadata": {
        "id": "Sg3xegTu7TWx"
      },
      "source": [
        "**``bin``** parameter inside value_counts() is probably the most underutilized one. value_counts() can be used to bin continuous data into discrete intervals with the help of the bin parameter. This option works only with numerical data. It is similar to the **``pd.cut()``** function. "
      ]
    },
    {
      "cell_type": "code",
      "execution_count": null,
      "metadata": {
        "id": "Lm_Pd3CY7TWx",
        "outputId": "ce8c70e2-ed70-4994-f88d-600820681125"
      },
      "outputs": [
        {
          "data": {
            "text/plain": [
              " 0.00    5730\n",
              " 0.01    1496\n",
              " 0.02    1269\n",
              " 0.03     934\n",
              " 0.04     748\n",
              "         ... \n",
              " 3.42       1\n",
              " 2.38       1\n",
              " 1.99       1\n",
              " 2.10       1\n",
              "29.02       1\n",
              "Name: EU_Sales, Length: 305, dtype: int64"
            ]
          },
          "execution_count": 85,
          "metadata": {},
          "output_type": "execute_result"
        }
      ],
      "source": [
        "games.EU_Sales.value_counts()"
      ]
    },
    {
      "cell_type": "markdown",
      "metadata": {
        "id": "wSwbZo6d7TWy"
      },
      "source": [
        "Using value_counts() in a plain way sometimes doesn’t convey much information as the output contains a lot of categories for every value of related feature. Instead, let’s group them into 4 bins."
      ]
    },
    {
      "cell_type": "code",
      "execution_count": null,
      "metadata": {
        "id": "1usX4n7G7TWy",
        "outputId": "fe74bc4b-ac1c-4932-8ee9-69126987d5f3"
      },
      "outputs": [
        {
          "data": {
            "text/plain": [
              "(-0.030000000000000002, 7.255]    16586\n",
              "(7.255, 14.51]                       11\n",
              "(21.765, 29.02]                       1\n",
              "(14.51, 21.765]                       0\n",
              "Name: EU_Sales, dtype: int64"
            ]
          },
          "execution_count": 86,
          "metadata": {},
          "output_type": "execute_result"
        }
      ],
      "source": [
        "games.EU_Sales.value_counts(bins=4) \n",
        "\n",
        "# print(games.EU_Sales.min())\n",
        "# print(games.EU_Sales.max())"
      ]
    },
    {
      "cell_type": "markdown",
      "metadata": {
        "id": "LkdZRU837TWy"
      },
      "source": [
        "Binning makes it easy to understand the idea being conveyed. We can easily see that most of the gamers in EU paid less than 7.255 for their games. Also, we can see that having four bins serves our purpose since no sales falls into the last bin."
      ]
    },
    {
      "cell_type": "markdown",
      "metadata": {
        "id": "Gs8afRw57TWy"
      },
      "source": [
        "**[sort_values()](https://pandas.pydata.org/docs/reference/api/pandas.DataFrame.sort_values.html)** sorts by the values along either axis."
      ]
    },
    {
      "cell_type": "code",
      "execution_count": null,
      "metadata": {
        "id": "jy_aOH2j7TWy",
        "outputId": "c6276f56-ac1f-4004-ef58-05e546d2d9cc"
      },
      "outputs": [
        {
          "data": {
            "text/plain": [
              "16597                   0.00\n",
              "5645                    0.00\n",
              "5644                    0.00\n",
              "11968                   0.00\n",
              "11971                   0.00\n",
              "                ...         \n",
              "16                      9.27\n",
              "10                     11.00\n",
              "3                      11.01\n",
              "2                      12.88\n",
              "0                      29.02\n",
              "Name: EU_Sales, Length: 16598, dtype: float64"
            ]
          },
          "execution_count": 87,
          "metadata": {},
          "output_type": "execute_result"
        }
      ],
      "source": [
        "games.EU_Sales.sort_values()"
      ]
    },
    {
      "cell_type": "markdown",
      "metadata": {
        "id": "BXrb_MmC7TWy"
      },
      "source": [
        "**[sort_index()](https://pandas.pydata.org/docs/reference/api/pandas.DataFrame.sort_index.html)** sorts object by labels (along an axis). Returns a new DataFrame sorted by label if inplace argument is False, otherwise updates the original DataFrame and returns None."
      ]
    },
    {
      "cell_type": "code",
      "execution_count": null,
      "metadata": {
        "id": "jJzthAxh7TWy",
        "outputId": "df729273-10a3-46b1-fdf6-12e6055b4bd1"
      },
      "outputs": [
        {
          "data": {
            "text/plain": [
              "0                      29.02\n",
              "1                       3.58\n",
              "2                      12.88\n",
              "3                      11.01\n",
              "4                       8.89\n",
              "                ...         \n",
              "16593                   0.00\n",
              "16594                   0.00\n",
              "16595                   0.00\n",
              "16596                   0.01\n",
              "16597                   0.00\n",
              "Name: EU_Sales, Length: 16598, dtype: float64"
            ]
          },
          "execution_count": 88,
          "metadata": {},
          "output_type": "execute_result"
        }
      ],
      "source": [
        "games.EU_Sales.sort_index()"
      ]
    },
    {
      "cell_type": "markdown",
      "metadata": {
        "id": "lEtxT4o_7TWy"
      },
      "source": [
        "**[isnull()](https://pandas.pydata.org/docs/reference/api/pandas.isnull.html)** detects missing values for an array-like object. This function takes a scalar or array-like object and indicates whether values are missing (NaN in numeric arrays, None or NaN in object arrays, NaT in datetimelike)."
      ]
    },
    {
      "cell_type": "code",
      "execution_count": null,
      "metadata": {
        "id": "jdRJmHfY7TWz",
        "outputId": "a35d50d8-0770-416e-97ca-60bc3156c050"
      },
      "outputs": [
        {
          "data": {
            "text/plain": [
              "0        False\n",
              "1        False\n",
              "2        False\n",
              "3        False\n",
              "4        False\n",
              "         ...  \n",
              "16593    False\n",
              "16594    False\n",
              "16595    False\n",
              "16596    False\n",
              "16597    False\n",
              "Name: Year, Length: 16598, dtype: bool"
            ]
          },
          "execution_count": 89,
          "metadata": {},
          "output_type": "execute_result"
        }
      ],
      "source": [
        "games[\"Year\"].isnull()"
      ]
    },
    {
      "cell_type": "code",
      "execution_count": null,
      "metadata": {
        "id": "aXNykYwX7TWz",
        "outputId": "23227cea-2427-4752-8d41-9ef08397fbfc"
      },
      "outputs": [
        {
          "data": {
            "text/plain": [
              "271"
            ]
          },
          "execution_count": 90,
          "metadata": {},
          "output_type": "execute_result"
        }
      ],
      "source": [
        "games[\"Year\"].isnull().sum()"
      ]
    },
    {
      "cell_type": "markdown",
      "metadata": {
        "id": "GcH5Lq-A7TWz"
      },
      "source": [
        "## <p style=\"background-color:#9d4f8c; font-family:newtimeroman; color:#FFF9ED; font-size:175%; text-align:center; border-radius:10px 10px;\">Creating a Pandas DataFrames</p>\n",
        "\n",
        "<a id=\"4\"></a>\n",
        "<a href=\"#toc\" class=\"btn btn-primary btn-sm\" role=\"button\" aria-pressed=\"true\" \n",
        "style=\"color:blue; background-color:#dfa8e4\" data-toggle=\"popover\">Content</a>\n",
        "\n",
        "Pandas DataFrame is a 2-dimensional labeled data structure with columns of potentially different types. It is generally the most commonly used pandas object. Pandas DataFrame can be created in multiple ways:\n",
        "\n",
        "  - Creating Pandas DataFrame from lists of lists.\n",
        "  - Creating DataFrame from dict of narray/lists.\n",
        "  - Creating Dataframe from list of dicts.\n",
        "  - Creating DataFrame using zip() function.\n",
        "  - Creating DataFrame from Dicts of series.\n",
        "  \n",
        "[Source](https://pandas.pydata.org/docs/reference/api/pandas.DataFrame.html), [Source](https://www.javatpoint.com/how-to-create-a-dataframes-in-python), [Source](https://towardsdatascience.com/15-ways-to-create-a-pandas-dataframe-754ecc082c17)\n",
        "\n",
        "**Let's remember how to create a DataFrame in Pandas:**"
      ]
    },
    {
      "cell_type": "code",
      "execution_count": null,
      "metadata": {
        "id": "ExjNdj1u7TWz",
        "outputId": "77f763c5-6f5a-415b-f323-8ab5f1224043"
      },
      "outputs": [
        {
          "data": {
            "text/plain": [
              "{'name': ['Bill', 'Tom', 'Tim', 'John', 'Alex', 'Vanessa', 'Kate'],\n",
              " 'score': [90, 80, 85, 75, 95, 60, 65],\n",
              " 'sport': ['Wrestling',\n",
              "  'Football',\n",
              "  'Skiing',\n",
              "  'Swimming',\n",
              "  'Tennis',\n",
              "  'Karete',\n",
              "  'Surfing'],\n",
              " 'sex': ['M', 'M', 'M', 'M', 'F', 'F', 'F']}"
            ]
          },
          "execution_count": 91,
          "metadata": {},
          "output_type": "execute_result"
        }
      ],
      "source": [
        "data = {\"name\":[\"Bill\", \"Tom\", \"Tim\", \"John\", \"Alex\", \"Vanessa\", \"Kate\"],\n",
        "        \"score\":[90, 80, 85, 75, 95, 60, 65],\n",
        "        \"sport\":[\"Wrestling\", \"Football\", \"Skiing\", \"Swimming\", \"Tennis\", \"Karete\", \"Surfing\"],\n",
        "        \"sex\":[\"M\", \"M\", \"M\", \"M\", \"F\", \"F\", \"F\"]}\n",
        "data"
      ]
    },
    {
      "cell_type": "markdown",
      "metadata": {
        "id": "g2HjIVpb7TWz"
      },
      "source": [
        "**pandas.DataFrame(data=None, index=None, columns=None, dtype=None, copy=None)** [Official Pandas API](https://pandas.pydata.org/docs/reference/api/pandas.DataFrame.html)"
      ]
    },
    {
      "cell_type": "code",
      "execution_count": null,
      "metadata": {
        "id": "rbzp5-pG7TWz",
        "outputId": "a19b11d4-8713-4a14-faed-bfbe4ce90098"
      },
      "outputs": [
        {
          "data": {
            "text/html": [
              "<div>\n",
              "<style scoped>\n",
              "    .dataframe tbody tr th:only-of-type {\n",
              "        vertical-align: middle;\n",
              "    }\n",
              "\n",
              "    .dataframe tbody tr th {\n",
              "        vertical-align: top;\n",
              "    }\n",
              "\n",
              "    .dataframe thead th {\n",
              "        text-align: right;\n",
              "    }\n",
              "</style>\n",
              "<table border=\"1\" class=\"dataframe\">\n",
              "  <thead>\n",
              "    <tr style=\"text-align: right;\">\n",
              "      <th></th>\n",
              "      <th>name</th>\n",
              "      <th>score</th>\n",
              "      <th>sport</th>\n",
              "      <th>sex</th>\n",
              "    </tr>\n",
              "  </thead>\n",
              "  <tbody>\n",
              "    <tr>\n",
              "      <th>0</th>\n",
              "      <td>Bill</td>\n",
              "      <td>90</td>\n",
              "      <td>Wrestling</td>\n",
              "      <td>M</td>\n",
              "    </tr>\n",
              "    <tr>\n",
              "      <th>1</th>\n",
              "      <td>Tom</td>\n",
              "      <td>80</td>\n",
              "      <td>Football</td>\n",
              "      <td>M</td>\n",
              "    </tr>\n",
              "    <tr>\n",
              "      <th>2</th>\n",
              "      <td>Tim</td>\n",
              "      <td>85</td>\n",
              "      <td>Skiing</td>\n",
              "      <td>M</td>\n",
              "    </tr>\n",
              "    <tr>\n",
              "      <th>3</th>\n",
              "      <td>John</td>\n",
              "      <td>75</td>\n",
              "      <td>Swimming</td>\n",
              "      <td>M</td>\n",
              "    </tr>\n",
              "    <tr>\n",
              "      <th>4</th>\n",
              "      <td>Alex</td>\n",
              "      <td>95</td>\n",
              "      <td>Tennis</td>\n",
              "      <td>F</td>\n",
              "    </tr>\n",
              "    <tr>\n",
              "      <th>5</th>\n",
              "      <td>Vanessa</td>\n",
              "      <td>60</td>\n",
              "      <td>Karete</td>\n",
              "      <td>F</td>\n",
              "    </tr>\n",
              "    <tr>\n",
              "      <th>6</th>\n",
              "      <td>Kate</td>\n",
              "      <td>65</td>\n",
              "      <td>Surfing</td>\n",
              "      <td>F</td>\n",
              "    </tr>\n",
              "  </tbody>\n",
              "</table>\n",
              "</div>"
            ],
            "text/plain": [
              "      name  score      sport sex\n",
              "0     Bill     90  Wrestling   M\n",
              "1      Tom     80   Football   M\n",
              "2      Tim     85     Skiing   M\n",
              "3     John     75   Swimming   M\n",
              "4     Alex     95     Tennis   F\n",
              "5  Vanessa     60     Karete   F\n",
              "6     Kate     65    Surfing   F"
            ]
          },
          "execution_count": 92,
          "metadata": {},
          "output_type": "execute_result"
        }
      ],
      "source": [
        "df = pd.DataFrame(data)\n",
        "df"
      ]
    },
    {
      "cell_type": "markdown",
      "metadata": {
        "id": "h1oE2hru7TWz"
      },
      "source": [
        "As seen, we have created a Dictionary and assigned it to an object named \"data\"."
      ]
    },
    {
      "cell_type": "markdown",
      "metadata": {
        "id": "Hbk_lJ1N7TWz"
      },
      "source": [
        "## <p style=\"background-color:#9d4f8c; font-family:newtimeroman; color:#FFF9ED; font-size:175%; text-align:center; border-radius:10px 10px;\">Working with DataFrames</p>\n",
        "\n",
        "<a id=\"5\"></a>\n",
        "<a href=\"#toc\" class=\"btn btn-primary btn-sm\" role=\"button\" aria-pressed=\"true\" \n",
        "style=\"color:blue; background-color:#dfa8e4\" data-toggle=\"popover\">Content</a>\n",
        "\n",
        "While a `Series` is a single column of data, a `DataFrame` is several columns, one for each variable.\n",
        "\n",
        "In essence, a `DataFrame` in pandas is analogous to a (highly optimized) Excel spreadsheet.\n",
        "\n",
        "The two main data structures in pandas both have at least one axis. A **Series** has **one axis**, the index. A **DataFrame** has **two axes**, the index and the columns. It’s useful to note here that in all the DataFrame functions that can be applied to either rows or columns, an axis of 0 refers to the index, an axis of 1 refers to the columns.\n",
        "\n",
        "Thus, it is a powerful tool for representing and analyzing data that are naturally organized into rows and columns, often with  descriptive indexes for individual rows and individual columns.\n",
        "\n",
        "Let’s look at an example that reads data from the CSV file named `test_lab.csv`. "
      ]
    },
    {
      "cell_type": "code",
      "execution_count": null,
      "metadata": {
        "id": "aJcx4kRJ7TW0",
        "outputId": "ab422873-aa0b-4676-d70e-ab2f43a83dda"
      },
      "outputs": [
        {
          "name": "stdout",
          "output_type": "stream",
          "text": [
            "\u001b[1mThe type of test_lab.csv is\u001b[0m <class 'pandas.core.frame.DataFrame'>\n"
          ]
        },
        {
          "data": {
            "text/html": [
              "<div>\n",
              "<style scoped>\n",
              "    .dataframe tbody tr th:only-of-type {\n",
              "        vertical-align: middle;\n",
              "    }\n",
              "\n",
              "    .dataframe tbody tr th {\n",
              "        vertical-align: top;\n",
              "    }\n",
              "\n",
              "    .dataframe thead th {\n",
              "        text-align: right;\n",
              "    }\n",
              "</style>\n",
              "<table border=\"1\" class=\"dataframe\">\n",
              "  <thead>\n",
              "    <tr style=\"text-align: right;\">\n",
              "      <th></th>\n",
              "      <th>country</th>\n",
              "      <th>country isocode</th>\n",
              "      <th>year</th>\n",
              "      <th>POP</th>\n",
              "      <th>XRAT</th>\n",
              "      <th>tcgdp</th>\n",
              "      <th>cc</th>\n",
              "      <th>cg</th>\n",
              "    </tr>\n",
              "  </thead>\n",
              "  <tbody>\n",
              "    <tr>\n",
              "      <th>0</th>\n",
              "      <td>Argentina</td>\n",
              "      <td>ARG</td>\n",
              "      <td>2000</td>\n",
              "      <td>37,335.65</td>\n",
              "      <td>1.00</td>\n",
              "      <td>295,072.22</td>\n",
              "      <td>75.72</td>\n",
              "      <td>5.58</td>\n",
              "    </tr>\n",
              "    <tr>\n",
              "      <th>1</th>\n",
              "      <td>Australia</td>\n",
              "      <td>AUS</td>\n",
              "      <td>2000</td>\n",
              "      <td>19,053.19</td>\n",
              "      <td>1.72</td>\n",
              "      <td>541,804.65</td>\n",
              "      <td>67.76</td>\n",
              "      <td>6.72</td>\n",
              "    </tr>\n",
              "    <tr>\n",
              "      <th>2</th>\n",
              "      <td>India</td>\n",
              "      <td>IND</td>\n",
              "      <td>2000</td>\n",
              "      <td>1,006,300.30</td>\n",
              "      <td>44.94</td>\n",
              "      <td>1,728,144.37</td>\n",
              "      <td>64.58</td>\n",
              "      <td>14.07</td>\n",
              "    </tr>\n",
              "    <tr>\n",
              "      <th>3</th>\n",
              "      <td>Israel</td>\n",
              "      <td>ISR</td>\n",
              "      <td>2000</td>\n",
              "      <td>6,114.57</td>\n",
              "      <td>4.08</td>\n",
              "      <td>129,253.89</td>\n",
              "      <td>64.44</td>\n",
              "      <td>10.27</td>\n",
              "    </tr>\n",
              "    <tr>\n",
              "      <th>4</th>\n",
              "      <td>Malawi</td>\n",
              "      <td>MWI</td>\n",
              "      <td>2000</td>\n",
              "      <td>11,801.50</td>\n",
              "      <td>59.54</td>\n",
              "      <td>5,026.22</td>\n",
              "      <td>74.71</td>\n",
              "      <td>11.66</td>\n",
              "    </tr>\n",
              "    <tr>\n",
              "      <th>5</th>\n",
              "      <td>South Africa</td>\n",
              "      <td>ZAF</td>\n",
              "      <td>2000</td>\n",
              "      <td>45,064.10</td>\n",
              "      <td>6.94</td>\n",
              "      <td>227,242.37</td>\n",
              "      <td>72.72</td>\n",
              "      <td>5.73</td>\n",
              "    </tr>\n",
              "    <tr>\n",
              "      <th>6</th>\n",
              "      <td>United States</td>\n",
              "      <td>USA</td>\n",
              "      <td>2000</td>\n",
              "      <td>282,171.96</td>\n",
              "      <td>1.00</td>\n",
              "      <td>9,898,700.00</td>\n",
              "      <td>72.35</td>\n",
              "      <td>6.03</td>\n",
              "    </tr>\n",
              "    <tr>\n",
              "      <th>7</th>\n",
              "      <td>Uruguay</td>\n",
              "      <td>URY</td>\n",
              "      <td>2000</td>\n",
              "      <td>3,219.79</td>\n",
              "      <td>12.10</td>\n",
              "      <td>25,255.96</td>\n",
              "      <td>78.98</td>\n",
              "      <td>5.11</td>\n",
              "    </tr>\n",
              "  </tbody>\n",
              "</table>\n",
              "</div>"
            ],
            "text/plain": [
              "         country country isocode  year                  POP  \\\n",
              "0      Argentina             ARG  2000            37,335.65   \n",
              "1      Australia             AUS  2000            19,053.19   \n",
              "2          India             IND  2000         1,006,300.30   \n",
              "3         Israel             ISR  2000             6,114.57   \n",
              "4         Malawi             MWI  2000            11,801.50   \n",
              "5   South Africa             ZAF  2000            45,064.10   \n",
              "6  United States             USA  2000           282,171.96   \n",
              "7        Uruguay             URY  2000             3,219.79   \n",
              "\n",
              "                  XRAT                tcgdp                   cc  \\\n",
              "0                 1.00           295,072.22                75.72   \n",
              "1                 1.72           541,804.65                67.76   \n",
              "2                44.94         1,728,144.37                64.58   \n",
              "3                 4.08           129,253.89                64.44   \n",
              "4                59.54             5,026.22                74.71   \n",
              "5                 6.94           227,242.37                72.72   \n",
              "6                 1.00         9,898,700.00                72.35   \n",
              "7                12.10            25,255.96                78.98   \n",
              "\n",
              "                    cg  \n",
              "0                 5.58  \n",
              "1                 6.72  \n",
              "2                14.07  \n",
              "3                10.27  \n",
              "4                11.66  \n",
              "5                 5.73  \n",
              "6                 6.03  \n",
              "7                 5.11  "
            ]
          },
          "execution_count": 93,
          "metadata": {},
          "output_type": "execute_result"
        }
      ],
      "source": [
        "df = pd.read_csv('test_lab.csv')\n",
        "print(f\"\\033[1mThe type of test_lab.csv is\\033[0m {type(df)}\")\n",
        "df"
      ]
    },
    {
      "cell_type": "markdown",
      "metadata": {
        "id": "D26D56yu7TW0"
      },
      "source": [
        "[**info()**](https://pandas.pydata.org/docs/reference/api/pandas.DataFrame.info.html) prints a concise summary of a DataFrame. This method prints information about a DataFrame including the number of columns, column labels, column data types, memory usage, range index, and the number of cells in each column (non-null values)."
      ]
    },
    {
      "cell_type": "code",
      "execution_count": null,
      "metadata": {
        "id": "1edyxEax7TW0",
        "outputId": "95580995-da6b-4224-e728-462ad2dce381"
      },
      "outputs": [
        {
          "name": "stdout",
          "output_type": "stream",
          "text": [
            "<class 'pandas.core.frame.DataFrame'>\n",
            "RangeIndex: 8 entries, 0 to 7\n",
            "Data columns (total 8 columns):\n",
            " #   Column           Non-Null Count  Dtype  \n",
            "---  ------           --------------  -----  \n",
            " 0   country          8 non-null      object \n",
            " 1   country isocode  8 non-null      object \n",
            " 2   year             8 non-null      int64  \n",
            " 3   POP              8 non-null      float64\n",
            " 4   XRAT             8 non-null      float64\n",
            " 5   tcgdp            8 non-null      float64\n",
            " 6   cc               8 non-null      float64\n",
            " 7   cg               8 non-null      float64\n",
            "dtypes: float64(5), int64(1), object(2)\n",
            "memory usage: 640.0+ bytes\n"
          ]
        }
      ],
      "source": [
        "df.info()"
      ]
    },
    {
      "cell_type": "code",
      "execution_count": null,
      "metadata": {
        "id": "Yn-f1uQ17TW0",
        "outputId": "2f62810e-7695-45bd-e94d-66f879f3b5fc"
      },
      "outputs": [
        {
          "data": {
            "text/plain": [
              "(8, 8)"
            ]
          },
          "execution_count": 95,
          "metadata": {},
          "output_type": "execute_result"
        }
      ],
      "source": [
        "df.shape"
      ]
    },
    {
      "cell_type": "code",
      "execution_count": null,
      "metadata": {
        "id": "1aZ6G2ZR7TW0",
        "outputId": "e96dd98c-e276-4a15-e517-0a608fd13a18"
      },
      "outputs": [
        {
          "data": {
            "text/plain": [
              "64"
            ]
          },
          "execution_count": 96,
          "metadata": {},
          "output_type": "execute_result"
        }
      ],
      "source": [
        "df.size"
      ]
    },
    {
      "cell_type": "code",
      "execution_count": null,
      "metadata": {
        "id": "iQCD7DGx7TW0",
        "outputId": "a3220af2-02c7-4678-c2eb-f32e0c20b6d4"
      },
      "outputs": [
        {
          "data": {
            "text/plain": [
              "2"
            ]
          },
          "execution_count": 97,
          "metadata": {},
          "output_type": "execute_result"
        }
      ],
      "source": [
        "df.ndim"
      ]
    },
    {
      "cell_type": "code",
      "execution_count": null,
      "metadata": {
        "id": "bx4Q0Ffm7TW0",
        "outputId": "e2d66baa-6cfb-43d9-932b-911a85486006"
      },
      "outputs": [
        {
          "data": {
            "text/plain": [
              "Index(['country', 'country isocode', 'year', 'POP', 'XRAT', 'tcgdp', 'cc',\n",
              "       'cg'],\n",
              "      dtype='object')"
            ]
          },
          "execution_count": 98,
          "metadata": {},
          "output_type": "execute_result"
        }
      ],
      "source": [
        "df.columns"
      ]
    },
    {
      "cell_type": "code",
      "execution_count": null,
      "metadata": {
        "id": "H-BhcmFN7TW0",
        "outputId": "789e46cf-d61b-49f2-f003-7a15061fc9cc"
      },
      "outputs": [
        {
          "data": {
            "text/plain": [
              "Index(['country', 'country isocode', 'year', 'POP', 'XRAT', 'tcgdp', 'cc',\n",
              "       'cg'],\n",
              "      dtype='object')"
            ]
          },
          "execution_count": 99,
          "metadata": {},
          "output_type": "execute_result"
        }
      ],
      "source": [
        "df.keys()"
      ]
    },
    {
      "cell_type": "markdown",
      "metadata": {
        "id": "ZTFzyYbc7TW1"
      },
      "source": [
        "## <p style=\"background-color:#9d4f8c; font-family:newtimeroman; color:#FFF9ED; font-size:175%; text-align:center; border-radius:10px 10px;\">Indexing, Slicing & Selection</p>\n",
        "\n",
        "<a id=\"6\"></a>\n",
        "<a href=\"#toc\" class=\"btn btn-primary btn-sm\" role=\"button\" aria-pressed=\"true\" \n",
        "style=\"color:blue; background-color:#dfa8e4\" data-toggle=\"popover\">Content</a>\n",
        "\n",
        "As stated and implemented by examples above, a Series is very similar to a NumPy array. [**What differentiates the NumPy array from a Series**](https://www.educba.com/pandas-vs-numpy/) is that **a Series can have axis labels**, meaning it can be indexed by a label, instead of just a number location. In otherwords, the essential difference is **the presence of the index**: while the **``Numpy Array``** has an implicitly defined integer index used to access the values, the **``Pandas Series``** has an explicitly defined index associated with the values (labels). Moreover, it doesn NOT need to hold numeric data, it can hold any arbitrary Python Object [Source](https://rpubs.com/pjozefek/659184).\n",
        "\n",
        "So, the key to using a Series is understanding its index. Pandas makes use of these index names or numbers by allowing for fast look up of information.\n",
        "\n",
        "The axis labeling information in pandas objects serves many purposes:\n",
        "\n",
        "- Identifies data (i.e. provides metadata) using known indicators, important for analysis, visualization, and interactive console display.\n",
        "- Enables automatic and explicit data alignment.\n",
        "- Allows intuitive getting and setting of subsets of the data set.\n",
        "\n",
        "In this part of our session, we will focus on the final point: namely, how to slice, dice, and generally get and set subsets of pandas objects. The primary focus will be on Series and DataFrame as they have received more development attention in this area. For more information, please visit [pandas-docs.github.io](https://pandas-docs.github.io/pandas-docs-travis/user_guide/indexing.html)\n",
        "\n",
        "The most robust and consistent way of slicing ranges along arbitrary axes is described in the [Selection by Position](https://pandas.pydata.org/pandas-docs/stable/user_guide/indexing.html#indexing-integer) section detailing the .iloc method. First, let us look at the semantics of slicing using the **[ ]** operator.\n",
        "\n",
        "[Some More Examples](https://sparkbyexamples.com/pandas/how-to-slice-columns-in-pandas-dataframe/#:~:text=By%20using%20pandas.,columns%2C%20the%20syntax%20is%20df.)"
      ]
    },
    {
      "cell_type": "code",
      "execution_count": null,
      "metadata": {
        "id": "UR0rr5fp7TW1",
        "outputId": "a5747e74-81d1-41a8-a077-19467326ca66"
      },
      "outputs": [
        {
          "data": {
            "text/plain": [
              "0        Argentina\n",
              "1        Australia\n",
              "2            India\n",
              "3           Israel\n",
              "4           Malawi\n",
              "5     South Africa\n",
              "6    United States\n",
              "7          Uruguay\n",
              "Name: country, dtype: object"
            ]
          },
          "execution_count": 100,
          "metadata": {},
          "output_type": "execute_result"
        }
      ],
      "source": [
        "df[\"country\"]"
      ]
    },
    {
      "cell_type": "code",
      "execution_count": null,
      "metadata": {
        "id": "l6XNOPOK7TW1",
        "outputId": "8dd0d48c-588f-4e94-b9eb-70e85599ad8b"
      },
      "outputs": [
        {
          "data": {
            "text/html": [
              "<div>\n",
              "<style scoped>\n",
              "    .dataframe tbody tr th:only-of-type {\n",
              "        vertical-align: middle;\n",
              "    }\n",
              "\n",
              "    .dataframe tbody tr th {\n",
              "        vertical-align: top;\n",
              "    }\n",
              "\n",
              "    .dataframe thead th {\n",
              "        text-align: right;\n",
              "    }\n",
              "</style>\n",
              "<table border=\"1\" class=\"dataframe\">\n",
              "  <thead>\n",
              "    <tr style=\"text-align: right;\">\n",
              "      <th></th>\n",
              "      <th>country</th>\n",
              "      <th>POP</th>\n",
              "    </tr>\n",
              "  </thead>\n",
              "  <tbody>\n",
              "    <tr>\n",
              "      <th>0</th>\n",
              "      <td>Argentina</td>\n",
              "      <td>37,335.65</td>\n",
              "    </tr>\n",
              "    <tr>\n",
              "      <th>1</th>\n",
              "      <td>Australia</td>\n",
              "      <td>19,053.19</td>\n",
              "    </tr>\n",
              "    <tr>\n",
              "      <th>2</th>\n",
              "      <td>India</td>\n",
              "      <td>1,006,300.30</td>\n",
              "    </tr>\n",
              "    <tr>\n",
              "      <th>3</th>\n",
              "      <td>Israel</td>\n",
              "      <td>6,114.57</td>\n",
              "    </tr>\n",
              "    <tr>\n",
              "      <th>4</th>\n",
              "      <td>Malawi</td>\n",
              "      <td>11,801.50</td>\n",
              "    </tr>\n",
              "    <tr>\n",
              "      <th>5</th>\n",
              "      <td>South Africa</td>\n",
              "      <td>45,064.10</td>\n",
              "    </tr>\n",
              "    <tr>\n",
              "      <th>6</th>\n",
              "      <td>United States</td>\n",
              "      <td>282,171.96</td>\n",
              "    </tr>\n",
              "    <tr>\n",
              "      <th>7</th>\n",
              "      <td>Uruguay</td>\n",
              "      <td>3,219.79</td>\n",
              "    </tr>\n",
              "  </tbody>\n",
              "</table>\n",
              "</div>"
            ],
            "text/plain": [
              "         country                  POP\n",
              "0      Argentina            37,335.65\n",
              "1      Australia            19,053.19\n",
              "2          India         1,006,300.30\n",
              "3         Israel             6,114.57\n",
              "4         Malawi            11,801.50\n",
              "5   South Africa            45,064.10\n",
              "6  United States           282,171.96\n",
              "7        Uruguay             3,219.79"
            ]
          },
          "execution_count": 101,
          "metadata": {},
          "output_type": "execute_result"
        }
      ],
      "source": [
        "df[['country', 'POP']]"
      ]
    },
    {
      "cell_type": "code",
      "execution_count": null,
      "metadata": {
        "id": "CFkNZM947TW1",
        "outputId": "eb0531fe-48f9-45a8-ae49-3be4ee84b9c1"
      },
      "outputs": [
        {
          "data": {
            "text/html": [
              "<div>\n",
              "<style scoped>\n",
              "    .dataframe tbody tr th:only-of-type {\n",
              "        vertical-align: middle;\n",
              "    }\n",
              "\n",
              "    .dataframe tbody tr th {\n",
              "        vertical-align: top;\n",
              "    }\n",
              "\n",
              "    .dataframe thead th {\n",
              "        text-align: right;\n",
              "    }\n",
              "</style>\n",
              "<table border=\"1\" class=\"dataframe\">\n",
              "  <thead>\n",
              "    <tr style=\"text-align: right;\">\n",
              "      <th></th>\n",
              "      <th>country</th>\n",
              "      <th>POP</th>\n",
              "    </tr>\n",
              "  </thead>\n",
              "  <tbody>\n",
              "    <tr>\n",
              "      <th>0</th>\n",
              "      <td>Argentina</td>\n",
              "      <td>37,335.65</td>\n",
              "    </tr>\n",
              "    <tr>\n",
              "      <th>1</th>\n",
              "      <td>Australia</td>\n",
              "      <td>19,053.19</td>\n",
              "    </tr>\n",
              "    <tr>\n",
              "      <th>2</th>\n",
              "      <td>India</td>\n",
              "      <td>1,006,300.30</td>\n",
              "    </tr>\n",
              "    <tr>\n",
              "      <th>3</th>\n",
              "      <td>Israel</td>\n",
              "      <td>6,114.57</td>\n",
              "    </tr>\n",
              "    <tr>\n",
              "      <th>4</th>\n",
              "      <td>Malawi</td>\n",
              "      <td>11,801.50</td>\n",
              "    </tr>\n",
              "    <tr>\n",
              "      <th>5</th>\n",
              "      <td>South Africa</td>\n",
              "      <td>45,064.10</td>\n",
              "    </tr>\n",
              "    <tr>\n",
              "      <th>6</th>\n",
              "      <td>United States</td>\n",
              "      <td>282,171.96</td>\n",
              "    </tr>\n",
              "    <tr>\n",
              "      <th>7</th>\n",
              "      <td>Uruguay</td>\n",
              "      <td>3,219.79</td>\n",
              "    </tr>\n",
              "  </tbody>\n",
              "</table>\n",
              "</div>"
            ],
            "text/plain": [
              "         country                  POP\n",
              "0      Argentina            37,335.65\n",
              "1      Australia            19,053.19\n",
              "2          India         1,006,300.30\n",
              "3         Israel             6,114.57\n",
              "4         Malawi            11,801.50\n",
              "5   South Africa            45,064.10\n",
              "6  United States           282,171.96\n",
              "7        Uruguay             3,219.79"
            ]
          },
          "execution_count": 102,
          "metadata": {},
          "output_type": "execute_result"
        }
      ],
      "source": [
        "df[:][['country', 'POP']]"
      ]
    },
    {
      "cell_type": "code",
      "execution_count": null,
      "metadata": {
        "id": "iTcFgh5J7TW1",
        "outputId": "223dd4e8-5f00-4f77-c88e-1b0b8d88ca9b"
      },
      "outputs": [
        {
          "data": {
            "text/html": [
              "<div>\n",
              "<style scoped>\n",
              "    .dataframe tbody tr th:only-of-type {\n",
              "        vertical-align: middle;\n",
              "    }\n",
              "\n",
              "    .dataframe tbody tr th {\n",
              "        vertical-align: top;\n",
              "    }\n",
              "\n",
              "    .dataframe thead th {\n",
              "        text-align: right;\n",
              "    }\n",
              "</style>\n",
              "<table border=\"1\" class=\"dataframe\">\n",
              "  <thead>\n",
              "    <tr style=\"text-align: right;\">\n",
              "      <th></th>\n",
              "      <th>country</th>\n",
              "      <th>POP</th>\n",
              "    </tr>\n",
              "  </thead>\n",
              "  <tbody>\n",
              "    <tr>\n",
              "      <th>2</th>\n",
              "      <td>India</td>\n",
              "      <td>1,006,300.30</td>\n",
              "    </tr>\n",
              "    <tr>\n",
              "      <th>3</th>\n",
              "      <td>Israel</td>\n",
              "      <td>6,114.57</td>\n",
              "    </tr>\n",
              "  </tbody>\n",
              "</table>\n",
              "</div>"
            ],
            "text/plain": [
              "  country                  POP\n",
              "2   India         1,006,300.30\n",
              "3  Israel             6,114.57"
            ]
          },
          "execution_count": 103,
          "metadata": {},
          "output_type": "execute_result"
        }
      ],
      "source": [
        "df[2:4][['country', 'POP']]"
      ]
    },
    {
      "cell_type": "code",
      "execution_count": null,
      "metadata": {
        "id": "YYkd1oF97TW1",
        "outputId": "6373341f-6533-40a7-a893-fe6a644d8d8f"
      },
      "outputs": [
        {
          "data": {
            "text/plain": [
              "pandas.core.series.Series"
            ]
          },
          "execution_count": 104,
          "metadata": {},
          "output_type": "execute_result"
        }
      ],
      "source": [
        "type(df['country'])"
      ]
    },
    {
      "cell_type": "code",
      "execution_count": null,
      "metadata": {
        "id": "XqRJyc4l7TW1",
        "outputId": "0d356975-368f-4cbc-bc6f-bd71498454d8"
      },
      "outputs": [
        {
          "data": {
            "text/plain": [
              "0        Argentina\n",
              "1        Australia\n",
              "2            India\n",
              "3           Israel\n",
              "4           Malawi\n",
              "5     South Africa\n",
              "6    United States\n",
              "7          Uruguay\n",
              "Name: country, dtype: object"
            ]
          },
          "execution_count": 105,
          "metadata": {},
          "output_type": "execute_result"
        }
      ],
      "source": [
        "df['country']"
      ]
    },
    {
      "cell_type": "code",
      "execution_count": null,
      "metadata": {
        "id": "022bhH9D7TW1",
        "outputId": "ab7a031d-6dd4-4096-fdc6-14eb2c5f8c4f"
      },
      "outputs": [
        {
          "data": {
            "text/html": [
              "<div>\n",
              "<style scoped>\n",
              "    .dataframe tbody tr th:only-of-type {\n",
              "        vertical-align: middle;\n",
              "    }\n",
              "\n",
              "    .dataframe tbody tr th {\n",
              "        vertical-align: top;\n",
              "    }\n",
              "\n",
              "    .dataframe thead th {\n",
              "        text-align: right;\n",
              "    }\n",
              "</style>\n",
              "<table border=\"1\" class=\"dataframe\">\n",
              "  <thead>\n",
              "    <tr style=\"text-align: right;\">\n",
              "      <th></th>\n",
              "      <th>country</th>\n",
              "    </tr>\n",
              "  </thead>\n",
              "  <tbody>\n",
              "    <tr>\n",
              "      <th>0</th>\n",
              "      <td>Argentina</td>\n",
              "    </tr>\n",
              "    <tr>\n",
              "      <th>1</th>\n",
              "      <td>Australia</td>\n",
              "    </tr>\n",
              "    <tr>\n",
              "      <th>2</th>\n",
              "      <td>India</td>\n",
              "    </tr>\n",
              "    <tr>\n",
              "      <th>3</th>\n",
              "      <td>Israel</td>\n",
              "    </tr>\n",
              "    <tr>\n",
              "      <th>4</th>\n",
              "      <td>Malawi</td>\n",
              "    </tr>\n",
              "    <tr>\n",
              "      <th>5</th>\n",
              "      <td>South Africa</td>\n",
              "    </tr>\n",
              "    <tr>\n",
              "      <th>6</th>\n",
              "      <td>United States</td>\n",
              "    </tr>\n",
              "    <tr>\n",
              "      <th>7</th>\n",
              "      <td>Uruguay</td>\n",
              "    </tr>\n",
              "  </tbody>\n",
              "</table>\n",
              "</div>"
            ],
            "text/plain": [
              "         country\n",
              "0      Argentina\n",
              "1      Australia\n",
              "2          India\n",
              "3         Israel\n",
              "4         Malawi\n",
              "5   South Africa\n",
              "6  United States\n",
              "7        Uruguay"
            ]
          },
          "execution_count": 106,
          "metadata": {},
          "output_type": "execute_result"
        }
      ],
      "source": [
        "df[['country']]"
      ]
    },
    {
      "cell_type": "code",
      "execution_count": null,
      "metadata": {
        "id": "VJKszUMi7TW2",
        "outputId": "eded8591-7a3f-4933-8b0e-602a49b3c6a9"
      },
      "outputs": [
        {
          "data": {
            "text/html": [
              "<div>\n",
              "<style scoped>\n",
              "    .dataframe tbody tr th:only-of-type {\n",
              "        vertical-align: middle;\n",
              "    }\n",
              "\n",
              "    .dataframe tbody tr th {\n",
              "        vertical-align: top;\n",
              "    }\n",
              "\n",
              "    .dataframe thead th {\n",
              "        text-align: right;\n",
              "    }\n",
              "</style>\n",
              "<table border=\"1\" class=\"dataframe\">\n",
              "  <thead>\n",
              "    <tr style=\"text-align: right;\">\n",
              "      <th></th>\n",
              "      <th>country</th>\n",
              "      <th>POP</th>\n",
              "    </tr>\n",
              "  </thead>\n",
              "  <tbody>\n",
              "    <tr>\n",
              "      <th>0</th>\n",
              "      <td>Argentina</td>\n",
              "      <td>37,335.65</td>\n",
              "    </tr>\n",
              "    <tr>\n",
              "      <th>1</th>\n",
              "      <td>Australia</td>\n",
              "      <td>19,053.19</td>\n",
              "    </tr>\n",
              "    <tr>\n",
              "      <th>2</th>\n",
              "      <td>India</td>\n",
              "      <td>1,006,300.30</td>\n",
              "    </tr>\n",
              "    <tr>\n",
              "      <th>3</th>\n",
              "      <td>Israel</td>\n",
              "      <td>6,114.57</td>\n",
              "    </tr>\n",
              "    <tr>\n",
              "      <th>4</th>\n",
              "      <td>Malawi</td>\n",
              "      <td>11,801.50</td>\n",
              "    </tr>\n",
              "    <tr>\n",
              "      <th>5</th>\n",
              "      <td>South Africa</td>\n",
              "      <td>45,064.10</td>\n",
              "    </tr>\n",
              "    <tr>\n",
              "      <th>6</th>\n",
              "      <td>United States</td>\n",
              "      <td>282,171.96</td>\n",
              "    </tr>\n",
              "    <tr>\n",
              "      <th>7</th>\n",
              "      <td>Uruguay</td>\n",
              "      <td>3,219.79</td>\n",
              "    </tr>\n",
              "  </tbody>\n",
              "</table>\n",
              "</div>"
            ],
            "text/plain": [
              "         country                  POP\n",
              "0      Argentina            37,335.65\n",
              "1      Australia            19,053.19\n",
              "2          India         1,006,300.30\n",
              "3         Israel             6,114.57\n",
              "4         Malawi            11,801.50\n",
              "5   South Africa            45,064.10\n",
              "6  United States           282,171.96\n",
              "7        Uruguay             3,219.79"
            ]
          },
          "execution_count": 107,
          "metadata": {},
          "output_type": "execute_result"
        }
      ],
      "source": [
        "df[['country','POP']]"
      ]
    },
    {
      "cell_type": "markdown",
      "metadata": {
        "id": "DgzVyeKJ7TW2"
      },
      "source": [
        "### [.loc[ ]](https://pandas.pydata.org/docs/reference/api/pandas.DataFrame.loc.html) → allows us to select data using **labels** (names) of rows (index) & columns\n",
        "\n",
        "### [.iloc[ ]](https://pandas.pydata.org/docs/reference/api/pandas.DataFrame.iloc.html) → allows us to select data using **index numbers** of rows (index) & columns. it's like classical indexing logic\n",
        "\n",
        "Let us first remember our df: "
      ]
    },
    {
      "cell_type": "code",
      "execution_count": null,
      "metadata": {
        "id": "lSeuT_qd7TW2",
        "outputId": "c6aaac7c-96b2-48ab-d24d-90848f72399c"
      },
      "outputs": [
        {
          "data": {
            "text/html": [
              "<div>\n",
              "<style scoped>\n",
              "    .dataframe tbody tr th:only-of-type {\n",
              "        vertical-align: middle;\n",
              "    }\n",
              "\n",
              "    .dataframe tbody tr th {\n",
              "        vertical-align: top;\n",
              "    }\n",
              "\n",
              "    .dataframe thead th {\n",
              "        text-align: right;\n",
              "    }\n",
              "</style>\n",
              "<table border=\"1\" class=\"dataframe\">\n",
              "  <thead>\n",
              "    <tr style=\"text-align: right;\">\n",
              "      <th></th>\n",
              "      <th>country</th>\n",
              "      <th>country isocode</th>\n",
              "      <th>year</th>\n",
              "      <th>POP</th>\n",
              "      <th>XRAT</th>\n",
              "      <th>tcgdp</th>\n",
              "      <th>cc</th>\n",
              "      <th>cg</th>\n",
              "    </tr>\n",
              "  </thead>\n",
              "  <tbody>\n",
              "    <tr>\n",
              "      <th>0</th>\n",
              "      <td>Argentina</td>\n",
              "      <td>ARG</td>\n",
              "      <td>2000</td>\n",
              "      <td>37,335.65</td>\n",
              "      <td>1.00</td>\n",
              "      <td>295,072.22</td>\n",
              "      <td>75.72</td>\n",
              "      <td>5.58</td>\n",
              "    </tr>\n",
              "    <tr>\n",
              "      <th>1</th>\n",
              "      <td>Australia</td>\n",
              "      <td>AUS</td>\n",
              "      <td>2000</td>\n",
              "      <td>19,053.19</td>\n",
              "      <td>1.72</td>\n",
              "      <td>541,804.65</td>\n",
              "      <td>67.76</td>\n",
              "      <td>6.72</td>\n",
              "    </tr>\n",
              "    <tr>\n",
              "      <th>2</th>\n",
              "      <td>India</td>\n",
              "      <td>IND</td>\n",
              "      <td>2000</td>\n",
              "      <td>1,006,300.30</td>\n",
              "      <td>44.94</td>\n",
              "      <td>1,728,144.37</td>\n",
              "      <td>64.58</td>\n",
              "      <td>14.07</td>\n",
              "    </tr>\n",
              "    <tr>\n",
              "      <th>3</th>\n",
              "      <td>Israel</td>\n",
              "      <td>ISR</td>\n",
              "      <td>2000</td>\n",
              "      <td>6,114.57</td>\n",
              "      <td>4.08</td>\n",
              "      <td>129,253.89</td>\n",
              "      <td>64.44</td>\n",
              "      <td>10.27</td>\n",
              "    </tr>\n",
              "    <tr>\n",
              "      <th>4</th>\n",
              "      <td>Malawi</td>\n",
              "      <td>MWI</td>\n",
              "      <td>2000</td>\n",
              "      <td>11,801.50</td>\n",
              "      <td>59.54</td>\n",
              "      <td>5,026.22</td>\n",
              "      <td>74.71</td>\n",
              "      <td>11.66</td>\n",
              "    </tr>\n",
              "    <tr>\n",
              "      <th>5</th>\n",
              "      <td>South Africa</td>\n",
              "      <td>ZAF</td>\n",
              "      <td>2000</td>\n",
              "      <td>45,064.10</td>\n",
              "      <td>6.94</td>\n",
              "      <td>227,242.37</td>\n",
              "      <td>72.72</td>\n",
              "      <td>5.73</td>\n",
              "    </tr>\n",
              "    <tr>\n",
              "      <th>6</th>\n",
              "      <td>United States</td>\n",
              "      <td>USA</td>\n",
              "      <td>2000</td>\n",
              "      <td>282,171.96</td>\n",
              "      <td>1.00</td>\n",
              "      <td>9,898,700.00</td>\n",
              "      <td>72.35</td>\n",
              "      <td>6.03</td>\n",
              "    </tr>\n",
              "    <tr>\n",
              "      <th>7</th>\n",
              "      <td>Uruguay</td>\n",
              "      <td>URY</td>\n",
              "      <td>2000</td>\n",
              "      <td>3,219.79</td>\n",
              "      <td>12.10</td>\n",
              "      <td>25,255.96</td>\n",
              "      <td>78.98</td>\n",
              "      <td>5.11</td>\n",
              "    </tr>\n",
              "  </tbody>\n",
              "</table>\n",
              "</div>"
            ],
            "text/plain": [
              "         country country isocode  year                  POP  \\\n",
              "0      Argentina             ARG  2000            37,335.65   \n",
              "1      Australia             AUS  2000            19,053.19   \n",
              "2          India             IND  2000         1,006,300.30   \n",
              "3         Israel             ISR  2000             6,114.57   \n",
              "4         Malawi             MWI  2000            11,801.50   \n",
              "5   South Africa             ZAF  2000            45,064.10   \n",
              "6  United States             USA  2000           282,171.96   \n",
              "7        Uruguay             URY  2000             3,219.79   \n",
              "\n",
              "                  XRAT                tcgdp                   cc  \\\n",
              "0                 1.00           295,072.22                75.72   \n",
              "1                 1.72           541,804.65                67.76   \n",
              "2                44.94         1,728,144.37                64.58   \n",
              "3                 4.08           129,253.89                64.44   \n",
              "4                59.54             5,026.22                74.71   \n",
              "5                 6.94           227,242.37                72.72   \n",
              "6                 1.00         9,898,700.00                72.35   \n",
              "7                12.10            25,255.96                78.98   \n",
              "\n",
              "                    cg  \n",
              "0                 5.58  \n",
              "1                 6.72  \n",
              "2                14.07  \n",
              "3                10.27  \n",
              "4                11.66  \n",
              "5                 5.73  \n",
              "6                 6.03  \n",
              "7                 5.11  "
            ]
          },
          "execution_count": 108,
          "metadata": {},
          "output_type": "execute_result"
        }
      ],
      "source": [
        "df"
      ]
    },
    {
      "cell_type": "code",
      "execution_count": null,
      "metadata": {
        "id": "ACh0s-MO7TW2",
        "outputId": "e4e61156-8c4b-431a-adb8-646d7650e6b0"
      },
      "outputs": [
        {
          "data": {
            "text/html": [
              "<div>\n",
              "<style scoped>\n",
              "    .dataframe tbody tr th:only-of-type {\n",
              "        vertical-align: middle;\n",
              "    }\n",
              "\n",
              "    .dataframe tbody tr th {\n",
              "        vertical-align: top;\n",
              "    }\n",
              "\n",
              "    .dataframe thead th {\n",
              "        text-align: right;\n",
              "    }\n",
              "</style>\n",
              "<table border=\"1\" class=\"dataframe\">\n",
              "  <thead>\n",
              "    <tr style=\"text-align: right;\">\n",
              "      <th></th>\n",
              "      <th>country</th>\n",
              "      <th>country isocode</th>\n",
              "      <th>year</th>\n",
              "      <th>POP</th>\n",
              "      <th>XRAT</th>\n",
              "      <th>tcgdp</th>\n",
              "      <th>cc</th>\n",
              "      <th>cg</th>\n",
              "    </tr>\n",
              "  </thead>\n",
              "  <tbody>\n",
              "    <tr>\n",
              "      <th>2</th>\n",
              "      <td>India</td>\n",
              "      <td>IND</td>\n",
              "      <td>2000</td>\n",
              "      <td>1,006,300.30</td>\n",
              "      <td>44.94</td>\n",
              "      <td>1,728,144.37</td>\n",
              "      <td>64.58</td>\n",
              "      <td>14.07</td>\n",
              "    </tr>\n",
              "    <tr>\n",
              "      <th>3</th>\n",
              "      <td>Israel</td>\n",
              "      <td>ISR</td>\n",
              "      <td>2000</td>\n",
              "      <td>6,114.57</td>\n",
              "      <td>4.08</td>\n",
              "      <td>129,253.89</td>\n",
              "      <td>64.44</td>\n",
              "      <td>10.27</td>\n",
              "    </tr>\n",
              "    <tr>\n",
              "      <th>4</th>\n",
              "      <td>Malawi</td>\n",
              "      <td>MWI</td>\n",
              "      <td>2000</td>\n",
              "      <td>11,801.50</td>\n",
              "      <td>59.54</td>\n",
              "      <td>5,026.22</td>\n",
              "      <td>74.71</td>\n",
              "      <td>11.66</td>\n",
              "    </tr>\n",
              "  </tbody>\n",
              "</table>\n",
              "</div>"
            ],
            "text/plain": [
              "  country country isocode  year                  POP                 XRAT  \\\n",
              "2   India             IND  2000         1,006,300.30                44.94   \n",
              "3  Israel             ISR  2000             6,114.57                 4.08   \n",
              "4  Malawi             MWI  2000            11,801.50                59.54   \n",
              "\n",
              "                 tcgdp                   cc                   cg  \n",
              "2         1,728,144.37                64.58                14.07  \n",
              "3           129,253.89                64.44                10.27  \n",
              "4             5,026.22                74.71                11.66  "
            ]
          },
          "execution_count": 109,
          "metadata": {},
          "output_type": "execute_result"
        }
      ],
      "source": [
        "df.iloc[2:5]"
      ]
    },
    {
      "cell_type": "code",
      "execution_count": null,
      "metadata": {
        "id": "zV4OdkmK7TW2",
        "outputId": "b4953029-e9b3-400c-bc25-2dab10804816"
      },
      "outputs": [
        {
          "data": {
            "text/html": [
              "<div>\n",
              "<style scoped>\n",
              "    .dataframe tbody tr th:only-of-type {\n",
              "        vertical-align: middle;\n",
              "    }\n",
              "\n",
              "    .dataframe tbody tr th {\n",
              "        vertical-align: top;\n",
              "    }\n",
              "\n",
              "    .dataframe thead th {\n",
              "        text-align: right;\n",
              "    }\n",
              "</style>\n",
              "<table border=\"1\" class=\"dataframe\">\n",
              "  <thead>\n",
              "    <tr style=\"text-align: right;\">\n",
              "      <th></th>\n",
              "      <th>country</th>\n",
              "      <th>country isocode</th>\n",
              "      <th>year</th>\n",
              "      <th>POP</th>\n",
              "      <th>XRAT</th>\n",
              "      <th>tcgdp</th>\n",
              "      <th>cc</th>\n",
              "      <th>cg</th>\n",
              "    </tr>\n",
              "  </thead>\n",
              "  <tbody>\n",
              "    <tr>\n",
              "      <th>2</th>\n",
              "      <td>India</td>\n",
              "      <td>IND</td>\n",
              "      <td>2000</td>\n",
              "      <td>1,006,300.30</td>\n",
              "      <td>44.94</td>\n",
              "      <td>1,728,144.37</td>\n",
              "      <td>64.58</td>\n",
              "      <td>14.07</td>\n",
              "    </tr>\n",
              "    <tr>\n",
              "      <th>3</th>\n",
              "      <td>Israel</td>\n",
              "      <td>ISR</td>\n",
              "      <td>2000</td>\n",
              "      <td>6,114.57</td>\n",
              "      <td>4.08</td>\n",
              "      <td>129,253.89</td>\n",
              "      <td>64.44</td>\n",
              "      <td>10.27</td>\n",
              "    </tr>\n",
              "    <tr>\n",
              "      <th>4</th>\n",
              "      <td>Malawi</td>\n",
              "      <td>MWI</td>\n",
              "      <td>2000</td>\n",
              "      <td>11,801.50</td>\n",
              "      <td>59.54</td>\n",
              "      <td>5,026.22</td>\n",
              "      <td>74.71</td>\n",
              "      <td>11.66</td>\n",
              "    </tr>\n",
              "    <tr>\n",
              "      <th>5</th>\n",
              "      <td>South Africa</td>\n",
              "      <td>ZAF</td>\n",
              "      <td>2000</td>\n",
              "      <td>45,064.10</td>\n",
              "      <td>6.94</td>\n",
              "      <td>227,242.37</td>\n",
              "      <td>72.72</td>\n",
              "      <td>5.73</td>\n",
              "    </tr>\n",
              "  </tbody>\n",
              "</table>\n",
              "</div>"
            ],
            "text/plain": [
              "        country country isocode  year                  POP  \\\n",
              "2         India             IND  2000         1,006,300.30   \n",
              "3        Israel             ISR  2000             6,114.57   \n",
              "4        Malawi             MWI  2000            11,801.50   \n",
              "5  South Africa             ZAF  2000            45,064.10   \n",
              "\n",
              "                  XRAT                tcgdp                   cc  \\\n",
              "2                44.94         1,728,144.37                64.58   \n",
              "3                 4.08           129,253.89                64.44   \n",
              "4                59.54             5,026.22                74.71   \n",
              "5                 6.94           227,242.37                72.72   \n",
              "\n",
              "                    cg  \n",
              "2                14.07  \n",
              "3                10.27  \n",
              "4                11.66  \n",
              "5                 5.73  "
            ]
          },
          "execution_count": 110,
          "metadata": {},
          "output_type": "execute_result"
        }
      ],
      "source": [
        "df.loc[2:5]"
      ]
    },
    {
      "cell_type": "markdown",
      "metadata": {
        "id": "b5IuSYiZ7TW2"
      },
      "source": [
        "### **``QUESTION:``** **What happened? Why was South Africa included when** **``loc``** **used?**\n",
        "\n",
        "The first thing remembered is that **``.iloc[ ]``** is **exclusive** while **``.loc[ ]``** is **inclusive.**"
      ]
    },
    {
      "cell_type": "markdown",
      "metadata": {
        "id": "HLJdZItJ7TW2"
      },
      "source": [
        "## 1) **``Using Pandas.DataFrame.loc[]``** (By label)\n",
        "\n",
        "\n",
        "**1.1 – Slicing Columns by Names or Labels**\n",
        "\n",
        "By using **``pandas.DataFrame.loc[ ]``** you can slice columns by names or labels. To slice the columns, the syntax is **``df.loc[:, start:stop:step]``**; where start is the name of the first column to take, stop is the name of the last column to take, and step as the number of indices to advance after each extraction"
      ]
    },
    {
      "cell_type": "code",
      "execution_count": null,
      "metadata": {
        "id": "0Qm1QHBu7TW2",
        "outputId": "d9072ee6-7109-42c1-9214-7c2dc75f2a64"
      },
      "outputs": [
        {
          "data": {
            "text/html": [
              "<div>\n",
              "<style scoped>\n",
              "    .dataframe tbody tr th:only-of-type {\n",
              "        vertical-align: middle;\n",
              "    }\n",
              "\n",
              "    .dataframe tbody tr th {\n",
              "        vertical-align: top;\n",
              "    }\n",
              "\n",
              "    .dataframe thead th {\n",
              "        text-align: right;\n",
              "    }\n",
              "</style>\n",
              "<table border=\"1\" class=\"dataframe\">\n",
              "  <thead>\n",
              "    <tr style=\"text-align: right;\">\n",
              "      <th></th>\n",
              "      <th>country</th>\n",
              "      <th>country isocode</th>\n",
              "      <th>year</th>\n",
              "      <th>POP</th>\n",
              "    </tr>\n",
              "  </thead>\n",
              "  <tbody>\n",
              "    <tr>\n",
              "      <th>0</th>\n",
              "      <td>Argentina</td>\n",
              "      <td>ARG</td>\n",
              "      <td>2000</td>\n",
              "      <td>37,335.65</td>\n",
              "    </tr>\n",
              "    <tr>\n",
              "      <th>1</th>\n",
              "      <td>Australia</td>\n",
              "      <td>AUS</td>\n",
              "      <td>2000</td>\n",
              "      <td>19,053.19</td>\n",
              "    </tr>\n",
              "    <tr>\n",
              "      <th>2</th>\n",
              "      <td>India</td>\n",
              "      <td>IND</td>\n",
              "      <td>2000</td>\n",
              "      <td>1,006,300.30</td>\n",
              "    </tr>\n",
              "    <tr>\n",
              "      <th>3</th>\n",
              "      <td>Israel</td>\n",
              "      <td>ISR</td>\n",
              "      <td>2000</td>\n",
              "      <td>6,114.57</td>\n",
              "    </tr>\n",
              "    <tr>\n",
              "      <th>4</th>\n",
              "      <td>Malawi</td>\n",
              "      <td>MWI</td>\n",
              "      <td>2000</td>\n",
              "      <td>11,801.50</td>\n",
              "    </tr>\n",
              "    <tr>\n",
              "      <th>5</th>\n",
              "      <td>South Africa</td>\n",
              "      <td>ZAF</td>\n",
              "      <td>2000</td>\n",
              "      <td>45,064.10</td>\n",
              "    </tr>\n",
              "    <tr>\n",
              "      <th>6</th>\n",
              "      <td>United States</td>\n",
              "      <td>USA</td>\n",
              "      <td>2000</td>\n",
              "      <td>282,171.96</td>\n",
              "    </tr>\n",
              "    <tr>\n",
              "      <th>7</th>\n",
              "      <td>Uruguay</td>\n",
              "      <td>URY</td>\n",
              "      <td>2000</td>\n",
              "      <td>3,219.79</td>\n",
              "    </tr>\n",
              "  </tbody>\n",
              "</table>\n",
              "</div>"
            ],
            "text/plain": [
              "         country country isocode  year                  POP\n",
              "0      Argentina             ARG  2000            37,335.65\n",
              "1      Australia             AUS  2000            19,053.19\n",
              "2          India             IND  2000         1,006,300.30\n",
              "3         Israel             ISR  2000             6,114.57\n",
              "4         Malawi             MWI  2000            11,801.50\n",
              "5   South Africa             ZAF  2000            45,064.10\n",
              "6  United States             USA  2000           282,171.96\n",
              "7        Uruguay             URY  2000             3,219.79"
            ]
          },
          "execution_count": 111,
          "metadata": {},
          "output_type": "execute_result"
        }
      ],
      "source": [
        "df.loc[:, \"country\":\"POP\"]"
      ]
    },
    {
      "cell_type": "code",
      "execution_count": null,
      "metadata": {
        "id": "4krIREGr7TW2",
        "outputId": "8148d957-1fe9-4434-cfa5-f337a7fc9d39"
      },
      "outputs": [
        {
          "data": {
            "text/html": [
              "<div>\n",
              "<style scoped>\n",
              "    .dataframe tbody tr th:only-of-type {\n",
              "        vertical-align: middle;\n",
              "    }\n",
              "\n",
              "    .dataframe tbody tr th {\n",
              "        vertical-align: top;\n",
              "    }\n",
              "\n",
              "    .dataframe thead th {\n",
              "        text-align: right;\n",
              "    }\n",
              "</style>\n",
              "<table border=\"1\" class=\"dataframe\">\n",
              "  <thead>\n",
              "    <tr style=\"text-align: right;\">\n",
              "      <th></th>\n",
              "      <th>country</th>\n",
              "      <th>country isocode</th>\n",
              "      <th>year</th>\n",
              "      <th>POP</th>\n",
              "    </tr>\n",
              "  </thead>\n",
              "  <tbody>\n",
              "    <tr>\n",
              "      <th>2</th>\n",
              "      <td>India</td>\n",
              "      <td>IND</td>\n",
              "      <td>2000</td>\n",
              "      <td>1,006,300.30</td>\n",
              "    </tr>\n",
              "    <tr>\n",
              "      <th>3</th>\n",
              "      <td>Israel</td>\n",
              "      <td>ISR</td>\n",
              "      <td>2000</td>\n",
              "      <td>6,114.57</td>\n",
              "    </tr>\n",
              "    <tr>\n",
              "      <th>4</th>\n",
              "      <td>Malawi</td>\n",
              "      <td>MWI</td>\n",
              "      <td>2000</td>\n",
              "      <td>11,801.50</td>\n",
              "    </tr>\n",
              "    <tr>\n",
              "      <th>5</th>\n",
              "      <td>South Africa</td>\n",
              "      <td>ZAF</td>\n",
              "      <td>2000</td>\n",
              "      <td>45,064.10</td>\n",
              "    </tr>\n",
              "    <tr>\n",
              "      <th>6</th>\n",
              "      <td>United States</td>\n",
              "      <td>USA</td>\n",
              "      <td>2000</td>\n",
              "      <td>282,171.96</td>\n",
              "    </tr>\n",
              "  </tbody>\n",
              "</table>\n",
              "</div>"
            ],
            "text/plain": [
              "         country country isocode  year                  POP\n",
              "2          India             IND  2000         1,006,300.30\n",
              "3         Israel             ISR  2000             6,114.57\n",
              "4         Malawi             MWI  2000            11,801.50\n",
              "5   South Africa             ZAF  2000            45,064.10\n",
              "6  United States             USA  2000           282,171.96"
            ]
          },
          "execution_count": 112,
          "metadata": {},
          "output_type": "execute_result"
        }
      ],
      "source": [
        "df.loc[2:6, \"country\":\"POP\"]"
      ]
    },
    {
      "cell_type": "markdown",
      "metadata": {
        "id": "Odx0jDM07TW3"
      },
      "source": [
        "**1.2 – Slicing DataFrame Columns by Labels**\n",
        "\n",
        "To slice DataFrame columns by labels or names, all you need is to provide the multiple labels you wanted to slice as a list. Here we use the list of labels instead of the start:stop:step approach."
      ]
    },
    {
      "cell_type": "code",
      "execution_count": null,
      "metadata": {
        "id": "ImzvE5jQ7TW3",
        "outputId": "b443965e-e32a-40e3-fd07-722790a38a37"
      },
      "outputs": [
        {
          "data": {
            "text/html": [
              "<div>\n",
              "<style scoped>\n",
              "    .dataframe tbody tr th:only-of-type {\n",
              "        vertical-align: middle;\n",
              "    }\n",
              "\n",
              "    .dataframe tbody tr th {\n",
              "        vertical-align: top;\n",
              "    }\n",
              "\n",
              "    .dataframe thead th {\n",
              "        text-align: right;\n",
              "    }\n",
              "</style>\n",
              "<table border=\"1\" class=\"dataframe\">\n",
              "  <thead>\n",
              "    <tr style=\"text-align: right;\">\n",
              "      <th></th>\n",
              "      <th>country</th>\n",
              "      <th>country isocode</th>\n",
              "      <th>year</th>\n",
              "      <th>POP</th>\n",
              "    </tr>\n",
              "  </thead>\n",
              "  <tbody>\n",
              "    <tr>\n",
              "      <th>0</th>\n",
              "      <td>Argentina</td>\n",
              "      <td>ARG</td>\n",
              "      <td>2000</td>\n",
              "      <td>37,335.65</td>\n",
              "    </tr>\n",
              "    <tr>\n",
              "      <th>1</th>\n",
              "      <td>Australia</td>\n",
              "      <td>AUS</td>\n",
              "      <td>2000</td>\n",
              "      <td>19,053.19</td>\n",
              "    </tr>\n",
              "    <tr>\n",
              "      <th>2</th>\n",
              "      <td>India</td>\n",
              "      <td>IND</td>\n",
              "      <td>2000</td>\n",
              "      <td>1,006,300.30</td>\n",
              "    </tr>\n",
              "    <tr>\n",
              "      <th>3</th>\n",
              "      <td>Israel</td>\n",
              "      <td>ISR</td>\n",
              "      <td>2000</td>\n",
              "      <td>6,114.57</td>\n",
              "    </tr>\n",
              "    <tr>\n",
              "      <th>4</th>\n",
              "      <td>Malawi</td>\n",
              "      <td>MWI</td>\n",
              "      <td>2000</td>\n",
              "      <td>11,801.50</td>\n",
              "    </tr>\n",
              "    <tr>\n",
              "      <th>5</th>\n",
              "      <td>South Africa</td>\n",
              "      <td>ZAF</td>\n",
              "      <td>2000</td>\n",
              "      <td>45,064.10</td>\n",
              "    </tr>\n",
              "    <tr>\n",
              "      <th>6</th>\n",
              "      <td>United States</td>\n",
              "      <td>USA</td>\n",
              "      <td>2000</td>\n",
              "      <td>282,171.96</td>\n",
              "    </tr>\n",
              "    <tr>\n",
              "      <th>7</th>\n",
              "      <td>Uruguay</td>\n",
              "      <td>URY</td>\n",
              "      <td>2000</td>\n",
              "      <td>3,219.79</td>\n",
              "    </tr>\n",
              "  </tbody>\n",
              "</table>\n",
              "</div>"
            ],
            "text/plain": [
              "         country country isocode  year                  POP\n",
              "0      Argentina             ARG  2000            37,335.65\n",
              "1      Australia             AUS  2000            19,053.19\n",
              "2          India             IND  2000         1,006,300.30\n",
              "3         Israel             ISR  2000             6,114.57\n",
              "4         Malawi             MWI  2000            11,801.50\n",
              "5   South Africa             ZAF  2000            45,064.10\n",
              "6  United States             USA  2000           282,171.96\n",
              "7        Uruguay             URY  2000             3,219.79"
            ]
          },
          "execution_count": 113,
          "metadata": {},
          "output_type": "execute_result"
        }
      ],
      "source": [
        "df.loc[:, ['country', 'country isocode', 'year', 'POP']]"
      ]
    },
    {
      "cell_type": "code",
      "execution_count": null,
      "metadata": {
        "id": "t-vB4QlI7TW3",
        "outputId": "4f1fe726-a027-4c5c-e886-d2ae794a009c"
      },
      "outputs": [
        {
          "data": {
            "text/html": [
              "<div>\n",
              "<style scoped>\n",
              "    .dataframe tbody tr th:only-of-type {\n",
              "        vertical-align: middle;\n",
              "    }\n",
              "\n",
              "    .dataframe tbody tr th {\n",
              "        vertical-align: top;\n",
              "    }\n",
              "\n",
              "    .dataframe thead th {\n",
              "        text-align: right;\n",
              "    }\n",
              "</style>\n",
              "<table border=\"1\" class=\"dataframe\">\n",
              "  <thead>\n",
              "    <tr style=\"text-align: right;\">\n",
              "      <th></th>\n",
              "      <th>country</th>\n",
              "      <th>country isocode</th>\n",
              "      <th>year</th>\n",
              "      <th>POP</th>\n",
              "    </tr>\n",
              "  </thead>\n",
              "  <tbody>\n",
              "    <tr>\n",
              "      <th>0</th>\n",
              "      <td>Argentina</td>\n",
              "      <td>ARG</td>\n",
              "      <td>2000</td>\n",
              "      <td>37,335.65</td>\n",
              "    </tr>\n",
              "    <tr>\n",
              "      <th>1</th>\n",
              "      <td>Australia</td>\n",
              "      <td>AUS</td>\n",
              "      <td>2000</td>\n",
              "      <td>19,053.19</td>\n",
              "    </tr>\n",
              "    <tr>\n",
              "      <th>2</th>\n",
              "      <td>India</td>\n",
              "      <td>IND</td>\n",
              "      <td>2000</td>\n",
              "      <td>1,006,300.30</td>\n",
              "    </tr>\n",
              "    <tr>\n",
              "      <th>3</th>\n",
              "      <td>Israel</td>\n",
              "      <td>ISR</td>\n",
              "      <td>2000</td>\n",
              "      <td>6,114.57</td>\n",
              "    </tr>\n",
              "    <tr>\n",
              "      <th>4</th>\n",
              "      <td>Malawi</td>\n",
              "      <td>MWI</td>\n",
              "      <td>2000</td>\n",
              "      <td>11,801.50</td>\n",
              "    </tr>\n",
              "    <tr>\n",
              "      <th>5</th>\n",
              "      <td>South Africa</td>\n",
              "      <td>ZAF</td>\n",
              "      <td>2000</td>\n",
              "      <td>45,064.10</td>\n",
              "    </tr>\n",
              "    <tr>\n",
              "      <th>6</th>\n",
              "      <td>United States</td>\n",
              "      <td>USA</td>\n",
              "      <td>2000</td>\n",
              "      <td>282,171.96</td>\n",
              "    </tr>\n",
              "    <tr>\n",
              "      <th>7</th>\n",
              "      <td>Uruguay</td>\n",
              "      <td>URY</td>\n",
              "      <td>2000</td>\n",
              "      <td>3,219.79</td>\n",
              "    </tr>\n",
              "  </tbody>\n",
              "</table>\n",
              "</div>"
            ],
            "text/plain": [
              "         country country isocode  year                  POP\n",
              "0      Argentina             ARG  2000            37,335.65\n",
              "1      Australia             AUS  2000            19,053.19\n",
              "2          India             IND  2000         1,006,300.30\n",
              "3         Israel             ISR  2000             6,114.57\n",
              "4         Malawi             MWI  2000            11,801.50\n",
              "5   South Africa             ZAF  2000            45,064.10\n",
              "6  United States             USA  2000           282,171.96\n",
              "7        Uruguay             URY  2000             3,219.79"
            ]
          },
          "execution_count": 114,
          "metadata": {},
          "output_type": "execute_result"
        }
      ],
      "source": [
        "df.loc[:, ('country', 'country isocode', 'year', 'POP')]"
      ]
    },
    {
      "cell_type": "markdown",
      "metadata": {
        "id": "mfYiJdid7TW3"
      },
      "source": [
        "**1.3 – Slicing DataFrame Columns by Range**\n",
        "\n",
        "When you wanted to slice a DataFrame by the range of columns, provide start and stop column names.\n",
        "\n",
        "  - By not providing a start column, loc[] selects from the beginning.\n",
        "  - By not providing stop, loc[] selects all columns from the start label.\n",
        "  - Providing both start and stop, selects all columns in between."
      ]
    },
    {
      "cell_type": "code",
      "execution_count": null,
      "metadata": {
        "id": "cTz6cUPP7TW3",
        "outputId": "fbe3daa7-ea75-4961-f698-4dcd87d73e46"
      },
      "outputs": [
        {
          "data": {
            "text/html": [
              "<div>\n",
              "<style scoped>\n",
              "    .dataframe tbody tr th:only-of-type {\n",
              "        vertical-align: middle;\n",
              "    }\n",
              "\n",
              "    .dataframe tbody tr th {\n",
              "        vertical-align: top;\n",
              "    }\n",
              "\n",
              "    .dataframe thead th {\n",
              "        text-align: right;\n",
              "    }\n",
              "</style>\n",
              "<table border=\"1\" class=\"dataframe\">\n",
              "  <thead>\n",
              "    <tr style=\"text-align: right;\">\n",
              "      <th></th>\n",
              "      <th>country</th>\n",
              "      <th>country isocode</th>\n",
              "      <th>year</th>\n",
              "      <th>POP</th>\n",
              "    </tr>\n",
              "  </thead>\n",
              "  <tbody>\n",
              "    <tr>\n",
              "      <th>0</th>\n",
              "      <td>Argentina</td>\n",
              "      <td>ARG</td>\n",
              "      <td>2000</td>\n",
              "      <td>37,335.65</td>\n",
              "    </tr>\n",
              "    <tr>\n",
              "      <th>1</th>\n",
              "      <td>Australia</td>\n",
              "      <td>AUS</td>\n",
              "      <td>2000</td>\n",
              "      <td>19,053.19</td>\n",
              "    </tr>\n",
              "    <tr>\n",
              "      <th>2</th>\n",
              "      <td>India</td>\n",
              "      <td>IND</td>\n",
              "      <td>2000</td>\n",
              "      <td>1,006,300.30</td>\n",
              "    </tr>\n",
              "    <tr>\n",
              "      <th>3</th>\n",
              "      <td>Israel</td>\n",
              "      <td>ISR</td>\n",
              "      <td>2000</td>\n",
              "      <td>6,114.57</td>\n",
              "    </tr>\n",
              "    <tr>\n",
              "      <th>4</th>\n",
              "      <td>Malawi</td>\n",
              "      <td>MWI</td>\n",
              "      <td>2000</td>\n",
              "      <td>11,801.50</td>\n",
              "    </tr>\n",
              "    <tr>\n",
              "      <th>5</th>\n",
              "      <td>South Africa</td>\n",
              "      <td>ZAF</td>\n",
              "      <td>2000</td>\n",
              "      <td>45,064.10</td>\n",
              "    </tr>\n",
              "    <tr>\n",
              "      <th>6</th>\n",
              "      <td>United States</td>\n",
              "      <td>USA</td>\n",
              "      <td>2000</td>\n",
              "      <td>282,171.96</td>\n",
              "    </tr>\n",
              "    <tr>\n",
              "      <th>7</th>\n",
              "      <td>Uruguay</td>\n",
              "      <td>URY</td>\n",
              "      <td>2000</td>\n",
              "      <td>3,219.79</td>\n",
              "    </tr>\n",
              "  </tbody>\n",
              "</table>\n",
              "</div>"
            ],
            "text/plain": [
              "         country country isocode  year                  POP\n",
              "0      Argentina             ARG  2000            37,335.65\n",
              "1      Australia             AUS  2000            19,053.19\n",
              "2          India             IND  2000         1,006,300.30\n",
              "3         Israel             ISR  2000             6,114.57\n",
              "4         Malawi             MWI  2000            11,801.50\n",
              "5   South Africa             ZAF  2000            45,064.10\n",
              "6  United States             USA  2000           282,171.96\n",
              "7        Uruguay             URY  2000             3,219.79"
            ]
          },
          "execution_count": 115,
          "metadata": {},
          "output_type": "execute_result"
        }
      ],
      "source": [
        "# Slicing all columns between \"country\" an 'POP' columns\n",
        "\n",
        "df.loc[:, 'country':'POP']"
      ]
    },
    {
      "cell_type": "code",
      "execution_count": null,
      "metadata": {
        "id": "vsAyzDAs7TW3",
        "outputId": "7c4cef71-b27a-4894-fd65-5e5537265928"
      },
      "outputs": [
        {
          "data": {
            "text/html": [
              "<div>\n",
              "<style scoped>\n",
              "    .dataframe tbody tr th:only-of-type {\n",
              "        vertical-align: middle;\n",
              "    }\n",
              "\n",
              "    .dataframe tbody tr th {\n",
              "        vertical-align: top;\n",
              "    }\n",
              "\n",
              "    .dataframe thead th {\n",
              "        text-align: right;\n",
              "    }\n",
              "</style>\n",
              "<table border=\"1\" class=\"dataframe\">\n",
              "  <thead>\n",
              "    <tr style=\"text-align: right;\">\n",
              "      <th></th>\n",
              "      <th>country isocode</th>\n",
              "      <th>year</th>\n",
              "      <th>POP</th>\n",
              "      <th>XRAT</th>\n",
              "      <th>tcgdp</th>\n",
              "      <th>cc</th>\n",
              "      <th>cg</th>\n",
              "    </tr>\n",
              "  </thead>\n",
              "  <tbody>\n",
              "    <tr>\n",
              "      <th>0</th>\n",
              "      <td>ARG</td>\n",
              "      <td>2000</td>\n",
              "      <td>37,335.65</td>\n",
              "      <td>1.00</td>\n",
              "      <td>295,072.22</td>\n",
              "      <td>75.72</td>\n",
              "      <td>5.58</td>\n",
              "    </tr>\n",
              "    <tr>\n",
              "      <th>1</th>\n",
              "      <td>AUS</td>\n",
              "      <td>2000</td>\n",
              "      <td>19,053.19</td>\n",
              "      <td>1.72</td>\n",
              "      <td>541,804.65</td>\n",
              "      <td>67.76</td>\n",
              "      <td>6.72</td>\n",
              "    </tr>\n",
              "    <tr>\n",
              "      <th>2</th>\n",
              "      <td>IND</td>\n",
              "      <td>2000</td>\n",
              "      <td>1,006,300.30</td>\n",
              "      <td>44.94</td>\n",
              "      <td>1,728,144.37</td>\n",
              "      <td>64.58</td>\n",
              "      <td>14.07</td>\n",
              "    </tr>\n",
              "    <tr>\n",
              "      <th>3</th>\n",
              "      <td>ISR</td>\n",
              "      <td>2000</td>\n",
              "      <td>6,114.57</td>\n",
              "      <td>4.08</td>\n",
              "      <td>129,253.89</td>\n",
              "      <td>64.44</td>\n",
              "      <td>10.27</td>\n",
              "    </tr>\n",
              "    <tr>\n",
              "      <th>4</th>\n",
              "      <td>MWI</td>\n",
              "      <td>2000</td>\n",
              "      <td>11,801.50</td>\n",
              "      <td>59.54</td>\n",
              "      <td>5,026.22</td>\n",
              "      <td>74.71</td>\n",
              "      <td>11.66</td>\n",
              "    </tr>\n",
              "    <tr>\n",
              "      <th>5</th>\n",
              "      <td>ZAF</td>\n",
              "      <td>2000</td>\n",
              "      <td>45,064.10</td>\n",
              "      <td>6.94</td>\n",
              "      <td>227,242.37</td>\n",
              "      <td>72.72</td>\n",
              "      <td>5.73</td>\n",
              "    </tr>\n",
              "    <tr>\n",
              "      <th>6</th>\n",
              "      <td>USA</td>\n",
              "      <td>2000</td>\n",
              "      <td>282,171.96</td>\n",
              "      <td>1.00</td>\n",
              "      <td>9,898,700.00</td>\n",
              "      <td>72.35</td>\n",
              "      <td>6.03</td>\n",
              "    </tr>\n",
              "    <tr>\n",
              "      <th>7</th>\n",
              "      <td>URY</td>\n",
              "      <td>2000</td>\n",
              "      <td>3,219.79</td>\n",
              "      <td>12.10</td>\n",
              "      <td>25,255.96</td>\n",
              "      <td>78.98</td>\n",
              "      <td>5.11</td>\n",
              "    </tr>\n",
              "  </tbody>\n",
              "</table>\n",
              "</div>"
            ],
            "text/plain": [
              "  country isocode  year                  POP                 XRAT  \\\n",
              "0             ARG  2000            37,335.65                 1.00   \n",
              "1             AUS  2000            19,053.19                 1.72   \n",
              "2             IND  2000         1,006,300.30                44.94   \n",
              "3             ISR  2000             6,114.57                 4.08   \n",
              "4             MWI  2000            11,801.50                59.54   \n",
              "5             ZAF  2000            45,064.10                 6.94   \n",
              "6             USA  2000           282,171.96                 1.00   \n",
              "7             URY  2000             3,219.79                12.10   \n",
              "\n",
              "                 tcgdp                   cc                   cg  \n",
              "0           295,072.22                75.72                 5.58  \n",
              "1           541,804.65                67.76                 6.72  \n",
              "2         1,728,144.37                64.58                14.07  \n",
              "3           129,253.89                64.44                10.27  \n",
              "4             5,026.22                74.71                11.66  \n",
              "5           227,242.37                72.72                 5.73  \n",
              "6         9,898,700.00                72.35                 6.03  \n",
              "7            25,255.96                78.98                 5.11  "
            ]
          },
          "execution_count": 116,
          "metadata": {},
          "output_type": "execute_result"
        }
      ],
      "source": [
        "# Slicing by start from 'country isocode' column\n",
        "\n",
        "df.loc[:, 'country isocode':]"
      ]
    },
    {
      "cell_type": "code",
      "execution_count": null,
      "metadata": {
        "id": "-aElu1_a7TW3",
        "outputId": "664e1159-5c27-4535-d821-feee02a0b505"
      },
      "outputs": [
        {
          "data": {
            "text/html": [
              "<div>\n",
              "<style scoped>\n",
              "    .dataframe tbody tr th:only-of-type {\n",
              "        vertical-align: middle;\n",
              "    }\n",
              "\n",
              "    .dataframe tbody tr th {\n",
              "        vertical-align: top;\n",
              "    }\n",
              "\n",
              "    .dataframe thead th {\n",
              "        text-align: right;\n",
              "    }\n",
              "</style>\n",
              "<table border=\"1\" class=\"dataframe\">\n",
              "  <thead>\n",
              "    <tr style=\"text-align: right;\">\n",
              "      <th></th>\n",
              "      <th>country</th>\n",
              "      <th>country isocode</th>\n",
              "      <th>year</th>\n",
              "      <th>POP</th>\n",
              "      <th>XRAT</th>\n",
              "    </tr>\n",
              "  </thead>\n",
              "  <tbody>\n",
              "    <tr>\n",
              "      <th>0</th>\n",
              "      <td>Argentina</td>\n",
              "      <td>ARG</td>\n",
              "      <td>2000</td>\n",
              "      <td>37,335.65</td>\n",
              "      <td>1.00</td>\n",
              "    </tr>\n",
              "    <tr>\n",
              "      <th>1</th>\n",
              "      <td>Australia</td>\n",
              "      <td>AUS</td>\n",
              "      <td>2000</td>\n",
              "      <td>19,053.19</td>\n",
              "      <td>1.72</td>\n",
              "    </tr>\n",
              "    <tr>\n",
              "      <th>2</th>\n",
              "      <td>India</td>\n",
              "      <td>IND</td>\n",
              "      <td>2000</td>\n",
              "      <td>1,006,300.30</td>\n",
              "      <td>44.94</td>\n",
              "    </tr>\n",
              "    <tr>\n",
              "      <th>3</th>\n",
              "      <td>Israel</td>\n",
              "      <td>ISR</td>\n",
              "      <td>2000</td>\n",
              "      <td>6,114.57</td>\n",
              "      <td>4.08</td>\n",
              "    </tr>\n",
              "    <tr>\n",
              "      <th>4</th>\n",
              "      <td>Malawi</td>\n",
              "      <td>MWI</td>\n",
              "      <td>2000</td>\n",
              "      <td>11,801.50</td>\n",
              "      <td>59.54</td>\n",
              "    </tr>\n",
              "    <tr>\n",
              "      <th>5</th>\n",
              "      <td>South Africa</td>\n",
              "      <td>ZAF</td>\n",
              "      <td>2000</td>\n",
              "      <td>45,064.10</td>\n",
              "      <td>6.94</td>\n",
              "    </tr>\n",
              "    <tr>\n",
              "      <th>6</th>\n",
              "      <td>United States</td>\n",
              "      <td>USA</td>\n",
              "      <td>2000</td>\n",
              "      <td>282,171.96</td>\n",
              "      <td>1.00</td>\n",
              "    </tr>\n",
              "    <tr>\n",
              "      <th>7</th>\n",
              "      <td>Uruguay</td>\n",
              "      <td>URY</td>\n",
              "      <td>2000</td>\n",
              "      <td>3,219.79</td>\n",
              "      <td>12.10</td>\n",
              "    </tr>\n",
              "  </tbody>\n",
              "</table>\n",
              "</div>"
            ],
            "text/plain": [
              "         country country isocode  year                  POP  \\\n",
              "0      Argentina             ARG  2000            37,335.65   \n",
              "1      Australia             AUS  2000            19,053.19   \n",
              "2          India             IND  2000         1,006,300.30   \n",
              "3         Israel             ISR  2000             6,114.57   \n",
              "4         Malawi             MWI  2000            11,801.50   \n",
              "5   South Africa             ZAF  2000            45,064.10   \n",
              "6  United States             USA  2000           282,171.96   \n",
              "7        Uruguay             URY  2000             3,219.79   \n",
              "\n",
              "                  XRAT  \n",
              "0                 1.00  \n",
              "1                 1.72  \n",
              "2                44.94  \n",
              "3                 4.08  \n",
              "4                59.54  \n",
              "5                 6.94  \n",
              "6                 1.00  \n",
              "7                12.10  "
            ]
          },
          "execution_count": 117,
          "metadata": {},
          "output_type": "execute_result"
        }
      ],
      "source": [
        "# Slicing by start from the beginning and end at 'XRAT' column\n",
        "\n",
        "df.loc[:, :'XRAT']"
      ]
    },
    {
      "cell_type": "markdown",
      "metadata": {
        "id": "nFkqOryD7TW3"
      },
      "source": [
        "**1.4 – Slicing Certain Selective Columns in pandas**\n",
        "\n",
        "Sometimes you may want to select random certain columns from pandas DataFrame, you can do this by passing selected column names/labels as a list."
      ]
    },
    {
      "cell_type": "code",
      "execution_count": null,
      "metadata": {
        "id": "wdICJWyN7TW4",
        "outputId": "25fb5f30-c870-4b81-fa48-82795dd1fd69"
      },
      "outputs": [
        {
          "data": {
            "text/html": [
              "<div>\n",
              "<style scoped>\n",
              "    .dataframe tbody tr th:only-of-type {\n",
              "        vertical-align: middle;\n",
              "    }\n",
              "\n",
              "    .dataframe tbody tr th {\n",
              "        vertical-align: top;\n",
              "    }\n",
              "\n",
              "    .dataframe thead th {\n",
              "        text-align: right;\n",
              "    }\n",
              "</style>\n",
              "<table border=\"1\" class=\"dataframe\">\n",
              "  <thead>\n",
              "    <tr style=\"text-align: right;\">\n",
              "      <th></th>\n",
              "      <th>country</th>\n",
              "      <th>year</th>\n",
              "      <th>POP</th>\n",
              "    </tr>\n",
              "  </thead>\n",
              "  <tbody>\n",
              "    <tr>\n",
              "      <th>0</th>\n",
              "      <td>Argentina</td>\n",
              "      <td>2000</td>\n",
              "      <td>37,335.65</td>\n",
              "    </tr>\n",
              "    <tr>\n",
              "      <th>1</th>\n",
              "      <td>Australia</td>\n",
              "      <td>2000</td>\n",
              "      <td>19,053.19</td>\n",
              "    </tr>\n",
              "    <tr>\n",
              "      <th>2</th>\n",
              "      <td>India</td>\n",
              "      <td>2000</td>\n",
              "      <td>1,006,300.30</td>\n",
              "    </tr>\n",
              "    <tr>\n",
              "      <th>3</th>\n",
              "      <td>Israel</td>\n",
              "      <td>2000</td>\n",
              "      <td>6,114.57</td>\n",
              "    </tr>\n",
              "    <tr>\n",
              "      <th>4</th>\n",
              "      <td>Malawi</td>\n",
              "      <td>2000</td>\n",
              "      <td>11,801.50</td>\n",
              "    </tr>\n",
              "    <tr>\n",
              "      <th>5</th>\n",
              "      <td>South Africa</td>\n",
              "      <td>2000</td>\n",
              "      <td>45,064.10</td>\n",
              "    </tr>\n",
              "    <tr>\n",
              "      <th>6</th>\n",
              "      <td>United States</td>\n",
              "      <td>2000</td>\n",
              "      <td>282,171.96</td>\n",
              "    </tr>\n",
              "    <tr>\n",
              "      <th>7</th>\n",
              "      <td>Uruguay</td>\n",
              "      <td>2000</td>\n",
              "      <td>3,219.79</td>\n",
              "    </tr>\n",
              "  </tbody>\n",
              "</table>\n",
              "</div>"
            ],
            "text/plain": [
              "         country  year                  POP\n",
              "0      Argentina  2000            37,335.65\n",
              "1      Australia  2000            19,053.19\n",
              "2          India  2000         1,006,300.30\n",
              "3         Israel  2000             6,114.57\n",
              "4         Malawi  2000            11,801.50\n",
              "5   South Africa  2000            45,064.10\n",
              "6  United States  2000           282,171.96\n",
              "7        Uruguay  2000             3,219.79"
            ]
          },
          "execution_count": 118,
          "metadata": {},
          "output_type": "execute_result"
        }
      ],
      "source": [
        "df.loc[:, ['country', 'year', 'POP']]"
      ]
    },
    {
      "cell_type": "markdown",
      "metadata": {
        "id": "ZKRpeO1M7TW4"
      },
      "source": [
        "**1.5 – Selecting Every Alternate Column**\n",
        "\n",
        "Using **``loc[ ]``**, you can also slice columns by selecting every other column from pandas DataFrame."
      ]
    },
    {
      "cell_type": "code",
      "execution_count": null,
      "metadata": {
        "id": "vOg5RVhV7TW4",
        "outputId": "2f8502f3-144b-411a-8644-d645abc475cf"
      },
      "outputs": [
        {
          "data": {
            "text/html": [
              "<div>\n",
              "<style scoped>\n",
              "    .dataframe tbody tr th:only-of-type {\n",
              "        vertical-align: middle;\n",
              "    }\n",
              "\n",
              "    .dataframe tbody tr th {\n",
              "        vertical-align: top;\n",
              "    }\n",
              "\n",
              "    .dataframe thead th {\n",
              "        text-align: right;\n",
              "    }\n",
              "</style>\n",
              "<table border=\"1\" class=\"dataframe\">\n",
              "  <thead>\n",
              "    <tr style=\"text-align: right;\">\n",
              "      <th></th>\n",
              "      <th>country</th>\n",
              "      <th>year</th>\n",
              "      <th>XRAT</th>\n",
              "      <th>cc</th>\n",
              "    </tr>\n",
              "  </thead>\n",
              "  <tbody>\n",
              "    <tr>\n",
              "      <th>0</th>\n",
              "      <td>Argentina</td>\n",
              "      <td>2000</td>\n",
              "      <td>1.00</td>\n",
              "      <td>75.72</td>\n",
              "    </tr>\n",
              "    <tr>\n",
              "      <th>1</th>\n",
              "      <td>Australia</td>\n",
              "      <td>2000</td>\n",
              "      <td>1.72</td>\n",
              "      <td>67.76</td>\n",
              "    </tr>\n",
              "    <tr>\n",
              "      <th>2</th>\n",
              "      <td>India</td>\n",
              "      <td>2000</td>\n",
              "      <td>44.94</td>\n",
              "      <td>64.58</td>\n",
              "    </tr>\n",
              "    <tr>\n",
              "      <th>3</th>\n",
              "      <td>Israel</td>\n",
              "      <td>2000</td>\n",
              "      <td>4.08</td>\n",
              "      <td>64.44</td>\n",
              "    </tr>\n",
              "    <tr>\n",
              "      <th>4</th>\n",
              "      <td>Malawi</td>\n",
              "      <td>2000</td>\n",
              "      <td>59.54</td>\n",
              "      <td>74.71</td>\n",
              "    </tr>\n",
              "    <tr>\n",
              "      <th>5</th>\n",
              "      <td>South Africa</td>\n",
              "      <td>2000</td>\n",
              "      <td>6.94</td>\n",
              "      <td>72.72</td>\n",
              "    </tr>\n",
              "    <tr>\n",
              "      <th>6</th>\n",
              "      <td>United States</td>\n",
              "      <td>2000</td>\n",
              "      <td>1.00</td>\n",
              "      <td>72.35</td>\n",
              "    </tr>\n",
              "    <tr>\n",
              "      <th>7</th>\n",
              "      <td>Uruguay</td>\n",
              "      <td>2000</td>\n",
              "      <td>12.10</td>\n",
              "      <td>78.98</td>\n",
              "    </tr>\n",
              "  </tbody>\n",
              "</table>\n",
              "</div>"
            ],
            "text/plain": [
              "         country  year                 XRAT                   cc\n",
              "0      Argentina  2000                 1.00                75.72\n",
              "1      Australia  2000                 1.72                67.76\n",
              "2          India  2000                44.94                64.58\n",
              "3         Israel  2000                 4.08                64.44\n",
              "4         Malawi  2000                59.54                74.71\n",
              "5   South Africa  2000                 6.94                72.72\n",
              "6  United States  2000                 1.00                72.35\n",
              "7        Uruguay  2000                12.10                78.98"
            ]
          },
          "execution_count": 119,
          "metadata": {},
          "output_type": "execute_result"
        }
      ],
      "source": [
        "df.loc[:, ::2]"
      ]
    },
    {
      "cell_type": "markdown",
      "metadata": {
        "id": "4huQ-Gy87TW4"
      },
      "source": [
        "## 2) **``Using Pandas.DataFrame.iloc[]``** (By position)\n",
        "\n",
        "By using **``pandas.DataFrame.iloc[ ]``** you can slice DataFrame by column **position/index**. Always remember that index starts from 0. You can use **``pandas.DataFrame.iloc[ ]``** with the syntax **``[:, start:stop:step]``**; where **start** indicates the index of the first column to take, **stop** indicates the index of the last column to take, and **step** indicates the number of indices to advance after each extraction. Or, use the syntax: **``[:, [indices]]``** with indices as a list of column indices to take.\n",
        "\n",
        "**2.1 – Slicing Columns by Index Position**"
      ]
    },
    {
      "cell_type": "code",
      "execution_count": null,
      "metadata": {
        "id": "CkncfVze7TW4",
        "outputId": "42536f89-4f10-4f99-c862-4948457b6e0d"
      },
      "outputs": [
        {
          "data": {
            "text/html": [
              "<div>\n",
              "<style scoped>\n",
              "    .dataframe tbody tr th:only-of-type {\n",
              "        vertical-align: middle;\n",
              "    }\n",
              "\n",
              "    .dataframe tbody tr th {\n",
              "        vertical-align: top;\n",
              "    }\n",
              "\n",
              "    .dataframe thead th {\n",
              "        text-align: right;\n",
              "    }\n",
              "</style>\n",
              "<table border=\"1\" class=\"dataframe\">\n",
              "  <thead>\n",
              "    <tr style=\"text-align: right;\">\n",
              "      <th></th>\n",
              "      <th>country</th>\n",
              "      <th>country isocode</th>\n",
              "      <th>year</th>\n",
              "      <th>POP</th>\n",
              "      <th>XRAT</th>\n",
              "      <th>tcgdp</th>\n",
              "      <th>cc</th>\n",
              "      <th>cg</th>\n",
              "    </tr>\n",
              "  </thead>\n",
              "  <tbody>\n",
              "    <tr>\n",
              "      <th>0</th>\n",
              "      <td>Argentina</td>\n",
              "      <td>ARG</td>\n",
              "      <td>2000</td>\n",
              "      <td>37,335.65</td>\n",
              "      <td>1.00</td>\n",
              "      <td>295,072.22</td>\n",
              "      <td>75.72</td>\n",
              "      <td>5.58</td>\n",
              "    </tr>\n",
              "    <tr>\n",
              "      <th>1</th>\n",
              "      <td>Australia</td>\n",
              "      <td>AUS</td>\n",
              "      <td>2000</td>\n",
              "      <td>19,053.19</td>\n",
              "      <td>1.72</td>\n",
              "      <td>541,804.65</td>\n",
              "      <td>67.76</td>\n",
              "      <td>6.72</td>\n",
              "    </tr>\n",
              "    <tr>\n",
              "      <th>2</th>\n",
              "      <td>India</td>\n",
              "      <td>IND</td>\n",
              "      <td>2000</td>\n",
              "      <td>1,006,300.30</td>\n",
              "      <td>44.94</td>\n",
              "      <td>1,728,144.37</td>\n",
              "      <td>64.58</td>\n",
              "      <td>14.07</td>\n",
              "    </tr>\n",
              "    <tr>\n",
              "      <th>3</th>\n",
              "      <td>Israel</td>\n",
              "      <td>ISR</td>\n",
              "      <td>2000</td>\n",
              "      <td>6,114.57</td>\n",
              "      <td>4.08</td>\n",
              "      <td>129,253.89</td>\n",
              "      <td>64.44</td>\n",
              "      <td>10.27</td>\n",
              "    </tr>\n",
              "    <tr>\n",
              "      <th>4</th>\n",
              "      <td>Malawi</td>\n",
              "      <td>MWI</td>\n",
              "      <td>2000</td>\n",
              "      <td>11,801.50</td>\n",
              "      <td>59.54</td>\n",
              "      <td>5,026.22</td>\n",
              "      <td>74.71</td>\n",
              "      <td>11.66</td>\n",
              "    </tr>\n",
              "    <tr>\n",
              "      <th>5</th>\n",
              "      <td>South Africa</td>\n",
              "      <td>ZAF</td>\n",
              "      <td>2000</td>\n",
              "      <td>45,064.10</td>\n",
              "      <td>6.94</td>\n",
              "      <td>227,242.37</td>\n",
              "      <td>72.72</td>\n",
              "      <td>5.73</td>\n",
              "    </tr>\n",
              "    <tr>\n",
              "      <th>6</th>\n",
              "      <td>United States</td>\n",
              "      <td>USA</td>\n",
              "      <td>2000</td>\n",
              "      <td>282,171.96</td>\n",
              "      <td>1.00</td>\n",
              "      <td>9,898,700.00</td>\n",
              "      <td>72.35</td>\n",
              "      <td>6.03</td>\n",
              "    </tr>\n",
              "    <tr>\n",
              "      <th>7</th>\n",
              "      <td>Uruguay</td>\n",
              "      <td>URY</td>\n",
              "      <td>2000</td>\n",
              "      <td>3,219.79</td>\n",
              "      <td>12.10</td>\n",
              "      <td>25,255.96</td>\n",
              "      <td>78.98</td>\n",
              "      <td>5.11</td>\n",
              "    </tr>\n",
              "  </tbody>\n",
              "</table>\n",
              "</div>"
            ],
            "text/plain": [
              "         country country isocode  year                  POP  \\\n",
              "0      Argentina             ARG  2000            37,335.65   \n",
              "1      Australia             AUS  2000            19,053.19   \n",
              "2          India             IND  2000         1,006,300.30   \n",
              "3         Israel             ISR  2000             6,114.57   \n",
              "4         Malawi             MWI  2000            11,801.50   \n",
              "5   South Africa             ZAF  2000            45,064.10   \n",
              "6  United States             USA  2000           282,171.96   \n",
              "7        Uruguay             URY  2000             3,219.79   \n",
              "\n",
              "                  XRAT                tcgdp                   cc  \\\n",
              "0                 1.00           295,072.22                75.72   \n",
              "1                 1.72           541,804.65                67.76   \n",
              "2                44.94         1,728,144.37                64.58   \n",
              "3                 4.08           129,253.89                64.44   \n",
              "4                59.54             5,026.22                74.71   \n",
              "5                 6.94           227,242.37                72.72   \n",
              "6                 1.00         9,898,700.00                72.35   \n",
              "7                12.10            25,255.96                78.98   \n",
              "\n",
              "                    cg  \n",
              "0                 5.58  \n",
              "1                 6.72  \n",
              "2                14.07  \n",
              "3                10.27  \n",
              "4                11.66  \n",
              "5                 5.73  \n",
              "6                 6.03  \n",
              "7                 5.11  "
            ]
          },
          "execution_count": 120,
          "metadata": {},
          "output_type": "execute_result"
        }
      ],
      "source": [
        "# Let us first remember our df\n",
        "\n",
        "df"
      ]
    },
    {
      "cell_type": "markdown",
      "metadata": {
        "id": "rwfiulnh7TW4"
      },
      "source": [
        "We are going to use columns by their index positions, and retrieve slices of DataFrame. Below example retrieves \"country isocode\", \"POP\" and \"XRAT\" slices of columns at the DataFrame."
      ]
    },
    {
      "cell_type": "code",
      "execution_count": null,
      "metadata": {
        "id": "_pFXDJPR7TW4",
        "outputId": "7f4b62f8-9cd6-46fa-a8bf-173ef0d4d5d5"
      },
      "outputs": [
        {
          "data": {
            "text/html": [
              "<div>\n",
              "<style scoped>\n",
              "    .dataframe tbody tr th:only-of-type {\n",
              "        vertical-align: middle;\n",
              "    }\n",
              "\n",
              "    .dataframe tbody tr th {\n",
              "        vertical-align: top;\n",
              "    }\n",
              "\n",
              "    .dataframe thead th {\n",
              "        text-align: right;\n",
              "    }\n",
              "</style>\n",
              "<table border=\"1\" class=\"dataframe\">\n",
              "  <thead>\n",
              "    <tr style=\"text-align: right;\">\n",
              "      <th></th>\n",
              "      <th>country isocode</th>\n",
              "      <th>POP</th>\n",
              "      <th>XRAT</th>\n",
              "    </tr>\n",
              "  </thead>\n",
              "  <tbody>\n",
              "    <tr>\n",
              "      <th>0</th>\n",
              "      <td>ARG</td>\n",
              "      <td>37,335.65</td>\n",
              "      <td>1.00</td>\n",
              "    </tr>\n",
              "    <tr>\n",
              "      <th>1</th>\n",
              "      <td>AUS</td>\n",
              "      <td>19,053.19</td>\n",
              "      <td>1.72</td>\n",
              "    </tr>\n",
              "    <tr>\n",
              "      <th>2</th>\n",
              "      <td>IND</td>\n",
              "      <td>1,006,300.30</td>\n",
              "      <td>44.94</td>\n",
              "    </tr>\n",
              "    <tr>\n",
              "      <th>3</th>\n",
              "      <td>ISR</td>\n",
              "      <td>6,114.57</td>\n",
              "      <td>4.08</td>\n",
              "    </tr>\n",
              "    <tr>\n",
              "      <th>4</th>\n",
              "      <td>MWI</td>\n",
              "      <td>11,801.50</td>\n",
              "      <td>59.54</td>\n",
              "    </tr>\n",
              "    <tr>\n",
              "      <th>5</th>\n",
              "      <td>ZAF</td>\n",
              "      <td>45,064.10</td>\n",
              "      <td>6.94</td>\n",
              "    </tr>\n",
              "    <tr>\n",
              "      <th>6</th>\n",
              "      <td>USA</td>\n",
              "      <td>282,171.96</td>\n",
              "      <td>1.00</td>\n",
              "    </tr>\n",
              "    <tr>\n",
              "      <th>7</th>\n",
              "      <td>URY</td>\n",
              "      <td>3,219.79</td>\n",
              "      <td>12.10</td>\n",
              "    </tr>\n",
              "  </tbody>\n",
              "</table>\n",
              "</div>"
            ],
            "text/plain": [
              "  country isocode                  POP                 XRAT\n",
              "0             ARG            37,335.65                 1.00\n",
              "1             AUS            19,053.19                 1.72\n",
              "2             IND         1,006,300.30                44.94\n",
              "3             ISR             6,114.57                 4.08\n",
              "4             MWI            11,801.50                59.54\n",
              "5             ZAF            45,064.10                 6.94\n",
              "6             USA           282,171.96                 1.00\n",
              "7             URY             3,219.79                12.10"
            ]
          },
          "execution_count": 121,
          "metadata": {},
          "output_type": "execute_result"
        }
      ],
      "source": [
        "# Slicing by selected column position\n",
        "\n",
        "df.iloc[:, [1, 3, 4]]"
      ]
    },
    {
      "cell_type": "markdown",
      "metadata": {
        "id": "E6Lcfo077TW4"
      },
      "source": [
        "**2.2 Column Slices by Position Range**\n",
        "\n",
        "Like slices by column labels, you can also slice a DataFrame by a range of positions."
      ]
    },
    {
      "cell_type": "code",
      "execution_count": null,
      "metadata": {
        "id": "AS4wHiNI7TW4",
        "outputId": "29238287-d87c-47f1-ff5d-87bc0d021c7e"
      },
      "outputs": [
        {
          "data": {
            "text/html": [
              "<div>\n",
              "<style scoped>\n",
              "    .dataframe tbody tr th:only-of-type {\n",
              "        vertical-align: middle;\n",
              "    }\n",
              "\n",
              "    .dataframe tbody tr th {\n",
              "        vertical-align: top;\n",
              "    }\n",
              "\n",
              "    .dataframe thead th {\n",
              "        text-align: right;\n",
              "    }\n",
              "</style>\n",
              "<table border=\"1\" class=\"dataframe\">\n",
              "  <thead>\n",
              "    <tr style=\"text-align: right;\">\n",
              "      <th></th>\n",
              "      <th>country isocode</th>\n",
              "      <th>year</th>\n",
              "      <th>POP</th>\n",
              "    </tr>\n",
              "  </thead>\n",
              "  <tbody>\n",
              "    <tr>\n",
              "      <th>0</th>\n",
              "      <td>ARG</td>\n",
              "      <td>2000</td>\n",
              "      <td>37,335.65</td>\n",
              "    </tr>\n",
              "    <tr>\n",
              "      <th>1</th>\n",
              "      <td>AUS</td>\n",
              "      <td>2000</td>\n",
              "      <td>19,053.19</td>\n",
              "    </tr>\n",
              "    <tr>\n",
              "      <th>2</th>\n",
              "      <td>IND</td>\n",
              "      <td>2000</td>\n",
              "      <td>1,006,300.30</td>\n",
              "    </tr>\n",
              "    <tr>\n",
              "      <th>3</th>\n",
              "      <td>ISR</td>\n",
              "      <td>2000</td>\n",
              "      <td>6,114.57</td>\n",
              "    </tr>\n",
              "    <tr>\n",
              "      <th>4</th>\n",
              "      <td>MWI</td>\n",
              "      <td>2000</td>\n",
              "      <td>11,801.50</td>\n",
              "    </tr>\n",
              "    <tr>\n",
              "      <th>5</th>\n",
              "      <td>ZAF</td>\n",
              "      <td>2000</td>\n",
              "      <td>45,064.10</td>\n",
              "    </tr>\n",
              "    <tr>\n",
              "      <th>6</th>\n",
              "      <td>USA</td>\n",
              "      <td>2000</td>\n",
              "      <td>282,171.96</td>\n",
              "    </tr>\n",
              "    <tr>\n",
              "      <th>7</th>\n",
              "      <td>URY</td>\n",
              "      <td>2000</td>\n",
              "      <td>3,219.79</td>\n",
              "    </tr>\n",
              "  </tbody>\n",
              "</table>\n",
              "</div>"
            ],
            "text/plain": [
              "  country isocode  year                  POP\n",
              "0             ARG  2000            37,335.65\n",
              "1             AUS  2000            19,053.19\n",
              "2             IND  2000         1,006,300.30\n",
              "3             ISR  2000             6,114.57\n",
              "4             MWI  2000            11,801.50\n",
              "5             ZAF  2000            45,064.10\n",
              "6             USA  2000           282,171.96\n",
              "7             URY  2000             3,219.79"
            ]
          },
          "execution_count": 122,
          "metadata": {},
          "output_type": "execute_result"
        }
      ],
      "source": [
        "# Slicing between indexes 1 (inclusive) and 4 (exclusive)\n",
        "\n",
        "df.iloc[:, 1:4]"
      ]
    },
    {
      "cell_type": "code",
      "execution_count": null,
      "metadata": {
        "id": "56jZ6USb7TW5",
        "outputId": "011673ca-4dc8-48ca-9762-849caf4dce90"
      },
      "outputs": [
        {
          "data": {
            "text/html": [
              "<div>\n",
              "<style scoped>\n",
              "    .dataframe tbody tr th:only-of-type {\n",
              "        vertical-align: middle;\n",
              "    }\n",
              "\n",
              "    .dataframe tbody tr th {\n",
              "        vertical-align: top;\n",
              "    }\n",
              "\n",
              "    .dataframe thead th {\n",
              "        text-align: right;\n",
              "    }\n",
              "</style>\n",
              "<table border=\"1\" class=\"dataframe\">\n",
              "  <thead>\n",
              "    <tr style=\"text-align: right;\">\n",
              "      <th></th>\n",
              "      <th>POP</th>\n",
              "      <th>XRAT</th>\n",
              "      <th>tcgdp</th>\n",
              "      <th>cc</th>\n",
              "      <th>cg</th>\n",
              "    </tr>\n",
              "  </thead>\n",
              "  <tbody>\n",
              "    <tr>\n",
              "      <th>0</th>\n",
              "      <td>37,335.65</td>\n",
              "      <td>1.00</td>\n",
              "      <td>295,072.22</td>\n",
              "      <td>75.72</td>\n",
              "      <td>5.58</td>\n",
              "    </tr>\n",
              "    <tr>\n",
              "      <th>1</th>\n",
              "      <td>19,053.19</td>\n",
              "      <td>1.72</td>\n",
              "      <td>541,804.65</td>\n",
              "      <td>67.76</td>\n",
              "      <td>6.72</td>\n",
              "    </tr>\n",
              "    <tr>\n",
              "      <th>2</th>\n",
              "      <td>1,006,300.30</td>\n",
              "      <td>44.94</td>\n",
              "      <td>1,728,144.37</td>\n",
              "      <td>64.58</td>\n",
              "      <td>14.07</td>\n",
              "    </tr>\n",
              "    <tr>\n",
              "      <th>3</th>\n",
              "      <td>6,114.57</td>\n",
              "      <td>4.08</td>\n",
              "      <td>129,253.89</td>\n",
              "      <td>64.44</td>\n",
              "      <td>10.27</td>\n",
              "    </tr>\n",
              "    <tr>\n",
              "      <th>4</th>\n",
              "      <td>11,801.50</td>\n",
              "      <td>59.54</td>\n",
              "      <td>5,026.22</td>\n",
              "      <td>74.71</td>\n",
              "      <td>11.66</td>\n",
              "    </tr>\n",
              "    <tr>\n",
              "      <th>5</th>\n",
              "      <td>45,064.10</td>\n",
              "      <td>6.94</td>\n",
              "      <td>227,242.37</td>\n",
              "      <td>72.72</td>\n",
              "      <td>5.73</td>\n",
              "    </tr>\n",
              "    <tr>\n",
              "      <th>6</th>\n",
              "      <td>282,171.96</td>\n",
              "      <td>1.00</td>\n",
              "      <td>9,898,700.00</td>\n",
              "      <td>72.35</td>\n",
              "      <td>6.03</td>\n",
              "    </tr>\n",
              "    <tr>\n",
              "      <th>7</th>\n",
              "      <td>3,219.79</td>\n",
              "      <td>12.10</td>\n",
              "      <td>25,255.96</td>\n",
              "      <td>78.98</td>\n",
              "      <td>5.11</td>\n",
              "    </tr>\n",
              "  </tbody>\n",
              "</table>\n",
              "</div>"
            ],
            "text/plain": [
              "                   POP                 XRAT                tcgdp  \\\n",
              "0            37,335.65                 1.00           295,072.22   \n",
              "1            19,053.19                 1.72           541,804.65   \n",
              "2         1,006,300.30                44.94         1,728,144.37   \n",
              "3             6,114.57                 4.08           129,253.89   \n",
              "4            11,801.50                59.54             5,026.22   \n",
              "5            45,064.10                 6.94           227,242.37   \n",
              "6           282,171.96                 1.00         9,898,700.00   \n",
              "7             3,219.79                12.10            25,255.96   \n",
              "\n",
              "                    cc                   cg  \n",
              "0                75.72                 5.58  \n",
              "1                67.76                 6.72  \n",
              "2                64.58                14.07  \n",
              "3                64.44                10.27  \n",
              "4                74.71                11.66  \n",
              "5                72.72                 5.73  \n",
              "6                72.35                 6.03  \n",
              "7                78.98                 5.11  "
            ]
          },
          "execution_count": 123,
          "metadata": {},
          "output_type": "execute_result"
        }
      ],
      "source": [
        "# Slicing from the 3rd index (inclusive) to end\n",
        "\n",
        "df.iloc[:, 3:]"
      ]
    },
    {
      "cell_type": "code",
      "execution_count": null,
      "metadata": {
        "id": "etK-bU5D7TW5",
        "outputId": "4996792f-0cc4-4cb1-8868-037d1fadd8b5"
      },
      "outputs": [
        {
          "data": {
            "text/html": [
              "<div>\n",
              "<style scoped>\n",
              "    .dataframe tbody tr th:only-of-type {\n",
              "        vertical-align: middle;\n",
              "    }\n",
              "\n",
              "    .dataframe tbody tr th {\n",
              "        vertical-align: top;\n",
              "    }\n",
              "\n",
              "    .dataframe thead th {\n",
              "        text-align: right;\n",
              "    }\n",
              "</style>\n",
              "<table border=\"1\" class=\"dataframe\">\n",
              "  <thead>\n",
              "    <tr style=\"text-align: right;\">\n",
              "      <th></th>\n",
              "      <th>country</th>\n",
              "      <th>country isocode</th>\n",
              "    </tr>\n",
              "  </thead>\n",
              "  <tbody>\n",
              "    <tr>\n",
              "      <th>0</th>\n",
              "      <td>Argentina</td>\n",
              "      <td>ARG</td>\n",
              "    </tr>\n",
              "    <tr>\n",
              "      <th>1</th>\n",
              "      <td>Australia</td>\n",
              "      <td>AUS</td>\n",
              "    </tr>\n",
              "    <tr>\n",
              "      <th>2</th>\n",
              "      <td>India</td>\n",
              "      <td>IND</td>\n",
              "    </tr>\n",
              "    <tr>\n",
              "      <th>3</th>\n",
              "      <td>Israel</td>\n",
              "      <td>ISR</td>\n",
              "    </tr>\n",
              "    <tr>\n",
              "      <th>4</th>\n",
              "      <td>Malawi</td>\n",
              "      <td>MWI</td>\n",
              "    </tr>\n",
              "    <tr>\n",
              "      <th>5</th>\n",
              "      <td>South Africa</td>\n",
              "      <td>ZAF</td>\n",
              "    </tr>\n",
              "    <tr>\n",
              "      <th>6</th>\n",
              "      <td>United States</td>\n",
              "      <td>USA</td>\n",
              "    </tr>\n",
              "    <tr>\n",
              "      <th>7</th>\n",
              "      <td>Uruguay</td>\n",
              "      <td>URY</td>\n",
              "    </tr>\n",
              "  </tbody>\n",
              "</table>\n",
              "</div>"
            ],
            "text/plain": [
              "         country country isocode\n",
              "0      Argentina             ARG\n",
              "1      Australia             AUS\n",
              "2          India             IND\n",
              "3         Israel             ISR\n",
              "4         Malawi             MWI\n",
              "5   South Africa             ZAF\n",
              "6  United States             USA\n",
              "7        Uruguay             URY"
            ]
          },
          "execution_count": 124,
          "metadata": {},
          "output_type": "execute_result"
        }
      ],
      "source": [
        "# Slicing from the beginning to the 2nd index (exclusive)\n",
        "\n",
        "df.iloc[:, :2]"
      ]
    },
    {
      "cell_type": "markdown",
      "metadata": {
        "id": "amjpeCCi7TW5"
      },
      "source": [
        "To get the **last column** use **``df.iloc[:, -1:]``** and to get just **first column** **``df.iloc[:, :1]``**"
      ]
    },
    {
      "cell_type": "code",
      "execution_count": null,
      "metadata": {
        "id": "abOGYlXb7TW5",
        "outputId": "b5c1b0b9-7e0d-4b82-d5a2-00b4c5875ed8"
      },
      "outputs": [
        {
          "data": {
            "text/plain": [
              "0                   5.58\n",
              "1                   6.72\n",
              "2                  14.07\n",
              "3                  10.27\n",
              "4                  11.66\n",
              "5                   5.73\n",
              "6                   6.03\n",
              "7                   5.11\n",
              "Name: cg, dtype: float64"
            ]
          },
          "execution_count": 125,
          "metadata": {},
          "output_type": "execute_result"
        }
      ],
      "source": [
        "df.iloc[:, -1]"
      ]
    },
    {
      "cell_type": "markdown",
      "metadata": {
        "id": "DViTgzBc7TW5"
      },
      "source": [
        "## BONUS"
      ]
    },
    {
      "cell_type": "code",
      "execution_count": null,
      "metadata": {
        "id": "igBIW58g7TW5",
        "outputId": "51677317-e56c-46d3-818d-146ce40d3c92"
      },
      "outputs": [
        {
          "data": {
            "text/html": [
              "<div>\n",
              "<style scoped>\n",
              "    .dataframe tbody tr th:only-of-type {\n",
              "        vertical-align: middle;\n",
              "    }\n",
              "\n",
              "    .dataframe tbody tr th {\n",
              "        vertical-align: top;\n",
              "    }\n",
              "\n",
              "    .dataframe thead th {\n",
              "        text-align: right;\n",
              "    }\n",
              "</style>\n",
              "<table border=\"1\" class=\"dataframe\">\n",
              "  <thead>\n",
              "    <tr style=\"text-align: right;\">\n",
              "      <th></th>\n",
              "      <th>country</th>\n",
              "      <th>country isocode</th>\n",
              "      <th>year</th>\n",
              "      <th>POP</th>\n",
              "      <th>XRAT</th>\n",
              "      <th>tcgdp</th>\n",
              "      <th>cc</th>\n",
              "      <th>cg</th>\n",
              "    </tr>\n",
              "  </thead>\n",
              "  <tbody>\n",
              "    <tr>\n",
              "      <th>0</th>\n",
              "      <td>Argentina</td>\n",
              "      <td>ARG</td>\n",
              "      <td>2000</td>\n",
              "      <td>37,335.65</td>\n",
              "      <td>1.00</td>\n",
              "      <td>295,072.22</td>\n",
              "      <td>75.72</td>\n",
              "      <td>5.58</td>\n",
              "    </tr>\n",
              "    <tr>\n",
              "      <th>1</th>\n",
              "      <td>Australia</td>\n",
              "      <td>AUS</td>\n",
              "      <td>2000</td>\n",
              "      <td>19,053.19</td>\n",
              "      <td>1.72</td>\n",
              "      <td>541,804.65</td>\n",
              "      <td>67.76</td>\n",
              "      <td>6.72</td>\n",
              "    </tr>\n",
              "    <tr>\n",
              "      <th>2</th>\n",
              "      <td>India</td>\n",
              "      <td>IND</td>\n",
              "      <td>2000</td>\n",
              "      <td>1,006,300.30</td>\n",
              "      <td>44.94</td>\n",
              "      <td>1,728,144.37</td>\n",
              "      <td>64.58</td>\n",
              "      <td>14.07</td>\n",
              "    </tr>\n",
              "    <tr>\n",
              "      <th>3</th>\n",
              "      <td>Israel</td>\n",
              "      <td>ISR</td>\n",
              "      <td>2000</td>\n",
              "      <td>6,114.57</td>\n",
              "      <td>4.08</td>\n",
              "      <td>129,253.89</td>\n",
              "      <td>64.44</td>\n",
              "      <td>10.27</td>\n",
              "    </tr>\n",
              "    <tr>\n",
              "      <th>4</th>\n",
              "      <td>Malawi</td>\n",
              "      <td>MWI</td>\n",
              "      <td>2000</td>\n",
              "      <td>11,801.50</td>\n",
              "      <td>59.54</td>\n",
              "      <td>5,026.22</td>\n",
              "      <td>74.71</td>\n",
              "      <td>11.66</td>\n",
              "    </tr>\n",
              "    <tr>\n",
              "      <th>5</th>\n",
              "      <td>South Africa</td>\n",
              "      <td>ZAF</td>\n",
              "      <td>2000</td>\n",
              "      <td>45,064.10</td>\n",
              "      <td>6.94</td>\n",
              "      <td>227,242.37</td>\n",
              "      <td>72.72</td>\n",
              "      <td>5.73</td>\n",
              "    </tr>\n",
              "    <tr>\n",
              "      <th>6</th>\n",
              "      <td>United States</td>\n",
              "      <td>USA</td>\n",
              "      <td>2000</td>\n",
              "      <td>282,171.96</td>\n",
              "      <td>1.00</td>\n",
              "      <td>9,898,700.00</td>\n",
              "      <td>72.35</td>\n",
              "      <td>6.03</td>\n",
              "    </tr>\n",
              "    <tr>\n",
              "      <th>7</th>\n",
              "      <td>Uruguay</td>\n",
              "      <td>URY</td>\n",
              "      <td>2000</td>\n",
              "      <td>3,219.79</td>\n",
              "      <td>12.10</td>\n",
              "      <td>25,255.96</td>\n",
              "      <td>78.98</td>\n",
              "      <td>5.11</td>\n",
              "    </tr>\n",
              "  </tbody>\n",
              "</table>\n",
              "</div>"
            ],
            "text/plain": [
              "         country country isocode  year                  POP  \\\n",
              "0      Argentina             ARG  2000            37,335.65   \n",
              "1      Australia             AUS  2000            19,053.19   \n",
              "2          India             IND  2000         1,006,300.30   \n",
              "3         Israel             ISR  2000             6,114.57   \n",
              "4         Malawi             MWI  2000            11,801.50   \n",
              "5   South Africa             ZAF  2000            45,064.10   \n",
              "6  United States             USA  2000           282,171.96   \n",
              "7        Uruguay             URY  2000             3,219.79   \n",
              "\n",
              "                  XRAT                tcgdp                   cc  \\\n",
              "0                 1.00           295,072.22                75.72   \n",
              "1                 1.72           541,804.65                67.76   \n",
              "2                44.94         1,728,144.37                64.58   \n",
              "3                 4.08           129,253.89                64.44   \n",
              "4                59.54             5,026.22                74.71   \n",
              "5                 6.94           227,242.37                72.72   \n",
              "6                 1.00         9,898,700.00                72.35   \n",
              "7                12.10            25,255.96                78.98   \n",
              "\n",
              "                    cg  \n",
              "0                 5.58  \n",
              "1                 6.72  \n",
              "2                14.07  \n",
              "3                10.27  \n",
              "4                11.66  \n",
              "5                 5.73  \n",
              "6                 6.03  \n",
              "7                 5.11  "
            ]
          },
          "execution_count": 126,
          "metadata": {},
          "output_type": "execute_result"
        }
      ],
      "source": [
        "df"
      ]
    },
    {
      "cell_type": "code",
      "execution_count": null,
      "metadata": {
        "id": "GudyPcGQ7TW5",
        "outputId": "be40e2e6-519d-4826-b596-79adfeef062e"
      },
      "outputs": [
        {
          "data": {
            "text/plain": [
              "1006300.297"
            ]
          },
          "execution_count": 127,
          "metadata": {},
          "output_type": "execute_result"
        }
      ],
      "source": [
        "df.iat[2, 3]  # By position"
      ]
    },
    {
      "cell_type": "code",
      "execution_count": null,
      "metadata": {
        "id": "Iy-9D4nD7TW5",
        "outputId": "19921bae-0a16-4694-867d-d060da6a0f10"
      },
      "outputs": [
        {
          "data": {
            "text/plain": [
              "1006300.297"
            ]
          },
          "execution_count": 128,
          "metadata": {},
          "output_type": "execute_result"
        }
      ],
      "source": [
        "df.at[2, \"POP\"]  # By label"
      ]
    },
    {
      "cell_type": "markdown",
      "metadata": {
        "id": "Hyq6FkDl7TW6"
      },
      "source": [
        "**``iat[]``** and **``at[]``** gives only a single value output (working with scalar only), so very fast, while **``iloc[]``** and **``loc[]``** can give multiple row output. [Source](https://pandas.pydata.org/pandas-docs/stable/user_guide/indexing.html)"
      ]
    },
    {
      "cell_type": "markdown",
      "metadata": {
        "id": "gUy0c8fF7TW6"
      },
      "source": [
        "## <p style=\"background-color:#FDFEFE; font-family:newtimeroman; color:#9d4f8c; font-size:150%; text-align:center; border-radius:10px 10px;\">The End of The Lab-04 Session</p>\n",
        "\n",
        "<a id=\"7\"></a>\n",
        "<a href=\"#toc\" class=\"btn btn-primary btn-sm\" role=\"button\" aria-pressed=\"true\" \n",
        "style=\"color:blue; background-color:#dfa8e4\" data-toggle=\"popover\">Content</a>"
      ]
    },
    {
      "cell_type": "markdown",
      "metadata": {
        "id": "9-dmYTlA7TW6"
      },
      "source": [
        "<p style=\"text-align: center;\"><img src=\"https://docs.google.com/uc?id=1lY0Uj5R04yMY3-ZppPWxqCr5pvBLYPnV\" class=\"img-fluid\" \n",
        "alt=\"CLRSWY\"></p>\n",
        "\n",
        "## <p style=\"background-color:#FDFEFE; font-family:newtimeroman; color:#9d4f8c; font-size:100%; text-align:center; border-radius:10px 10px;\">WAY TO REINVENT YOURSELF</p>\n",
        "\n",
        "___"
      ]
    }
  ],
  "metadata": {
    "colab": {
      "provenance": []
    },
    "kernelspec": {
      "display_name": "Python 3 (ipykernel)",
      "language": "python",
      "name": "python3"
    },
    "language_info": {
      "codemirror_mode": {
        "name": "ipython",
        "version": 3
      },
      "file_extension": ".py",
      "mimetype": "text/x-python",
      "name": "python",
      "nbconvert_exporter": "python",
      "pygments_lexer": "ipython3",
      "version": "3.9.16"
    },
    "toc": {
      "base_numbering": 1,
      "nav_menu": {},
      "number_sections": false,
      "sideBar": true,
      "skip_h1_title": false,
      "title_cell": "Table of Contents",
      "title_sidebar": "Contents",
      "toc_cell": false,
      "toc_position": {
        "height": "671.804px",
        "left": "533px",
        "top": "170.051px",
        "width": "316.075px"
      },
      "toc_section_display": true,
      "toc_window_display": true
    }
  },
  "nbformat": 4,
  "nbformat_minor": 0
}