{
  "nbformat": 4,
  "nbformat_minor": 0,
  "metadata": {
    "colab": {
      "provenance": [],
      "authorship_tag": "ABX9TyNJFTDy/IkoRyI0eIeSR9ba",
      "include_colab_link": true
    },
    "kernelspec": {
      "name": "python3",
      "display_name": "Python 3"
    },
    "language_info": {
      "name": "python"
    }
  },
  "cells": [
    {
      "cell_type": "markdown",
      "metadata": {
        "id": "view-in-github",
        "colab_type": "text"
      },
      "source": [
        "<a href=\"https://colab.research.google.com/github/bilal-ozgur/Preparation-for-Data-Analysis/blob/main/Tasks_lambda_func.ipynb\" target=\"_parent\"><img src=\"https://colab.research.google.com/assets/colab-badge.svg\" alt=\"Open In Colab\"/></a>"
      ]
    },
    {
      "cell_type": "markdown",
      "source": [
        "### Task-1:\n",
        "\n",
        "**Define a lambda function to reverse the elements of any iterables.** \n",
        "\n",
        "**Use parentheses for arguments and print the result.**\n"
      ],
      "metadata": {
        "id": "sqBDNnXu_Cry"
      }
    },
    {
      "cell_type": "code",
      "execution_count": null,
      "metadata": {
        "id": "y2yKamQw-6Os"
      },
      "outputs": [],
      "source": [
        "iterable = \"I learn Python\"\n",
        "\n",
        "reverser = lambda x : x[::-1]  # x represents iterable here"
      ]
    },
    {
      "cell_type": "code",
      "source": [
        "reverser(iterable)"
      ],
      "metadata": {
        "colab": {
          "base_uri": "https://localhost:8080/",
          "height": 35
        },
        "id": "ougtILGs_KSc",
        "outputId": "eacf1954-a76a-44c0-c593-8a56c1e62733"
      },
      "execution_count": null,
      "outputs": [
        {
          "output_type": "execute_result",
          "data": {
            "text/plain": [
              "'nohtyP nrael I'"
            ],
            "application/vnd.google.colaboratory.intrinsic+json": {
              "type": "string"
            }
          },
          "metadata": {},
          "execution_count": 2
        }
      ]
    },
    {
      "cell_type": "code",
      "source": [
        "(lambda x : x[::-1])([1,2,3])"
      ],
      "metadata": {
        "colab": {
          "base_uri": "https://localhost:8080/"
        },
        "id": "KMMHVXwH_MQ-",
        "outputId": "38547c4e-4f62-4301-a595-9e8cb563d72b"
      },
      "execution_count": null,
      "outputs": [
        {
          "output_type": "execute_result",
          "data": {
            "text/plain": [
              "[3, 2, 1]"
            ]
          },
          "metadata": {},
          "execution_count": 3
        }
      ]
    },
    {
      "cell_type": "markdown",
      "source": [
        "### Task-2\n",
        "\n",
        "**Write a Python program that types ‘even’ or ‘odd’ in accordance with the numbers in a list.**\n",
        "\n",
        "**Use lambda function and loop. Your code must contain no more than 2 lines.** \n",
        "\n",
        "The sample list and desired output are as follows :\n",
        "\n",
        "[1, 2, 3, 4]\n",
        "\n",
        "1 : odd<br>\n",
        "2 : even<br>\n",
        "3 : odd<br>\n",
        "4 : even"
      ],
      "metadata": {
        "id": "Mv8Fmdhl_N-Z"
      }
    },
    {
      "cell_type": "code",
      "source": [
        "(lambda x : \"odd\" if x % 2 != 0 else \"even\")(4)"
      ],
      "metadata": {
        "colab": {
          "base_uri": "https://localhost:8080/",
          "height": 35
        },
        "id": "p-Gd-x-2_WLJ",
        "outputId": "1e804419-4887-41e8-ebc0-547ff379303b"
      },
      "execution_count": null,
      "outputs": [
        {
          "output_type": "execute_result",
          "data": {
            "text/plain": [
              "'even'"
            ],
            "application/vnd.google.colaboratory.intrinsic+json": {
              "type": "string"
            }
          },
          "metadata": {},
          "execution_count": 5
        }
      ]
    },
    {
      "cell_type": "code",
      "source": [
        "numbers = [1,2,3,4,5,6]\n",
        "\n",
        "for i in numbers:\n",
        "    print(i, \":\", (lambda x : \"odd\" if x % 2 != 0 else \"even\")(i)) "
      ],
      "metadata": {
        "colab": {
          "base_uri": "https://localhost:8080/"
        },
        "id": "iK5PdvB8BqSr",
        "outputId": "095d4456-94af-4b2f-91dc-3480d02750bb"
      },
      "execution_count": null,
      "outputs": [
        {
          "output_type": "stream",
          "name": "stdout",
          "text": [
            "1 : odd\n",
            "2 : even\n",
            "3 : odd\n",
            "4 : even\n",
            "5 : odd\n",
            "6 : even\n"
          ]
        }
      ]
    },
    {
      "cell_type": "code",
      "source": [
        "for eleman in numbers :\n",
        "    print(eleman, \":\", (lambda x : \"odd\" if x % 2 != 0 else \"even\")(eleman))"
      ],
      "metadata": {
        "colab": {
          "base_uri": "https://localhost:8080/"
        },
        "id": "s6u4Ro7UBvDL",
        "outputId": "bfcffba4-0496-4fbf-c156-7f121980fb37"
      },
      "execution_count": null,
      "outputs": [
        {
          "output_type": "stream",
          "name": "stdout",
          "text": [
            "1 : odd\n",
            "2 : even\n",
            "3 : odd\n",
            "4 : even\n",
            "5 : odd\n",
            "6 : even\n"
          ]
        }
      ]
    },
    {
      "cell_type": "markdown",
      "source": [
        "### Task-3: Let's write the code using the map() function to return the lengths of the elements in the given list.\n"
      ],
      "metadata": {
        "id": "0_e7U96tE0uQ"
      }
    },
    {
      "cell_type": "code",
      "source": [
        "#I chose random names\n",
        "\n",
        "words = [\"adel\", \"fatih\", \"Nalan\", \"vahdettin\" ]"
      ],
      "metadata": {
        "id": "WOqaibpzE2q1"
      },
      "execution_count": null,
      "outputs": []
    },
    {
      "cell_type": "code",
      "source": [
        "map(len, words)"
      ],
      "metadata": {
        "colab": {
          "base_uri": "https://localhost:8080/"
        },
        "id": "yw5pA0BdE3Kw",
        "outputId": "eaa58483-117a-4ba4-b731-8d29801c63ca"
      },
      "execution_count": null,
      "outputs": [
        {
          "output_type": "execute_result",
          "data": {
            "text/plain": [
              "<map at 0x7efe3929c430>"
            ]
          },
          "metadata": {},
          "execution_count": 12
        }
      ]
    },
    {
      "cell_type": "code",
      "source": [
        "list(map(len, words))"
      ],
      "metadata": {
        "colab": {
          "base_uri": "https://localhost:8080/"
        },
        "id": "KJcmY-wkE3M5",
        "outputId": "52048d2d-8154-4a2f-ab2a-fb7e71088d17"
      },
      "execution_count": null,
      "outputs": [
        {
          "output_type": "execute_result",
          "data": {
            "text/plain": [
              "[4, 5, 5, 9]"
            ]
          },
          "metadata": {},
          "execution_count": 13
        }
      ]
    },
    {
      "cell_type": "code",
      "source": [
        "lengths = map(len, words)"
      ],
      "metadata": {
        "id": "icgOnJOhE3Oz"
      },
      "execution_count": null,
      "outputs": []
    },
    {
      "cell_type": "code",
      "source": [
        "lengths"
      ],
      "metadata": {
        "colab": {
          "base_uri": "https://localhost:8080/"
        },
        "id": "iZJsQJgjFCK9",
        "outputId": "d4bf3ada-2936-4f5f-d949-2766aa68dac1"
      },
      "execution_count": null,
      "outputs": [
        {
          "output_type": "execute_result",
          "data": {
            "text/plain": [
              "<map at 0x7efe3929d5d0>"
            ]
          },
          "metadata": {},
          "execution_count": 15
        }
      ]
    },
    {
      "cell_type": "code",
      "source": [
        "print(* lengths)"
      ],
      "metadata": {
        "colab": {
          "base_uri": "https://localhost:8080/"
        },
        "id": "b8iE7XmyFCNC",
        "outputId": "9d8019d5-a0c1-4a55-8a6d-d8c883cf57d6"
      },
      "execution_count": null,
      "outputs": [
        {
          "output_type": "stream",
          "name": "stdout",
          "text": [
            "4 5 5 9\n"
          ]
        }
      ]
    },
    {
      "cell_type": "markdown",
      "source": [
        "### Task-4: Let's use the map() function and lambda expression to find the squares of all numbers in a list. "
      ],
      "metadata": {
        "id": "7s3RuxoGFMI8"
      }
    },
    {
      "cell_type": "code",
      "source": [
        "square_func = lambda x : x ** 2"
      ],
      "metadata": {
        "id": "sI3ohfnPFOW-"
      },
      "execution_count": null,
      "outputs": []
    },
    {
      "cell_type": "code",
      "source": [
        "iterable = [1, 2, 3, 4, 5]"
      ],
      "metadata": {
        "id": "smqL359MG939"
      },
      "execution_count": null,
      "outputs": []
    },
    {
      "cell_type": "code",
      "source": [
        "result = map(square_func, iterable)"
      ],
      "metadata": {
        "id": "9Y1MtV0cG956"
      },
      "execution_count": null,
      "outputs": []
    },
    {
      "cell_type": "code",
      "source": [
        "print(* result)"
      ],
      "metadata": {
        "colab": {
          "base_uri": "https://localhost:8080/"
        },
        "id": "b5Nf0W4dG994",
        "outputId": "59afb4f4-ea3a-4a17-d41f-0042a75f362d"
      },
      "execution_count": null,
      "outputs": [
        {
          "output_type": "stream",
          "name": "stdout",
          "text": [
            "1 4 9 16 25\n"
          ]
        }
      ]
    },
    {
      "cell_type": "code",
      "source": [
        "print(* (map(lambda x : x ** 2, [1, 2, 3, 4, 5])))"
      ],
      "metadata": {
        "colab": {
          "base_uri": "https://localhost:8080/"
        },
        "id": "4ATasMPAG-AB",
        "outputId": "b989449c-1fb6-4d64-d38f-4f4cac835b31"
      },
      "execution_count": null,
      "outputs": [
        {
          "output_type": "stream",
          "name": "stdout",
          "text": [
            "1 4 9 16 25\n"
          ]
        }
      ]
    },
    {
      "cell_type": "markdown",
      "source": [
        "### Task-5 : Using lambda inside the map() function, write a program that calculates the arithmetic means of two element pairs in the following two lists in accordance with their order and collects them into a list.\n",
        "\n",
        "num1 = [9, 6, 7, 4]<br>\n",
        "num2 = [3, 6, 5, 8]"
      ],
      "metadata": {
        "id": "Q_Y0jRfBKMyB"
      }
    },
    {
      "cell_type": "code",
      "source": [
        "num1 = [9, 6, 7, 4]\n",
        "num2 = [3, 6, 5, 8]\n",
        "\n",
        "print(list(map(lambda x,y: (x+y)//2,num1,num2)))\n",
        "\n"
      ],
      "metadata": {
        "colab": {
          "base_uri": "https://localhost:8080/"
        },
        "id": "eoc2PuzcKPUm",
        "outputId": "d8638421-2595-4b04-9316-9e4f34618e50"
      },
      "execution_count": null,
      "outputs": [
        {
          "output_type": "stream",
          "name": "stdout",
          "text": [
            "[6, 6, 6, 6]\n"
          ]
        }
      ]
    }
  ]
}