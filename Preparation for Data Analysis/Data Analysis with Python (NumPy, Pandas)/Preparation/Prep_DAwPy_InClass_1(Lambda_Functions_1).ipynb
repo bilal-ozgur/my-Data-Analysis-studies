{
  "cells": [
    {
      "cell_type": "markdown",
      "metadata": {
        "id": "view-in-github",
        "colab_type": "text"
      },
      "source": [
        "<a href=\"https://colab.research.google.com/github/bilal-ozgur/Preparation-for-Data-Analysis/blob/main/Prep_DAwPy_InClass_1(Lambda_Functions_1).ipynb\" target=\"_parent\"><img src=\"https://colab.research.google.com/assets/colab-badge.svg\" alt=\"Open In Colab\"/></a>"
      ]
    },
    {
      "cell_type": "markdown",
      "id": "97d2a08c",
      "metadata": {
        "id": "97d2a08c"
      },
      "source": [
        "<a id=\"toc\"></a>\n",
        "\n",
        "## <p style=\"background-color:#0D8D99; font-family:newtimeroman; color:#FFF9ED; font-size:175%; text-align:center; border-radius:10px 10px;\">Prep DAwPy-Session 1(Lambda Functions-1)</p>"
      ]
    },
    {
      "cell_type": "markdown",
      "id": "2a056995",
      "metadata": {
        "id": "2a056995"
      },
      "source": [
        "#### <div class=\"alert alert-block alert-info\"><h1><p style=\"text-align: center; color:purple\"> Lambda Functions<br><br>Defining a Lambda Function<br><br>Uses of the Lambda Functions<br><br>Lambda within Built-in Functions</p> "
      ]
    },
    {
      "cell_type": "markdown",
      "id": "71e9c513",
      "metadata": {
        "id": "71e9c513"
      },
      "source": [
        "**[Python official documentation 1 - Lambda Functions](https://docs.python.org/3/tutorial/controlflow.html#lambda-expressions)**\n",
        "\n",
        "**[Link2 - Python Lambda](https://www.w3schools.com/python/python_lambda.asp)**\n",
        "\n",
        "**[Link3 - Python Lambda Functions](https://www.geeksforgeeks.org/python-lambda-anonymous-functions-filter-map-reduce/)**\n",
        "\n",
        "**[Link4 - Lambda functions with practical examples in python](https://towardsdatascience.com/lambda-functions-with-practical-examples-in-python-45934f3653a8)**"
      ]
    },
    {
      "cell_type": "markdown",
      "id": "4fb2806b",
      "metadata": {
        "id": "4fb2806b"
      },
      "source": [
        "<a id=\"toc\"></a>\n",
        "\n",
        "### <p style=\"background-color:#9d4f8c; font-family:newtimeroman; color:#FFF9ED; font-size:175%; text-align:center; border-radius:10px 10px;\">Defining a Lambda Function</p>"
      ]
    },
    {
      "cell_type": "markdown",
      "id": "7ba3d645",
      "metadata": {
        "id": "7ba3d645"
      },
      "source": [
        "![python.exe](https://drive.google.com/uc?id=1AzQQxtNeHpGcSJmXs4cmsf8oNk59N3-2)"
      ]
    },
    {
      "cell_type": "code",
      "execution_count": 1,
      "id": "8defa2f1",
      "metadata": {
        "id": "8defa2f1"
      },
      "outputs": [],
      "source": [
        "def square(x):\n",
        "    return x ** 2"
      ]
    },
    {
      "cell_type": "code",
      "execution_count": 3,
      "id": "fc67e5d9",
      "metadata": {
        "colab": {
          "base_uri": "https://localhost:8080/"
        },
        "id": "fc67e5d9",
        "outputId": "21e5c36a-ce3a-498b-ccce-7641ec708ddb"
      },
      "outputs": [
        {
          "output_type": "execute_result",
          "data": {
            "text/plain": [
              "<function __main__.<lambda>(x)>"
            ]
          },
          "metadata": {},
          "execution_count": 3
        }
      ],
      "source": [
        "lambda x : x ** 2 \n",
        "\n",
        "# You don't need to use \"return\" keyword in lambda function"
      ]
    },
    {
      "cell_type": "markdown",
      "id": "ca81dc89",
      "metadata": {
        "id": "ca81dc89"
      },
      "source": [
        "![python.exe](https://drive.google.com/uc?id=1cGefoh51VulCljjK2RauVtPjnwX1LhKW)"
      ]
    },
    {
      "cell_type": "code",
      "execution_count": 4,
      "id": "22fdd4f7",
      "metadata": {
        "id": "22fdd4f7"
      },
      "outputs": [],
      "source": [
        "condition = True"
      ]
    },
    {
      "cell_type": "code",
      "execution_count": 6,
      "id": "3fd946be",
      "metadata": {
        "colab": {
          "base_uri": "https://localhost:8080/",
          "height": 35
        },
        "id": "3fd946be",
        "outputId": "18fe3f78-e0ef-4354-9e0c-11126d6f6672"
      },
      "outputs": [
        {
          "output_type": "execute_result",
          "data": {
            "text/plain": [
              "'odd'"
            ],
            "application/vnd.google.colaboratory.intrinsic+json": {
              "type": "string"
            }
          },
          "metadata": {},
          "execution_count": 6
        }
      ],
      "source": [
        "\"odd\" if condition else \"even\"\n"
      ]
    },
    {
      "cell_type": "code",
      "execution_count": 7,
      "id": "e3312da3",
      "metadata": {
        "colab": {
          "base_uri": "https://localhost:8080/"
        },
        "id": "e3312da3",
        "outputId": "fe3c79d1-f996-4060-b18c-1143425a2b9b"
      },
      "outputs": [
        {
          "output_type": "stream",
          "name": "stdout",
          "text": [
            "odd\n"
          ]
        }
      ],
      "source": [
        "print(\"odd\") if condition else print(\"even\")"
      ]
    },
    {
      "cell_type": "code",
      "execution_count": 8,
      "id": "3028e4fc",
      "metadata": {
        "id": "3028e4fc"
      },
      "outputs": [],
      "source": [
        "condition = False"
      ]
    },
    {
      "cell_type": "code",
      "execution_count": 9,
      "id": "9b5c0a59",
      "metadata": {
        "colab": {
          "base_uri": "https://localhost:8080/",
          "height": 35
        },
        "id": "9b5c0a59",
        "outputId": "e40bd013-a39d-4bce-b6b4-3a20a9356e98"
      },
      "outputs": [
        {
          "output_type": "execute_result",
          "data": {
            "text/plain": [
              "'even'"
            ],
            "application/vnd.google.colaboratory.intrinsic+json": {
              "type": "string"
            }
          },
          "metadata": {},
          "execution_count": 9
        }
      ],
      "source": [
        "\"odd\" if condition else \"even\""
      ]
    },
    {
      "cell_type": "code",
      "execution_count": 10,
      "id": "a5538318",
      "metadata": {
        "colab": {
          "base_uri": "https://localhost:8080/"
        },
        "id": "a5538318",
        "outputId": "9f38657a-ba44-4843-a2e5-bed0d4086eab"
      },
      "outputs": [
        {
          "output_type": "execute_result",
          "data": {
            "text/plain": [
              "<function __main__.<lambda>(x)>"
            ]
          },
          "metadata": {},
          "execution_count": 10
        }
      ],
      "source": [
        "lambda x : \"odd\" if x % 2 != 0 else \"even\""
      ]
    },
    {
      "cell_type": "code",
      "execution_count": 11,
      "id": "3e62b059",
      "metadata": {
        "colab": {
          "base_uri": "https://localhost:8080/"
        },
        "id": "3e62b059",
        "outputId": "9e83fad9-f246-4b49-870a-933c27d310c0"
      },
      "outputs": [
        {
          "output_type": "execute_result",
          "data": {
            "text/plain": [
              "function"
            ]
          },
          "metadata": {},
          "execution_count": 11
        }
      ],
      "source": [
        "type(lambda x : \"odd\" if x % 2 != 0 else \"even\")"
      ]
    },
    {
      "cell_type": "markdown",
      "id": "59a7684d",
      "metadata": {
        "id": "59a7684d"
      },
      "source": [
        "<a id=\"toc\"></a>\n",
        "\n",
        "### <p style=\"background-color:#9d4f8c; font-family:newtimeroman; color:#FFF9ED; font-size:175%; text-align:center; border-radius:10px 10px;\">Uses of the Lambda Functions</p>"
      ]
    },
    {
      "cell_type": "markdown",
      "id": "e76e39a8",
      "metadata": {
        "id": "e76e39a8"
      },
      "source": [
        "### 1. use : Using a lambda function by enclosing it in parentheses"
      ]
    },
    {
      "cell_type": "code",
      "execution_count": 12,
      "id": "2b5f55f2",
      "metadata": {
        "colab": {
          "base_uri": "https://localhost:8080/",
          "height": 35
        },
        "id": "2b5f55f2",
        "outputId": "5979f4dd-8337-409b-f4a0-7910dbae304c"
      },
      "outputs": [
        {
          "output_type": "execute_result",
          "data": {
            "text/plain": [
              "'even'"
            ],
            "application/vnd.google.colaboratory.intrinsic+json": {
              "type": "string"
            }
          },
          "metadata": {},
          "execution_count": 12
        }
      ],
      "source": [
        "(lambda x : \"odd\" if x % 2 != 0 else \"even\")(4) "
      ]
    },
    {
      "cell_type": "markdown",
      "id": "18d4c793",
      "metadata": {
        "id": "18d4c793"
      },
      "source": [
        "### 2. use : Using a lambda function by assigning it to a variable :"
      ]
    },
    {
      "cell_type": "code",
      "execution_count": 13,
      "id": "fe30b4e3",
      "metadata": {
        "id": "fe30b4e3"
      },
      "outputs": [],
      "source": [
        "odd_even = (lambda x : \"odd\" if x % 2 != 0 else \"even\")"
      ]
    },
    {
      "cell_type": "code",
      "execution_count": 14,
      "id": "6eb9669f",
      "metadata": {
        "colab": {
          "base_uri": "https://localhost:8080/"
        },
        "id": "6eb9669f",
        "outputId": "f973d48d-3ffd-4621-f319-359366c3e1f1"
      },
      "outputs": [
        {
          "output_type": "execute_result",
          "data": {
            "text/plain": [
              "<function __main__.<lambda>(x)>"
            ]
          },
          "metadata": {},
          "execution_count": 14
        }
      ],
      "source": [
        "odd_even"
      ]
    },
    {
      "cell_type": "code",
      "execution_count": 15,
      "id": "b8164452",
      "metadata": {
        "colab": {
          "base_uri": "https://localhost:8080/",
          "height": 35
        },
        "id": "b8164452",
        "outputId": "c0a0c0b7-dbad-499f-f6c1-f1e73006d4d3"
      },
      "outputs": [
        {
          "output_type": "execute_result",
          "data": {
            "text/plain": [
              "'odd'"
            ],
            "application/vnd.google.colaboratory.intrinsic+json": {
              "type": "string"
            }
          },
          "metadata": {},
          "execution_count": 15
        }
      ],
      "source": [
        "odd_even(3)"
      ]
    },
    {
      "cell_type": "code",
      "execution_count": 16,
      "id": "40620ece",
      "metadata": {
        "id": "40620ece"
      },
      "outputs": [],
      "source": [
        "odd_even_arg = (lambda x : \"odd\" if x % 2 != 0 else \"even\")(4)"
      ]
    },
    {
      "cell_type": "code",
      "execution_count": 17,
      "id": "dad0c7d8",
      "metadata": {
        "colab": {
          "base_uri": "https://localhost:8080/",
          "height": 35
        },
        "id": "dad0c7d8",
        "outputId": "ee3fbaeb-9bd7-4f3c-9c4d-343a47909d06"
      },
      "outputs": [
        {
          "output_type": "execute_result",
          "data": {
            "text/plain": [
              "'even'"
            ],
            "application/vnd.google.colaboratory.intrinsic+json": {
              "type": "string"
            }
          },
          "metadata": {},
          "execution_count": 17
        }
      ],
      "source": [
        "odd_even_arg"
      ]
    },
    {
      "cell_type": "code",
      "execution_count": 18,
      "id": "d5ae6a12",
      "metadata": {
        "colab": {
          "base_uri": "https://localhost:8080/"
        },
        "id": "d5ae6a12",
        "outputId": "d0dadcc9-66c5-4b96-f64b-2ab1218923ba"
      },
      "outputs": [
        {
          "output_type": "stream",
          "name": "stdout",
          "text": [
            "4.0\n"
          ]
        }
      ],
      "source": [
        "print((lambda x, y : (x + y)/2)(3, 5))"
      ]
    },
    {
      "cell_type": "code",
      "execution_count": 19,
      "id": "00340e4c",
      "metadata": {
        "colab": {
          "base_uri": "https://localhost:8080/"
        },
        "id": "00340e4c",
        "outputId": "1ac91758-36e4-4fd0-808c-731014b0d28e"
      },
      "outputs": [
        {
          "output_type": "stream",
          "name": "stdout",
          "text": [
            "4.0\n"
          ]
        }
      ],
      "source": [
        "average = (lambda x, y : (x + y)/2)\n",
        "\n",
        "print(average(3,5))"
      ]
    },
    {
      "cell_type": "code",
      "execution_count": 20,
      "id": "4dd60f37",
      "metadata": {
        "colab": {
          "base_uri": "https://localhost:8080/"
        },
        "id": "4dd60f37",
        "outputId": "6d2e20b5-7e91-4a4b-b4eb-a33eedec2f63"
      },
      "outputs": [
        {
          "output_type": "stream",
          "name": "stdout",
          "text": [
            "4.0\n"
          ]
        }
      ],
      "source": [
        "average = (lambda x, y : (x + y)/2)(3, 5)\n",
        "\n",
        "print(average)"
      ]
    },
    {
      "cell_type": "code",
      "execution_count": 21,
      "id": "ee63ad0c",
      "metadata": {
        "colab": {
          "base_uri": "https://localhost:8080/"
        },
        "id": "ee63ad0c",
        "outputId": "e6e9b452-ff8d-4297-d25e-68241708cc81"
      },
      "outputs": [
        {
          "output_type": "execute_result",
          "data": {
            "text/plain": [
              "<function __main__.<lambda>(x, y)>"
            ]
          },
          "metadata": {},
          "execution_count": 21
        }
      ],
      "source": [
        "average = lambda x, y : (x + y) / 2\n",
        "average"
      ]
    },
    {
      "cell_type": "code",
      "execution_count": 22,
      "id": "8e33f9c4",
      "metadata": {
        "colab": {
          "base_uri": "https://localhost:8080/"
        },
        "id": "8e33f9c4",
        "outputId": "2aa3dd15-e8cd-443d-8ccc-d090ad83b357"
      },
      "outputs": [
        {
          "output_type": "execute_result",
          "data": {
            "text/plain": [
              "4.0"
            ]
          },
          "metadata": {},
          "execution_count": 22
        }
      ],
      "source": [
        "average(3,5)"
      ]
    },
    {
      "cell_type": "markdown",
      "id": "039fffef",
      "metadata": {
        "id": "039fffef"
      },
      "source": [
        "### Task:\n",
        "\n",
        "**Define a lambda function to reverse the elements of any iterables.** \n",
        "\n",
        "**Use parentheses for arguments and print the result.**"
      ]
    },
    {
      "cell_type": "code",
      "execution_count": 23,
      "id": "4e376966",
      "metadata": {
        "colab": {
          "base_uri": "https://localhost:8080/",
          "height": 35
        },
        "id": "4e376966",
        "outputId": "ee140ae8-d47d-4517-9c2c-e019604feccf"
      },
      "outputs": [
        {
          "output_type": "execute_result",
          "data": {
            "text/plain": [
              "'ila'"
            ],
            "application/vnd.google.colaboratory.intrinsic+json": {
              "type": "string"
            }
          },
          "metadata": {},
          "execution_count": 23
        }
      ],
      "source": [
        "\"ali\"[::-1]"
      ]
    },
    {
      "cell_type": "code",
      "execution_count": 25,
      "id": "5cf35da2",
      "metadata": {
        "id": "5cf35da2"
      },
      "outputs": [],
      "source": [
        "iterable = \"I learn Python\"\n",
        "\n",
        "reverser = lambda x : x[::-1]  # x represents iterable here"
      ]
    },
    {
      "cell_type": "code",
      "execution_count": 26,
      "id": "04752ffd",
      "metadata": {
        "colab": {
          "base_uri": "https://localhost:8080/"
        },
        "id": "04752ffd",
        "outputId": "da1c3039-a02e-4cfc-ca16-29ffef1bc793"
      },
      "outputs": [
        {
          "output_type": "execute_result",
          "data": {
            "text/plain": [
              "<function __main__.<lambda>(x)>"
            ]
          },
          "metadata": {},
          "execution_count": 26
        }
      ],
      "source": [
        "reverser"
      ]
    },
    {
      "cell_type": "code",
      "execution_count": 27,
      "id": "7a69307d",
      "metadata": {
        "colab": {
          "base_uri": "https://localhost:8080/",
          "height": 35
        },
        "id": "7a69307d",
        "outputId": "405729bd-02d9-48bf-9b3b-2c152636e9ac"
      },
      "outputs": [
        {
          "output_type": "execute_result",
          "data": {
            "text/plain": [
              "'nohtyP nrael I'"
            ],
            "application/vnd.google.colaboratory.intrinsic+json": {
              "type": "string"
            }
          },
          "metadata": {},
          "execution_count": 27
        }
      ],
      "source": [
        "reverser(iterable)"
      ]
    },
    {
      "cell_type": "code",
      "execution_count": 28,
      "id": "6306cc8e",
      "metadata": {
        "colab": {
          "base_uri": "https://localhost:8080/"
        },
        "id": "6306cc8e",
        "outputId": "647bf2ff-e61e-4297-b068-8e7c4a25bcae"
      },
      "outputs": [
        {
          "output_type": "execute_result",
          "data": {
            "text/plain": [
              "[3, 2, 1]"
            ]
          },
          "metadata": {},
          "execution_count": 28
        }
      ],
      "source": [
        "(lambda x : x[::-1])([1,2,3])"
      ]
    },
    {
      "cell_type": "markdown",
      "id": "476e8775",
      "metadata": {
        "id": "476e8775"
      },
      "source": [
        "### Task\n",
        "\n",
        "**Write a Python program that types ‘even’ or ‘odd’ in accordance with the numbers in a list.**\n",
        "\n",
        "**Use lambda function and loop. Your code must contain no more than 2 lines.** \n",
        "\n",
        "The sample list and desired output are as follows :\n",
        "\n",
        "[1, 2, 3, 4]\n",
        "\n",
        "1 : odd<br>\n",
        "2 : even<br>\n",
        "3 : odd<br>\n",
        "4 : even"
      ]
    },
    {
      "cell_type": "code",
      "execution_count": 29,
      "id": "fe5d933b",
      "metadata": {
        "colab": {
          "base_uri": "https://localhost:8080/",
          "height": 35
        },
        "id": "fe5d933b",
        "outputId": "7304103b-90fb-49d1-ff3d-41e128634a9d"
      },
      "outputs": [
        {
          "output_type": "execute_result",
          "data": {
            "text/plain": [
              "'even'"
            ],
            "application/vnd.google.colaboratory.intrinsic+json": {
              "type": "string"
            }
          },
          "metadata": {},
          "execution_count": 29
        }
      ],
      "source": [
        "(lambda x : \"odd\" if x % 2 != 0 else \"even\")(4)"
      ]
    },
    {
      "cell_type": "code",
      "execution_count": 30,
      "id": "75f8b367",
      "metadata": {
        "colab": {
          "base_uri": "https://localhost:8080/"
        },
        "id": "75f8b367",
        "outputId": "1ad33b5a-7d39-4193-e4b7-c88d7809ae76"
      },
      "outputs": [
        {
          "output_type": "stream",
          "name": "stdout",
          "text": [
            "1 : odd\n",
            "2 : even\n",
            "3 : odd\n",
            "4 : even\n",
            "5 : odd\n",
            "6 : even\n"
          ]
        }
      ],
      "source": [
        "numbers = [1,2,3,4,5,6]\n",
        "\n",
        "for i in numbers:\n",
        "    print(i, \":\", (lambda x : \"odd\" if x % 2 != 0 else \"even\")(i)) "
      ]
    },
    {
      "cell_type": "code",
      "execution_count": 31,
      "id": "2f12ab80",
      "metadata": {
        "colab": {
          "base_uri": "https://localhost:8080/"
        },
        "id": "2f12ab80",
        "outputId": "fc2d3188-7bf8-4318-9b59-c699e729d190"
      },
      "outputs": [
        {
          "output_type": "stream",
          "name": "stdout",
          "text": [
            "1 : odd\n",
            "2 : even\n",
            "3 : odd\n",
            "4 : even\n",
            "5 : odd\n",
            "6 : even\n"
          ]
        }
      ],
      "source": [
        "for eleman in numbers :\n",
        "    print(eleman, \":\", (lambda x : \"odd\" if x % 2 != 0 else \"even\")(eleman))"
      ]
    },
    {
      "cell_type": "code",
      "execution_count": 32,
      "id": "69662502",
      "metadata": {
        "id": "69662502"
      },
      "outputs": [],
      "source": [
        "iterable = \"I love Python\""
      ]
    },
    {
      "cell_type": "code",
      "execution_count": 37,
      "id": "5244daa3",
      "metadata": {
        "id": "5244daa3"
      },
      "outputs": [],
      "source": [
        "reverser = lambda x : x[::-1]"
      ]
    },
    {
      "cell_type": "code",
      "execution_count": 35,
      "id": "7327564b",
      "metadata": {
        "colab": {
          "base_uri": "https://localhost:8080/"
        },
        "id": "7327564b",
        "outputId": "0cafaf86-b5b5-47cd-e71c-a019938d9d3b"
      },
      "outputs": [
        {
          "output_type": "execute_result",
          "data": {
            "text/plain": [
              "<function __main__.<lambda>(x)>"
            ]
          },
          "metadata": {},
          "execution_count": 35
        }
      ],
      "source": [
        "reverser"
      ]
    },
    {
      "cell_type": "code",
      "execution_count": 36,
      "id": "473382d9",
      "metadata": {
        "colab": {
          "base_uri": "https://localhost:8080/",
          "height": 35
        },
        "id": "473382d9",
        "outputId": "bf257590-25b3-4da8-a7cf-b522d3fc53f6"
      },
      "outputs": [
        {
          "output_type": "execute_result",
          "data": {
            "text/plain": [
              "'nohtyP evol I'"
            ],
            "application/vnd.google.colaboratory.intrinsic+json": {
              "type": "string"
            }
          },
          "metadata": {},
          "execution_count": 36
        }
      ],
      "source": [
        "reverser(iterable)"
      ]
    },
    {
      "cell_type": "markdown",
      "id": "a7370b13",
      "metadata": {
        "id": "a7370b13"
      },
      "source": [
        "<a id=\"toc\"></a>\n",
        "\n",
        "### <p style=\"background-color:#9d4f8c; font-family:newtimeroman; color:#FFF9ED; font-size:175%; text-align:center; border-radius:10px 10px;\">Lambda within Built-in Functions</p>"
      ]
    },
    {
      "cell_type": "markdown",
      "id": "d2786d19",
      "metadata": {
        "id": "d2786d19"
      },
      "source": [
        "<a id=\"toc\"></a>\n",
        "\n",
        "### <p style=\"background-color:#0D8D99; font-family:newtimeroman; color:#FFF9ED; font-size:175%; text-align:center; border-radius:10px 10px;\">map() function</p>"
      ]
    },
    {
      "cell_type": "markdown",
      "id": "debaf00f",
      "metadata": {
        "id": "debaf00f"
      },
      "source": [
        "**map(func, *iterables) --> map object**\n",
        "\n",
        "Make an iterator that computes the function using arguments from\n",
        "each of the iterables.  Stops when the shortest iterable is exhausted."
      ]
    },
    {
      "cell_type": "markdown",
      "id": "3da2fbe5",
      "metadata": {
        "id": "3da2fbe5"
      },
      "source": [
        "### Task: Let's write the code using the map() function to return the lengths of the elements in the given list."
      ]
    },
    {
      "cell_type": "code",
      "execution_count": 38,
      "id": "d8b63c87",
      "metadata": {
        "id": "d8b63c87"
      },
      "outputs": [],
      "source": [
        "#choose random names\n",
        "\n",
        "words = [\"adel\", \"fatih\", \"Nalan\", \"vahdettin\" ]"
      ]
    },
    {
      "cell_type": "code",
      "execution_count": 39,
      "id": "42dbbd44",
      "metadata": {
        "colab": {
          "base_uri": "https://localhost:8080/"
        },
        "id": "42dbbd44",
        "outputId": "daf39b13-9c18-4d00-acff-1c674da4ca45"
      },
      "outputs": [
        {
          "output_type": "execute_result",
          "data": {
            "text/plain": [
              "<map at 0x7fa93f9a56f0>"
            ]
          },
          "metadata": {},
          "execution_count": 39
        }
      ],
      "source": [
        "map(len, words)"
      ]
    },
    {
      "cell_type": "code",
      "execution_count": 40,
      "id": "e0764dd6",
      "metadata": {
        "colab": {
          "base_uri": "https://localhost:8080/"
        },
        "id": "e0764dd6",
        "outputId": "7e0c365f-954e-4760-c08e-8f7bc2965769"
      },
      "outputs": [
        {
          "output_type": "execute_result",
          "data": {
            "text/plain": [
              "[4, 5, 5, 9]"
            ]
          },
          "metadata": {},
          "execution_count": 40
        }
      ],
      "source": [
        "list(map(len, words))"
      ]
    },
    {
      "cell_type": "code",
      "execution_count": 48,
      "id": "daad1f44",
      "metadata": {
        "id": "daad1f44"
      },
      "outputs": [],
      "source": [
        "lengths = map(len, words)"
      ]
    },
    {
      "cell_type": "code",
      "execution_count": 47,
      "id": "6d25970d",
      "metadata": {
        "colab": {
          "base_uri": "https://localhost:8080/"
        },
        "id": "6d25970d",
        "outputId": "62438024-c58e-49ce-ccb1-bea79cd7f1bc"
      },
      "outputs": [
        {
          "output_type": "execute_result",
          "data": {
            "text/plain": [
              "<map at 0x7fa93f9a6c80>"
            ]
          },
          "metadata": {},
          "execution_count": 47
        }
      ],
      "source": [
        "lengths"
      ]
    },
    {
      "cell_type": "code",
      "execution_count": 43,
      "id": "e23a250d",
      "metadata": {
        "colab": {
          "base_uri": "https://localhost:8080/"
        },
        "id": "e23a250d",
        "outputId": "a24d7303-0d54-46be-fbf7-ea2db63e1515"
      },
      "outputs": [
        {
          "output_type": "stream",
          "name": "stdout",
          "text": [
            "4 5 5 9\n"
          ]
        }
      ],
      "source": [
        "print(* lengths)"
      ]
    },
    {
      "cell_type": "code",
      "execution_count": 44,
      "id": "6b645092",
      "metadata": {
        "colab": {
          "base_uri": "https://localhost:8080/"
        },
        "id": "6b645092",
        "outputId": "80bf57d9-7248-46fd-a46b-a5b1dc4ec450"
      },
      "outputs": [
        {
          "output_type": "stream",
          "name": "stdout",
          "text": [
            "[4, 5, 5, 9]\n"
          ]
        }
      ],
      "source": [
        "lengths = []\n",
        "\n",
        "for i in words :\n",
        "    lengths.append(len(i))\n",
        "print(lengths)"
      ]
    },
    {
      "cell_type": "markdown",
      "id": "5a8c4a20",
      "metadata": {
        "id": "5a8c4a20"
      },
      "source": [
        "### Task: Let's use the map() function and lambda expression to find the squares of all numbers in a list. "
      ]
    },
    {
      "cell_type": "code",
      "execution_count": 50,
      "id": "6ea9083f",
      "metadata": {
        "id": "6ea9083f"
      },
      "outputs": [],
      "source": [
        "square_func = lambda x : x ** 2"
      ]
    },
    {
      "cell_type": "code",
      "execution_count": 51,
      "id": "31975626",
      "metadata": {
        "id": "31975626"
      },
      "outputs": [],
      "source": [
        "iterable = [1, 2, 3, 4, 5]"
      ]
    },
    {
      "cell_type": "code",
      "execution_count": 52,
      "id": "ba175ae4",
      "metadata": {
        "id": "ba175ae4"
      },
      "outputs": [],
      "source": [
        "# i = {1, 3, 2, 5, 5, 4, 5}\n",
        "# list(map(lambda x : x ** 2, i))"
      ]
    },
    {
      "cell_type": "code",
      "execution_count": 53,
      "id": "67a52a74",
      "metadata": {
        "id": "67a52a74"
      },
      "outputs": [],
      "source": [
        "result = map(square_func, iterable)"
      ]
    },
    {
      "cell_type": "code",
      "execution_count": 54,
      "id": "d0a651f6",
      "metadata": {
        "colab": {
          "base_uri": "https://localhost:8080/"
        },
        "id": "d0a651f6",
        "outputId": "92006ed9-7ee9-453a-d736-f54539d09154"
      },
      "outputs": [
        {
          "output_type": "stream",
          "name": "stdout",
          "text": [
            "1 4 9 16 25\n"
          ]
        }
      ],
      "source": [
        "print(* result)"
      ]
    },
    {
      "cell_type": "code",
      "execution_count": 55,
      "id": "1fcdf75a",
      "metadata": {
        "colab": {
          "base_uri": "https://localhost:8080/"
        },
        "id": "1fcdf75a",
        "outputId": "315e0f65-3864-400f-fc1f-26759a86f06e"
      },
      "outputs": [
        {
          "output_type": "stream",
          "name": "stdout",
          "text": [
            "1 4 9 16 25\n"
          ]
        }
      ],
      "source": [
        "print(* (map(lambda x : x ** 2, [1, 2, 3, 4, 5])))"
      ]
    },
    {
      "cell_type": "code",
      "execution_count": 56,
      "id": "13ee423c",
      "metadata": {
        "colab": {
          "base_uri": "https://localhost:8080/"
        },
        "id": "13ee423c",
        "outputId": "e20c2492-9233-42a9-fd94-af77cc67241d"
      },
      "outputs": [
        {
          "output_type": "stream",
          "name": "stdout",
          "text": [
            "1 4 9 16 25 "
          ]
        }
      ],
      "source": [
        "result = map(square_func, iterable)\n",
        "\n",
        "for i in result :\n",
        "    print(i, end = \" \")"
      ]
    },
    {
      "cell_type": "code",
      "execution_count": 57,
      "id": "837df3b6",
      "metadata": {
        "colab": {
          "base_uri": "https://localhost:8080/"
        },
        "id": "837df3b6",
        "outputId": "39d5b0d6-f28c-4435-b960-468eecb07831"
      },
      "outputs": [
        {
          "output_type": "stream",
          "name": "stdout",
          "text": [
            "1 4 9 16 25 "
          ]
        }
      ],
      "source": [
        "for i in map(square_func, iterable) :\n",
        "    print(i, end = \" \")"
      ]
    },
    {
      "cell_type": "code",
      "execution_count": 58,
      "id": "ccd60d6b",
      "metadata": {
        "id": "ccd60d6b"
      },
      "outputs": [],
      "source": [
        "# result = map(square_func, iterable)\n",
        "\n",
        "# list(result)"
      ]
    },
    {
      "cell_type": "code",
      "execution_count": 59,
      "id": "da2291a9",
      "metadata": {
        "id": "da2291a9"
      },
      "outputs": [],
      "source": [
        "# list(map(square_func, iterable))"
      ]
    },
    {
      "cell_type": "code",
      "execution_count": 60,
      "id": "f92884a5",
      "metadata": {
        "id": "f92884a5"
      },
      "outputs": [],
      "source": [
        "def square(x) :\n",
        "    return x ** 2"
      ]
    },
    {
      "cell_type": "code",
      "execution_count": 61,
      "id": "d9f806a9",
      "metadata": {
        "colab": {
          "base_uri": "https://localhost:8080/"
        },
        "id": "d9f806a9",
        "outputId": "b2585c7a-e7a5-4475-a827-88ccea66993c"
      },
      "outputs": [
        {
          "output_type": "execute_result",
          "data": {
            "text/plain": [
              "[1, 4, 9, 16, 25]"
            ]
          },
          "metadata": {},
          "execution_count": 61
        }
      ],
      "source": [
        "iterable = [1, 2, 3, 4, 5]\n",
        "\n",
        "list(map(square, iterable))  "
      ]
    },
    {
      "cell_type": "code",
      "execution_count": 62,
      "id": "21a6acd5",
      "metadata": {
        "id": "21a6acd5"
      },
      "outputs": [],
      "source": [
        "sum_or_concat = lambda x, y, z : x + y + z"
      ]
    },
    {
      "cell_type": "code",
      "execution_count": 63,
      "id": "6452e327",
      "metadata": {
        "colab": {
          "base_uri": "https://localhost:8080/",
          "height": 35
        },
        "id": "6452e327",
        "outputId": "28922d9d-e79e-49eb-8799-12bf32b7327d"
      },
      "outputs": [
        {
          "output_type": "execute_result",
          "data": {
            "text/plain": [
              "'ali'"
            ],
            "application/vnd.google.colaboratory.intrinsic+json": {
              "type": "string"
            }
          },
          "metadata": {},
          "execution_count": 63
        }
      ],
      "source": [
        "sum_or_concat(\"a\", \"l\", \"i\")"
      ]
    },
    {
      "cell_type": "code",
      "execution_count": 64,
      "id": "2772719d",
      "metadata": {
        "colab": {
          "base_uri": "https://localhost:8080/"
        },
        "id": "2772719d",
        "outputId": "ab01dd77-0caa-4a5f-ee34-7f0157546630"
      },
      "outputs": [
        {
          "output_type": "execute_result",
          "data": {
            "text/plain": [
              "99"
            ]
          },
          "metadata": {},
          "execution_count": 64
        }
      ],
      "source": [
        "sum_or_concat(11, 78, 10)"
      ]
    },
    {
      "cell_type": "markdown",
      "id": "479a088b",
      "metadata": {
        "id": "479a088b"
      },
      "source": [
        "### Task : Using lambda inside the map() function, write a program that calculates the arithmetic means of two element pairs in the following two lists in accordance with their order and collects them into a list.\n",
        "\n",
        "num1 = [9, 6, 7, 4]<br>\n",
        "num2 = [3, 6, 5, 8]"
      ]
    },
    {
      "cell_type": "code",
      "execution_count": 65,
      "id": "53299ff0",
      "metadata": {
        "colab": {
          "base_uri": "https://localhost:8080/"
        },
        "id": "53299ff0",
        "outputId": "0a7a3d1c-dc65-4dae-aa42-b8e28a8c7012"
      },
      "outputs": [
        {
          "output_type": "execute_result",
          "data": {
            "text/plain": [
              "<function __main__.<lambda>(x, y)>"
            ]
          },
          "metadata": {},
          "execution_count": 65
        }
      ],
      "source": [
        "lambda x, y : (x + y) / 2 "
      ]
    },
    {
      "cell_type": "code",
      "execution_count": 66,
      "id": "dd748a17",
      "metadata": {
        "id": "dd748a17"
      },
      "outputs": [],
      "source": [
        "func = lambda x, y : (x + y) / 2 "
      ]
    },
    {
      "cell_type": "code",
      "execution_count": 67,
      "id": "d00fa2fa",
      "metadata": {
        "id": "d00fa2fa"
      },
      "outputs": [],
      "source": [
        "num1 = [9, 6, 7, 4]\n",
        "num2 = [3, 6, 5, 8]"
      ]
    },
    {
      "cell_type": "code",
      "execution_count": 68,
      "id": "eba92be7",
      "metadata": {
        "id": "eba92be7"
      },
      "outputs": [],
      "source": [
        "numbers = map(func, num1, num2)"
      ]
    },
    {
      "cell_type": "code",
      "execution_count": 69,
      "id": "dc2778f8",
      "metadata": {
        "colab": {
          "base_uri": "https://localhost:8080/"
        },
        "id": "dc2778f8",
        "outputId": "790db020-217c-456a-ed43-150c9d3daeaf"
      },
      "outputs": [
        {
          "output_type": "stream",
          "name": "stdout",
          "text": [
            "[6.0, 6.0, 6.0, 6.0]\n"
          ]
        }
      ],
      "source": [
        "print(list(numbers))"
      ]
    }
  ],
  "metadata": {
    "kernelspec": {
      "display_name": "Python 3 (ipykernel)",
      "language": "python",
      "name": "python3"
    },
    "language_info": {
      "codemirror_mode": {
        "name": "ipython",
        "version": 3
      },
      "file_extension": ".py",
      "mimetype": "text/x-python",
      "name": "python",
      "nbconvert_exporter": "python",
      "pygments_lexer": "ipython3",
      "version": "3.11.3"
    },
    "colab": {
      "provenance": [],
      "include_colab_link": true
    }
  },
  "nbformat": 4,
  "nbformat_minor": 5
}