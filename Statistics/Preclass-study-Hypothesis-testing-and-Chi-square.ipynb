{
 "cells": [
  {
   "cell_type": "markdown",
   "id": "1a93bf9f",
   "metadata": {},
   "source": [
    "<font color=\"blue\">To reach maximum efficiency in performing an assembly operation in a manufacturing plant, new employees require approximately a 1-month training period. A new method of training was suggested, and a test was conducted to compare the new method with the standard procedure.</font>\n",
    "\n",
    "<font color=\"green\">Two groups of nine new employees each were trained for a period of 3 weeks, one group using the new method and the other following the standard training procedure. The length of time (in minutes) required for each employee to assemble the device was recorded at the end of the 3-week period.</font>\n"
   ]
  },
  {
   "cell_type": "code",
   "execution_count": 1,
   "id": "2615d90a",
   "metadata": {},
   "outputs": [],
   "source": [
    "import numpy as np\n",
    "from scipy import stats"
   ]
  },
  {
   "cell_type": "code",
   "execution_count": 2,
   "id": "161fa21b",
   "metadata": {},
   "outputs": [
    {
     "name": "stdout",
     "output_type": "stream",
     "text": [
      "Standard Procedure: [32 37 35 28 41 44 35 31 34]\n",
      "New Procedure: [35 31 29 25 34 40 27 32 31]\n"
     ]
    }
   ],
   "source": [
    "standard = np.array([32, 37, 35, 28, 41, 44, 35, 31, 34])\n",
    "new = np.array([35, 31, 29, 25, 34, 40, 27, 32, 31])\n",
    "print(\"Standard Procedure:\", standard)\n",
    "print(\"New Procedure:\", new)"
   ]
  },
  {
   "cell_type": "markdown",
   "id": "a53c8512",
   "metadata": {},
   "source": [
    "# Calculate test statistics and p-value using stats.ttest_ind():"
   ]
  },
  {
   "cell_type": "code",
   "execution_count": 3,
   "id": "16b7c75f",
   "metadata": {},
   "outputs": [
    {
     "data": {
      "text/plain": [
       "Ttest_indResult(statistic=1.6494846165734016, pvalue=0.11853980248116995)"
      ]
     },
     "execution_count": 3,
     "metadata": {},
     "output_type": "execute_result"
    }
   ],
   "source": [
    "stats.ttest_ind(standard, new, equal_var=True, alternative='two-sided')   #assumes equal population variances"
   ]
  },
  {
   "cell_type": "markdown",
   "id": "eeca56ad",
   "metadata": {},
   "source": [
    "# Calculate test statistics and p-value using stats.ttest_ind_from_stats:"
   ]
  },
  {
   "cell_type": "code",
   "execution_count": 4,
   "id": "b213fe73",
   "metadata": {},
   "outputs": [
    {
     "data": {
      "text/plain": [
       "Ttest_indResult(statistic=1.6494846165734016, pvalue=0.11853980248116995)"
      ]
     },
     "execution_count": 4,
     "metadata": {},
     "output_type": "execute_result"
    }
   ],
   "source": [
    "independent_t_test = stats.ttest_ind_from_stats(mean1=np.mean(standard), \n",
    "                           std1=np.std(standard, ddof=1), \n",
    "                           nobs1=np.size(standard),\n",
    "                           mean2=np.mean(new)     , \n",
    "                           std2=np.std(new, ddof=1),      \n",
    "                           nobs2=np.size(new))\n",
    "independent_t_test"
   ]
  },
  {
   "cell_type": "markdown",
   "id": "1c5dfb74",
   "metadata": {},
   "source": [
    "# There is insufficient evidence to indicate a difference in the mean assembly times for the two training periods at the α = .05 level of significance."
   ]
  },
  {
   "cell_type": "code",
   "execution_count": 5,
   "id": "f2ac40ee",
   "metadata": {},
   "outputs": [
    {
     "name": "stdout",
     "output_type": "stream",
     "text": [
      "At 0.05 level of significance, we fail to reject the null hypothesis.\n"
     ]
    }
   ],
   "source": [
    "alpha = 0.05\n",
    "\n",
    "if independent_t_test.pvalue<alpha:\n",
    "    print('At {} level of significance, we can reject the null hypothesis in favor of alternative hypothesis.'.format(alpha))\n",
    "else:\n",
    "    print('At {} level of significance, we fail to reject the null hypothesis.'.format(alpha))"
   ]
  },
  {
   "cell_type": "markdown",
   "id": "7dae085d",
   "metadata": {},
   "source": [
    "# Chi-square Test using SciPy"
   ]
  },
  {
   "cell_type": "code",
   "execution_count": 6,
   "id": "ea310fc8",
   "metadata": {},
   "outputs": [],
   "source": [
    "from scipy.stats import chisquare\n",
    "observed = [24, 9, 13, 289, 100, 565]\n",
    "expected = [14.4, 5, 26.6, 298.6, 104, 551.4]"
   ]
  },
  {
   "cell_type": "code",
   "execution_count": 7,
   "id": "ddc21e51",
   "metadata": {},
   "outputs": [
    {
     "data": {
      "text/plain": [
       "Power_divergenceResult(statistic=17.351307003271312, pvalue=0.0005983748960276381)"
      ]
     },
     "execution_count": 7,
     "metadata": {},
     "output_type": "execute_result"
    }
   ],
   "source": [
    "chisquare(observed, expected, ddof=2)"
   ]
  },
  {
   "cell_type": "code",
   "execution_count": null,
   "id": "b5b61860",
   "metadata": {},
   "outputs": [],
   "source": []
  },
  {
   "cell_type": "code",
   "execution_count": null,
   "id": "d8164026",
   "metadata": {},
   "outputs": [],
   "source": []
  }
 ],
 "metadata": {
  "kernelspec": {
   "display_name": "Python 3 (ipykernel)",
   "language": "python",
   "name": "python3"
  },
  "language_info": {
   "codemirror_mode": {
    "name": "ipython",
    "version": 3
   },
   "file_extension": ".py",
   "mimetype": "text/x-python",
   "name": "python",
   "nbconvert_exporter": "python",
   "pygments_lexer": "ipython3",
   "version": "3.10.9"
  }
 },
 "nbformat": 4,
 "nbformat_minor": 5
}
